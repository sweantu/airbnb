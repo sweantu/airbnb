{
 "cells": [
  {
   "cell_type": "code",
   "execution_count": 1,
   "id": "e2ca2a4c-e3d2-498f-91f4-0e1e197e3624",
   "metadata": {},
   "outputs": [
    {
     "name": "stderr",
     "output_type": "stream",
     "text": [
      "Setting default log level to \"WARN\".\n",
      "To adjust logging level use sc.setLogLevel(newLevel). For SparkR, use setLogLevel(newLevel).\n",
      "25/08/15 07:32:06 WARN NativeCodeLoader: Unable to load native-hadoop library for your platform... using builtin-java classes where applicable\n"
     ]
    }
   ],
   "source": [
    "import pyspark\n",
    "from pyspark.sql import SparkSession\n",
    "\n",
    "spark = SparkSession.builder \\\n",
    "    .master(\"local[*]\") \\\n",
    "    .appName('test') \\\n",
    "    .getOrCreate()"
   ]
  },
  {
   "cell_type": "code",
   "execution_count": 2,
   "id": "272e2839-a7b6-4a9a-90af-a5662e16320e",
   "metadata": {},
   "outputs": [
    {
     "name": "stderr",
     "output_type": "stream",
     "text": [
      "                                                                                "
     ]
    }
   ],
   "source": [
    "df_green = spark.read.parquet('data/pq/green/*/*')"
   ]
  },
  {
   "cell_type": "code",
   "execution_count": 3,
   "id": "6223bb66-263d-440d-934b-88e89b6d7b88",
   "metadata": {},
   "outputs": [
    {
     "name": "stdout",
     "output_type": "stream",
     "text": [
      "root\n",
      " |-- VendorID: integer (nullable = true)\n",
      " |-- lpep_pickup_datetime: timestamp (nullable = true)\n",
      " |-- lpep_dropoff_datetime: timestamp (nullable = true)\n",
      " |-- store_and_fwd_flag: string (nullable = true)\n",
      " |-- RatecodeID: integer (nullable = true)\n",
      " |-- PULocationID: integer (nullable = true)\n",
      " |-- DOLocationID: integer (nullable = true)\n",
      " |-- passenger_count: integer (nullable = true)\n",
      " |-- trip_distance: double (nullable = true)\n",
      " |-- fare_amount: double (nullable = true)\n",
      " |-- extra: double (nullable = true)\n",
      " |-- mta_tax: double (nullable = true)\n",
      " |-- tip_amount: double (nullable = true)\n",
      " |-- tolls_amount: double (nullable = true)\n",
      " |-- ehail_fee: double (nullable = true)\n",
      " |-- improvement_surcharge: double (nullable = true)\n",
      " |-- total_amount: double (nullable = true)\n",
      " |-- payment_type: integer (nullable = true)\n",
      " |-- trip_type: integer (nullable = true)\n",
      " |-- congestion_surcharge: double (nullable = true)\n",
      "\n"
     ]
    }
   ],
   "source": [
    "df_green.printSchema()"
   ]
  },
  {
   "cell_type": "code",
   "execution_count": 4,
   "id": "da9ce03d-2d06-4621-94c4-250fc227eecf",
   "metadata": {},
   "outputs": [],
   "source": [
    "df_yellow = spark.read.parquet('data/pq/yellow/*/*')"
   ]
  },
  {
   "cell_type": "code",
   "execution_count": 5,
   "id": "0cbab569-2ebb-4653-bf37-89455332ead9",
   "metadata": {},
   "outputs": [
    {
     "name": "stdout",
     "output_type": "stream",
     "text": [
      "root\n",
      " |-- VendorID: integer (nullable = true)\n",
      " |-- tpep_pickup_datetime: timestamp (nullable = true)\n",
      " |-- tpep_dropoff_datetime: timestamp (nullable = true)\n",
      " |-- passenger_count: integer (nullable = true)\n",
      " |-- trip_distance: double (nullable = true)\n",
      " |-- RatecodeID: integer (nullable = true)\n",
      " |-- store_and_fwd_flag: string (nullable = true)\n",
      " |-- PULocationID: integer (nullable = true)\n",
      " |-- DOLocationID: integer (nullable = true)\n",
      " |-- payment_type: integer (nullable = true)\n",
      " |-- fare_amount: double (nullable = true)\n",
      " |-- extra: double (nullable = true)\n",
      " |-- mta_tax: double (nullable = true)\n",
      " |-- tip_amount: double (nullable = true)\n",
      " |-- tolls_amount: double (nullable = true)\n",
      " |-- improvement_surcharge: double (nullable = true)\n",
      " |-- total_amount: double (nullable = true)\n",
      " |-- congestion_surcharge: double (nullable = true)\n",
      "\n"
     ]
    }
   ],
   "source": [
    "df_yellow.printSchema()"
   ]
  },
  {
   "cell_type": "code",
   "execution_count": 6,
   "id": "64f244a8-4587-4b0a-b2b8-a48ce544a2af",
   "metadata": {},
   "outputs": [
    {
     "data": {
      "text/plain": [
       "['VendorID',\n",
       " 'lpep_pickup_datetime',\n",
       " 'lpep_dropoff_datetime',\n",
       " 'store_and_fwd_flag',\n",
       " 'RatecodeID',\n",
       " 'PULocationID',\n",
       " 'DOLocationID',\n",
       " 'passenger_count',\n",
       " 'trip_distance',\n",
       " 'fare_amount',\n",
       " 'extra',\n",
       " 'mta_tax',\n",
       " 'tip_amount',\n",
       " 'tolls_amount',\n",
       " 'ehail_fee',\n",
       " 'improvement_surcharge',\n",
       " 'total_amount',\n",
       " 'payment_type',\n",
       " 'trip_type',\n",
       " 'congestion_surcharge']"
      ]
     },
     "execution_count": 6,
     "metadata": {},
     "output_type": "execute_result"
    }
   ],
   "source": [
    "df_green.columns"
   ]
  },
  {
   "cell_type": "code",
   "execution_count": 7,
   "id": "cb1dae73-57a5-42be-afbf-1bb958ac9c19",
   "metadata": {},
   "outputs": [
    {
     "data": {
      "text/plain": [
       "['VendorID',\n",
       " 'tpep_pickup_datetime',\n",
       " 'tpep_dropoff_datetime',\n",
       " 'passenger_count',\n",
       " 'trip_distance',\n",
       " 'RatecodeID',\n",
       " 'store_and_fwd_flag',\n",
       " 'PULocationID',\n",
       " 'DOLocationID',\n",
       " 'payment_type',\n",
       " 'fare_amount',\n",
       " 'extra',\n",
       " 'mta_tax',\n",
       " 'tip_amount',\n",
       " 'tolls_amount',\n",
       " 'improvement_surcharge',\n",
       " 'total_amount',\n",
       " 'congestion_surcharge']"
      ]
     },
     "execution_count": 7,
     "metadata": {},
     "output_type": "execute_result"
    }
   ],
   "source": [
    "df_yellow.columns"
   ]
  },
  {
   "cell_type": "code",
   "execution_count": 8,
   "id": "c41dc2ec-6256-44b7-a5bf-e558d9653e22",
   "metadata": {},
   "outputs": [],
   "source": [
    "df_green = df_green \\\n",
    "    .withColumnRenamed('lpep_pickup_datetime', 'pickup_datetime') \\\n",
    "    .withColumnRenamed('lpep_dropoff_datetime', 'dropoff_datetime')"
   ]
  },
  {
   "cell_type": "code",
   "execution_count": 9,
   "id": "acc8a768-b401-4fde-af27-ad742f9d5f25",
   "metadata": {},
   "outputs": [],
   "source": [
    "df_yellow = df_yellow \\\n",
    "    .withColumnRenamed('tpep_pickup_datetime', 'pickup_datetime') \\\n",
    "    .withColumnRenamed('tpep_dropoff_datetime', 'dropoff_datetime')"
   ]
  },
  {
   "cell_type": "code",
   "execution_count": 10,
   "id": "36f26802-8a2e-4f2a-95c8-1befcbec64c2",
   "metadata": {},
   "outputs": [
    {
     "data": {
      "text/plain": [
       "{'DOLocationID',\n",
       " 'PULocationID',\n",
       " 'RatecodeID',\n",
       " 'VendorID',\n",
       " 'congestion_surcharge',\n",
       " 'dropoff_datetime',\n",
       " 'extra',\n",
       " 'fare_amount',\n",
       " 'improvement_surcharge',\n",
       " 'mta_tax',\n",
       " 'passenger_count',\n",
       " 'payment_type',\n",
       " 'pickup_datetime',\n",
       " 'store_and_fwd_flag',\n",
       " 'tip_amount',\n",
       " 'tolls_amount',\n",
       " 'total_amount',\n",
       " 'trip_distance'}"
      ]
     },
     "execution_count": 10,
     "metadata": {},
     "output_type": "execute_result"
    }
   ],
   "source": [
    "set(df_green.columns) & set(df_yellow.columns)"
   ]
  },
  {
   "cell_type": "code",
   "execution_count": 11,
   "id": "118194dd-6db1-4660-a33d-6c614bec9d7d",
   "metadata": {},
   "outputs": [],
   "source": [
    "common_columns = []\n",
    "yellow_columns = set(df_yellow.columns)\n",
    "\n",
    "for col in df_green.columns:\n",
    "    if col in yellow_columns:\n",
    "        common_columns.append(col)"
   ]
  },
  {
   "cell_type": "code",
   "execution_count": 12,
   "id": "9c140259-6ace-42b4-bab7-3ff54cd06e31",
   "metadata": {},
   "outputs": [
    {
     "data": {
      "text/plain": [
       "['VendorID',\n",
       " 'pickup_datetime',\n",
       " 'dropoff_datetime',\n",
       " 'store_and_fwd_flag',\n",
       " 'RatecodeID',\n",
       " 'PULocationID',\n",
       " 'DOLocationID',\n",
       " 'passenger_count',\n",
       " 'trip_distance',\n",
       " 'fare_amount',\n",
       " 'extra',\n",
       " 'mta_tax',\n",
       " 'tip_amount',\n",
       " 'tolls_amount',\n",
       " 'improvement_surcharge',\n",
       " 'total_amount',\n",
       " 'payment_type',\n",
       " 'congestion_surcharge']"
      ]
     },
     "execution_count": 12,
     "metadata": {},
     "output_type": "execute_result"
    }
   ],
   "source": [
    "common_columns"
   ]
  },
  {
   "cell_type": "code",
   "execution_count": 13,
   "id": "3441c2ac-28d7-478f-81e0-9ef7f51f13b9",
   "metadata": {},
   "outputs": [],
   "source": [
    "from pyspark.sql import functions as F"
   ]
  },
  {
   "cell_type": "code",
   "execution_count": 14,
   "id": "cab91e5f-2e4d-427b-bfcc-2e13f5d153d2",
   "metadata": {},
   "outputs": [],
   "source": [
    "df_green_sel = df_green \\\n",
    "    .select(common_columns) \\\n",
    "    .withColumn('service_type', F.lit('green'))"
   ]
  },
  {
   "cell_type": "code",
   "execution_count": 15,
   "id": "e2105824-f99c-40f4-a015-af8505c1c9db",
   "metadata": {},
   "outputs": [
    {
     "data": {
      "text/plain": [
       "DataFrame[VendorID: int, pickup_datetime: timestamp, dropoff_datetime: timestamp, store_and_fwd_flag: string, RatecodeID: int, PULocationID: int, DOLocationID: int, passenger_count: int, trip_distance: double, fare_amount: double, extra: double, mta_tax: double, tip_amount: double, tolls_amount: double, improvement_surcharge: double, total_amount: double, payment_type: int, congestion_surcharge: double, service_type: string]"
      ]
     },
     "execution_count": 15,
     "metadata": {},
     "output_type": "execute_result"
    }
   ],
   "source": [
    "df_green_sel"
   ]
  },
  {
   "cell_type": "code",
   "execution_count": 16,
   "id": "ebc414f5-37f4-4716-b5ba-743d39e095b9",
   "metadata": {},
   "outputs": [],
   "source": [
    "df_yellow_sel = df_yellow \\\n",
    "    .select(common_columns) \\\n",
    "    .withColumn('service_type', F.lit('yellow'))"
   ]
  },
  {
   "cell_type": "code",
   "execution_count": 17,
   "id": "3bec5b70-a91f-4f42-8d7b-05a37ae93a7d",
   "metadata": {},
   "outputs": [],
   "source": [
    "df_trips_data = df_green_sel.unionAll(df_yellow_sel)"
   ]
  },
  {
   "cell_type": "code",
   "execution_count": 18,
   "id": "18dc667f-de83-4d70-a998-bd0f8e5c7f8d",
   "metadata": {},
   "outputs": [
    {
     "name": "stderr",
     "output_type": "stream",
     "text": [
      "                                                                                "
     ]
    },
    {
     "name": "stdout",
     "output_type": "stream",
     "text": [
      "+------------+--------+\n",
      "|service_type|   count|\n",
      "+------------+--------+\n",
      "|       green|  570466|\n",
      "|      yellow|15000700|\n",
      "+------------+--------+\n",
      "\n"
     ]
    }
   ],
   "source": [
    "df_trips_data.groupBy('service_type').count().show()"
   ]
  },
  {
   "cell_type": "code",
   "execution_count": 19,
   "id": "c9ce9d1e-7c78-4c86-98b0-23d88958bdfe",
   "metadata": {},
   "outputs": [],
   "source": [
    "df_trips_data.createOrReplaceTempView('trips_data')"
   ]
  },
  {
   "cell_type": "code",
   "execution_count": 20,
   "id": "aec4eb60-84db-4f8e-80c9-f4277c26f5e3",
   "metadata": {},
   "outputs": [
    {
     "name": "stderr",
     "output_type": "stream",
     "text": [
      "[Stage 5:>                                                          (0 + 1) / 1]"
     ]
    },
    {
     "name": "stdout",
     "output_type": "stream",
     "text": [
      "+--------+-------------------+-------------------+------------------+----------+------------+------------+---------------+-------------+-----------+-----+-------+----------+------------+---------------------+------------+------------+--------------------+------------+\n",
      "|VendorID|    pickup_datetime|   dropoff_datetime|store_and_fwd_flag|RatecodeID|PULocationID|DOLocationID|passenger_count|trip_distance|fare_amount|extra|mta_tax|tip_amount|tolls_amount|improvement_surcharge|total_amount|payment_type|congestion_surcharge|service_type|\n",
      "+--------+-------------------+-------------------+------------------+----------+------------+------------+---------------+-------------+-----------+-----+-------+----------+------------+---------------------+------------+------------+--------------------+------------+\n",
      "|       2|2021-06-18 13:31:15|2021-06-18 13:31:24|                 N|         1|           7|           7|              1|          0.0|        2.5|  0.0|    0.5|       0.0|         0.0|                  0.3|         3.3|           2|                 0.0|       green|\n",
      "|       2|2021-06-24 22:19:13|2021-06-24 22:34:45|                 N|         1|          41|         163|              1|         3.86|       14.5|  0.5|    0.5|       0.0|         0.0|                  0.3|       18.55|           1|                2.75|       green|\n",
      "|       2|2021-06-29 12:20:36|2021-06-29 12:24:03|                 N|         1|          43|         236|              5|         0.44|        4.0|  0.0|    0.5|       0.0|         0.0|                  0.3|        7.55|           2|                2.75|       green|\n",
      "|    NULL|2021-06-13 11:50:00|2021-06-13 12:21:00|              NULL|      NULL|         134|          91|           NULL|         9.17|      36.56| 2.75|    0.0|       0.0|         0.0|                  0.3|       39.61|        NULL|                NULL|       green|\n",
      "|       2|2021-06-27 20:04:35|2021-06-27 20:21:18|                 N|         1|          75|         244|              1|         5.53|       18.0|  0.5|    0.5|       0.0|         0.0|                  0.3|        19.3|           2|                 0.0|       green|\n",
      "|       2|2021-06-23 19:56:24|2021-06-23 20:49:47|                 N|         1|          22|         197|              1|        21.04|       61.5|  1.0|    0.5|       0.0|         0.0|                  0.3|        63.3|           1|                 0.0|       green|\n",
      "|       2|2021-06-12 10:40:05|2021-06-12 10:49:28|                 N|         1|          41|         236|              1|         2.08|        9.0|  0.0|    0.5|      3.76|         0.0|                  0.3|       16.31|           1|                2.75|       green|\n",
      "|       2|2021-06-19 15:22:05|2021-06-19 15:34:24|                 N|         1|          41|         151|              1|         1.35|        9.0|  0.0|    0.5|       0.0|         0.0|                  0.3|         9.8|           1|                 0.0|       green|\n",
      "|    NULL|2021-06-12 21:47:00|2021-06-12 22:10:00|              NULL|      NULL|         189|         148|           NULL|         4.49|      18.77|  0.0|    0.0|      5.01|         0.0|                  0.3|       26.83|        NULL|                NULL|       green|\n",
      "|       2|2021-06-18 19:32:40|2021-06-18 19:57:15|                 N|         1|          41|         179|              1|         4.74|       20.0|  1.0|    0.5|       5.0|        6.55|                  0.3|       33.35|           1|                 0.0|       green|\n",
      "+--------+-------------------+-------------------+------------------+----------+------------+------------+---------------+-------------+-----------+-----+-------+----------+------------+---------------------+------------+------------+--------------------+------------+\n",
      "\n"
     ]
    },
    {
     "name": "stderr",
     "output_type": "stream",
     "text": [
      "                                                                                "
     ]
    }
   ],
   "source": [
    "spark.sql(\"\"\"\n",
    "SELECT * FROM trips_data LIMIT 10;\n",
    "\"\"\").show()"
   ]
  },
  {
   "cell_type": "code",
   "execution_count": 21,
   "id": "ab88c739-9557-4442-899a-c402391227b4",
   "metadata": {},
   "outputs": [
    {
     "name": "stderr",
     "output_type": "stream",
     "text": [
      "[Stage 6:=================================>                         (4 + 2) / 7]"
     ]
    },
    {
     "name": "stdout",
     "output_type": "stream",
     "text": [
      "+------------+--------+\n",
      "|service_type|count(1)|\n",
      "+------------+--------+\n",
      "|       green|  570466|\n",
      "|      yellow|15000700|\n",
      "+------------+--------+\n",
      "\n"
     ]
    },
    {
     "name": "stderr",
     "output_type": "stream",
     "text": [
      "                                                                                "
     ]
    }
   ],
   "source": [
    "spark.sql(\"\"\"\n",
    "SELECT\n",
    "    service_type,\n",
    "    count(1)\n",
    "FROM\n",
    "    trips_data\n",
    "GROUP BY service_type;\n",
    "\"\"\").show()"
   ]
  },
  {
   "cell_type": "code",
   "execution_count": 22,
   "id": "1157a0f2-96b8-4b30-b7ec-4661853173f3",
   "metadata": {},
   "outputs": [],
   "source": [
    "df_result = spark.sql(\"\"\"\n",
    "SELECT\n",
    "    -- Revenue grouping \n",
    "    PULocationID AS revenue_zone,\n",
    "    date_trunc('month', pickup_datetime) AS revenue_month,\n",
    "    service_type, \n",
    "\n",
    "    -- Revenue calculation \n",
    "    SUM(fare_amount) AS revenue_monthly_fare,\n",
    "    SUM(extra) AS revenue_monthly_extra,\n",
    "    SUM(mta_tax) AS revenue_monthly_mta_tax,\n",
    "    SUM(tip_amount) AS revenue_monthly_tip_amount,\n",
    "    SUM(tolls_amount) AS revenue_monthly_tolls_amount,\n",
    "    SUM(improvement_surcharge) AS revenue_monthly_improvement_surcharge,\n",
    "    SUM(total_amount) AS revenue_monthly_total_amount,\n",
    "\n",
    "    -- Additional calculations\n",
    "    AVG(passenger_count) AS avg_monthly_passenger_count,\n",
    "    AVG(trip_distance) AS avg_monthly_trip_distance\n",
    "FROM trips_data\n",
    "GROUP BY 1,2,3\n",
    "\"\"\")"
   ]
  },
  {
   "cell_type": "code",
   "execution_count": 23,
   "id": "45275f4b-6fef-47da-a524-60ab136e9e8b",
   "metadata": {},
   "outputs": [
    {
     "name": "stderr",
     "output_type": "stream",
     "text": [
      "[Stage 9:==================================================>        (6 + 1) / 7]"
     ]
    },
    {
     "name": "stdout",
     "output_type": "stream",
     "text": [
      "+------------+-------------------+------------+--------------------+---------------------+-----------------------+--------------------------+----------------------------+-------------------------------------+----------------------------+---------------------------+-------------------------+\n",
      "|revenue_zone|      revenue_month|service_type|revenue_monthly_fare|revenue_monthly_extra|revenue_monthly_mta_tax|revenue_monthly_tip_amount|revenue_monthly_tolls_amount|revenue_monthly_improvement_surcharge|revenue_monthly_total_amount|avg_monthly_passenger_count|avg_monthly_trip_distance|\n",
      "+------------+-------------------+------------+--------------------+---------------------+-----------------------+--------------------------+----------------------------+-------------------------------------+----------------------------+---------------------------+-------------------------+\n",
      "|         259|2021-04-01 00:00:00|       green|   7895.719999999992|                585.2|                    6.0|        148.82999999999998|          465.24000000000024|                    71.09999999999982|           9177.589999999997|                        1.2|         9.19502092050209|\n",
      "|         161|2021-04-01 00:00:00|       green|             1096.75|                 88.0|                    0.0|                       0.0|           63.22999999999999|                    9.299999999999997|                     1257.28|                       NULL|       10.048709677419355|\n",
      "|         239|2021-06-01 00:00:00|       green|   997.1000000000004|                96.25|                    0.5|                      9.71|                        16.1|                   10.800000000000004|                     1137.71|                       NULL|        6.322222222222224|\n",
      "|          27|2021-06-01 00:00:00|       green|              288.14|                 4.75|                    1.0|        28.619999999999997|                       21.09|                                  1.8|          345.40000000000003|                        1.0|       12.956666666666669|\n",
      "|          40|2021-05-01 00:00:00|       green|  2052.9400000000005|    82.29999999999998|                   30.5|                    243.16|           80.61999999999999|                    34.50000000000003|           2595.519999999999|         1.0476190476190477|        4.144137931034485|\n",
      "|         250|2021-05-01 00:00:00|       green|             5046.26|   470.65000000000003|                   17.0|         55.88000000000001|          220.98000000000013|                   60.299999999999784|           5873.820000000004|          1.393939393939394|       1108.1411330049261|\n",
      "|         168|2021-04-01 00:00:00|       green|  12315.400000000005|    996.0500000000001|                   78.0|        239.53000000000006|           504.5500000000003|                   171.89999999999912|                    14346.68|          1.319047619047619|        4.827266553480474|\n",
      "|          79|2021-04-01 00:00:00|       green|              502.26|                 46.7|                    1.5|                       0.0|                       25.77|                    5.399999999999999|                      581.63|                        1.0|        7.223888888888889|\n",
      "|         207|2021-06-01 00:00:00|       green|   810.8100000000001|                20.25|                   14.0|                       0.0|                        13.1|                   11.700000000000006|           869.8599999999994|         1.5405405405405406|        2.240227272727273|\n",
      "|          36|2021-06-01 00:00:00|       green|   3204.999999999999|               219.75|                    9.0|         67.58000000000001|          128.91999999999996|                    34.50000000000003|                     3681.25|         1.2173913043478262|        6.057999999999999|\n",
      "|          92|2021-05-01 00:00:00|       green|   6651.059999999999|   423.05000000000007|                   53.0|         93.99000000000001|           275.1000000000002|                    78.59999999999961|           7574.800000000013|          0.991304347826087|       313.15286792452815|\n",
      "|         101|2021-05-01 00:00:00|       green|   927.5100000000002|                 60.5|                    1.5|                       0.0|                       25.77|                    7.499999999999997|                     1022.78|                        1.0|        9.271999999999998|\n",
      "|          72|2021-07-01 00:00:00|       green|  11208.870000000004|                898.6|                   28.0|        38.650000000000006|           339.1900000000002|                   116.39999999999925|          12629.710000000001|         1.0333333333333334|       339.82054123711316|\n",
      "|         241|2021-04-01 00:00:00|       green|             6659.92|   466.09999999999997|                   30.5|                    197.88|          257.05000000000007|                    76.79999999999987|           7693.750000000001|         1.0945945945945945|        735.5661153846154|\n",
      "|         184|2021-04-01 00:00:00|       green|  388.79999999999995|                 28.5|                    2.0|                       1.0|                       18.47|                    4.199999999999999|                      442.97|                        1.4|                     8.49|\n",
      "|         194|2021-05-01 00:00:00|       green|               399.5|                  6.0|                    5.0|        41.309999999999995|           52.39999999999999|                    4.199999999999999|                      519.41|         1.3333333333333333|        5.384666666666666|\n",
      "|          27|2021-05-01 00:00:00|       green|               96.75|                  0.0|                    0.5|                      20.0|                        2.45|                                  0.6|                       120.3|                        2.0|                   15.155|\n",
      "|         120|2021-05-01 00:00:00|       green|              337.24|                 11.0|                    4.5|                       0.0|                       19.65|                   3.2999999999999994|          375.69000000000005|         1.6666666666666667|        8.152727272727274|\n",
      "|          78|2021-06-01 00:00:00|       green|             5668.69|                392.0|                   28.0|        110.58000000000001|           308.9500000000002|                     69.2999999999997|           6588.520000000007|         1.0149253731343284|        1430.718540772532|\n",
      "|          33|2021-05-01 00:00:00|       green|  19342.080000000053|               852.75|                  353.5|        1950.8499999999983|                       44.75|                   313.50000000000614|           23432.17999999983|         1.0560224089635855|         35.7043499043977|\n",
      "+------------+-------------------+------------+--------------------+---------------------+-----------------------+--------------------------+----------------------------+-------------------------------------+----------------------------+---------------------------+-------------------------+\n",
      "only showing top 20 rows\n",
      "\n"
     ]
    },
    {
     "name": "stderr",
     "output_type": "stream",
     "text": [
      "                                                                                "
     ]
    }
   ],
   "source": [
    "df_result.show()"
   ]
  },
  {
   "cell_type": "code",
   "execution_count": 24,
   "id": "e853d91d-2d4d-43b9-b5cd-40824fe74821",
   "metadata": {},
   "outputs": [
    {
     "name": "stderr",
     "output_type": "stream",
     "text": [
      "                                                                                "
     ]
    }
   ],
   "source": [
    "df_result.coalesce(1).write.parquet('data/report/revenue/', mode='overwrite')"
   ]
  },
  {
   "cell_type": "code",
   "execution_count": 26,
   "id": "3c602be6-a0b6-4809-87f0-1f20cec72c9a",
   "metadata": {},
   "outputs": [
    {
     "name": "stdout",
     "output_type": "stream",
     "text": [
      "data/report/revenue/:\n",
      "total 200K\n",
      "-rw-r--r-- 1 sweantu sweantu    0 Aug 15 07:38 _SUCCESS\n",
      "-rw-r--r-- 1 sweantu sweantu 198K Aug 15 07:38 part-00000-bc059580-bfbe-45a4-84d3-413c88984aba-c000.snappy.parquet\n"
     ]
    }
   ],
   "source": [
    "!ls -lhR data/report/revenue/"
   ]
  },
  {
   "cell_type": "code",
   "execution_count": 28,
   "id": "4667cf31-6ca2-4aab-b70a-bc6cd18e233e",
   "metadata": {},
   "outputs": [
    {
     "data": {
      "text/plain": [
       "3713"
      ]
     },
     "execution_count": 28,
     "metadata": {},
     "output_type": "execute_result"
    }
   ],
   "source": [
    "spark.read.parquet(\"data/report/revenue/\").count()"
   ]
  },
  {
   "cell_type": "code",
   "execution_count": null,
   "id": "0d10782c-453a-4b5b-9d46-6bf0f36f07da",
   "metadata": {},
   "outputs": [],
   "source": []
  }
 ],
 "metadata": {
  "kernelspec": {
   "display_name": "Python 3 (ipykernel)",
   "language": "python",
   "name": "python3"
  },
  "language_info": {
   "codemirror_mode": {
    "name": "ipython",
    "version": 3
   },
   "file_extension": ".py",
   "mimetype": "text/x-python",
   "name": "python",
   "nbconvert_exporter": "python",
   "pygments_lexer": "ipython3",
   "version": "3.11.13"
  }
 },
 "nbformat": 4,
 "nbformat_minor": 5
}
