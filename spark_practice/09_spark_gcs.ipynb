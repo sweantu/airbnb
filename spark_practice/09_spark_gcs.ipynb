{
 "cells": [
  {
   "cell_type": "code",
   "execution_count": 2,
   "id": "0b998cd1-b43a-43e2-8671-d986a2710588",
   "metadata": {},
   "outputs": [
    {
     "name": "stdout",
     "output_type": "stream",
     "text": [
      "total 12\n",
      "drwxrwxr-x  2 sweantu sweantu 4096 Aug 15 02:25 .\n",
      "drwxr-x--- 15 sweantu sweantu 4096 Aug 15 08:23 ..\n",
      "-rw-------  1 sweantu sweantu 2347 Aug 15 02:24 airbnb-468005-b68cd81995fd.json\n"
     ]
    }
   ],
   "source": [
    "!ls -la ~/.keys"
   ]
  },
  {
   "cell_type": "code",
   "execution_count": 6,
   "id": "82338e9c-fc4d-4b98-8eff-760837a9b7e7",
   "metadata": {},
   "outputs": [
    {
     "name": "stdout",
     "output_type": "stream",
     "text": [
      "Activated service account credentials for: [dev-898@airbnb-468005.iam.gserviceaccount.com]\n"
     ]
    }
   ],
   "source": [
    "!gcloud auth activate-service-account --key-file \"/home/sweantu/.keys/airbnb-468005-b68cd81995fd.json\""
   ]
  },
  {
   "cell_type": "code",
   "execution_count": 7,
   "id": "7212570a-138d-40a2-add4-23ad57bf7bbc",
   "metadata": {
    "collapsed": true,
    "jupyter": {
     "outputs_hidden": true
    }
   },
   "outputs": [
    {
     "name": "stdout",
     "output_type": "stream",
     "text": [
      "Copying file://data/pq/green/2021/08/.part-00000-e5f67910-386b-4781-89f9-d5ed14b9307b-c000.snappy.parquet.crc [Content-Type=application/octet-stream]...\n",
      "Copying file://data/pq/green/2021/08/part-00000-e5f67910-386b-4781-89f9-d5ed14b9307b-c000.snappy.parquet [Content-Type=application/octet-stream]...\n",
      "Copying file://data/pq/green/2021/08/._SUCCESS.crc [Content-Type=application/octet-stream]...\n",
      "Copying file://data/pq/green/2021/08/_SUCCESS [Content-Type=application/octet-stream]...\n",
      "Copying file://data/pq/green/2021/02/part-00003-20044390-1a4f-4a20-872e-86287fb7192b-c000.snappy.parquet [Content-Type=application/octet-stream]...\n",
      "Copying file://data/pq/green/2021/02/.part-00002-20044390-1a4f-4a20-872e-86287fb7192b-c000.snappy.parquet.crc [Content-Type=application/octet-stream]...\n",
      "Copying file://data/pq/green/2021/02/.part-00000-20044390-1a4f-4a20-872e-86287fb7192b-c000.snappy.parquet.crc [Content-Type=application/octet-stream]...\n",
      "Copying file://data/pq/green/2021/02/.part-00003-20044390-1a4f-4a20-872e-86287fb7192b-c000.snappy.parquet.crc [Content-Type=application/octet-stream]...\n",
      "Copying file://data/pq/green/2021/02/._SUCCESS.crc [Content-Type=application/octet-stream]...\n",
      "Copying file://data/pq/green/2021/02/part-00001-20044390-1a4f-4a20-872e-86287fb7192b-c000.snappy.parquet [Content-Type=application/octet-stream]...\n",
      "Copying file://data/pq/green/2021/02/part-00000-20044390-1a4f-4a20-872e-86287fb7192b-c000.snappy.parquet [Content-Type=application/octet-stream]...\n",
      "Copying file://data/pq/green/2021/02/part-00002-20044390-1a4f-4a20-872e-86287fb7192b-c000.snappy.parquet [Content-Type=application/octet-stream]...\n",
      "Copying file://data/pq/green/2021/02/.part-00001-20044390-1a4f-4a20-872e-86287fb7192b-c000.snappy.parquet.crc [Content-Type=application/octet-stream]...\n",
      "Copying file://data/pq/green/2021/02/_SUCCESS [Content-Type=application/octet-stream]...\n",
      "Copying file://data/pq/green/2021/05/.part-00000-85cf3c97-0b89-45f4-8e09-3d9151565668-c000.snappy.parquet.crc [Content-Type=application/octet-stream]...\n",
      "Copying file://data/pq/green/2021/05/.part-00003-85cf3c97-0b89-45f4-8e09-3d9151565668-c000.snappy.parquet.crc [Content-Type=application/octet-stream]...\n",
      "Copying file://data/pq/green/2021/05/part-00000-85cf3c97-0b89-45f4-8e09-3d9151565668-c000.snappy.parquet [Content-Type=application/octet-stream]...\n",
      "Copying file://data/pq/green/2021/05/._SUCCESS.crc [Content-Type=application/octet-stream]...\n",
      "Copying file://data/pq/green/2021/05/part-00001-85cf3c97-0b89-45f4-8e09-3d9151565668-c000.snappy.parquet [Content-Type=application/octet-stream]...\n",
      "Copying file://data/pq/green/2021/05/part-00002-85cf3c97-0b89-45f4-8e09-3d9151565668-c000.snappy.parquet [Content-Type=application/octet-stream]...\n",
      "Copying file://data/pq/green/2021/05/part-00003-85cf3c97-0b89-45f4-8e09-3d9151565668-c000.snappy.parquet [Content-Type=application/octet-stream]...\n",
      "Copying file://data/pq/green/2021/05/.part-00001-85cf3c97-0b89-45f4-8e09-3d9151565668-c000.snappy.parquet.crc [Content-Type=application/octet-stream]...\n",
      "Copying file://data/pq/green/2021/05/_SUCCESS [Content-Type=application/octet-stream]...\n",
      "Copying file://data/pq/green/2021/05/.part-00002-85cf3c97-0b89-45f4-8e09-3d9151565668-c000.snappy.parquet.crc [Content-Type=application/octet-stream]...\n",
      "Copying file://data/pq/green/2021/04/.part-00002-f9797cff-78db-4776-bff8-6cc5e90111db-c000.snappy.parquet.crc [Content-Type=application/octet-stream]...\n",
      "Copying file://data/pq/green/2021/04/.part-00000-f9797cff-78db-4776-bff8-6cc5e90111db-c000.snappy.parquet.crc [Content-Type=application/octet-stream]...\n",
      "Copying file://data/pq/green/2021/04/.part-00001-f9797cff-78db-4776-bff8-6cc5e90111db-c000.snappy.parquet.crc [Content-Type=application/octet-stream]...\n",
      "Copying file://data/pq/green/2021/04/.part-00003-f9797cff-78db-4776-bff8-6cc5e90111db-c000.snappy.parquet.crc [Content-Type=application/octet-stream]...\n",
      "Copying file://data/pq/green/2021/04/part-00003-f9797cff-78db-4776-bff8-6cc5e90111db-c000.snappy.parquet [Content-Type=application/octet-stream]...\n",
      "Copying file://data/pq/green/2021/04/._SUCCESS.crc [Content-Type=application/octet-stream]...\n",
      "Copying file://data/pq/green/2021/04/part-00002-f9797cff-78db-4776-bff8-6cc5e90111db-c000.snappy.parquet [Content-Type=application/octet-stream]...\n",
      "Copying file://data/pq/green/2021/04/part-00001-f9797cff-78db-4776-bff8-6cc5e90111db-c000.snappy.parquet [Content-Type=application/octet-stream]...\n",
      "Copying file://data/pq/green/2021/04/part-00000-f9797cff-78db-4776-bff8-6cc5e90111db-c000.snappy.parquet [Content-Type=application/octet-stream]...\n",
      "Copying file://data/pq/green/2021/04/_SUCCESS [Content-Type=application/octet-stream]...\n",
      "Copying file://data/pq/green/2021/07/.part-00000-2b1bed05-12e7-4b2b-bbd8-30ec89f5e3b3-c000.snappy.parquet.crc [Content-Type=application/octet-stream]...\n",
      "Copying file://data/pq/green/2021/07/part-00003-2b1bed05-12e7-4b2b-bbd8-30ec89f5e3b3-c000.snappy.parquet [Content-Type=application/octet-stream]...\n",
      "Copying file://data/pq/green/2021/07/part-00002-2b1bed05-12e7-4b2b-bbd8-30ec89f5e3b3-c000.snappy.parquet [Content-Type=application/octet-stream]...\n",
      "Copying file://data/pq/green/2021/07/.part-00001-2b1bed05-12e7-4b2b-bbd8-30ec89f5e3b3-c000.snappy.parquet.crc [Content-Type=application/octet-stream]...\n",
      "Copying file://data/pq/green/2021/07/part-00001-2b1bed05-12e7-4b2b-bbd8-30ec89f5e3b3-c000.snappy.parquet [Content-Type=application/octet-stream]...\n",
      "Copying file://data/pq/green/2021/07/part-00000-2b1bed05-12e7-4b2b-bbd8-30ec89f5e3b3-c000.snappy.parquet [Content-Type=application/octet-stream]...\n",
      "Copying file://data/pq/green/2021/07/._SUCCESS.crc [Content-Type=application/octet-stream]...\n",
      "Copying file://data/pq/green/2021/07/.part-00003-2b1bed05-12e7-4b2b-bbd8-30ec89f5e3b3-c000.snappy.parquet.crc [Content-Type=application/octet-stream]...\n",
      "Copying file://data/pq/green/2021/07/.part-00002-2b1bed05-12e7-4b2b-bbd8-30ec89f5e3b3-c000.snappy.parquet.crc [Content-Type=application/octet-stream]...\n",
      "Copying file://data/pq/green/2021/07/_SUCCESS [Content-Type=application/octet-stream]...\n",
      "Copying file://data/pq/green/2021/03/._SUCCESS.crc [Content-Type=application/octet-stream]...\n",
      "Copying file://data/pq/green/2021/03/.part-00001-17c6db03-14cb-4ce7-be5e-3b2797e9a8b1-c000.snappy.parquet.crc [Content-Type=application/octet-stream]...\n",
      "Copying file://data/pq/green/2021/03/part-00002-17c6db03-14cb-4ce7-be5e-3b2797e9a8b1-c000.snappy.parquet [Content-Type=application/octet-stream]...\n",
      "Copying file://data/pq/green/2021/03/part-00001-17c6db03-14cb-4ce7-be5e-3b2797e9a8b1-c000.snappy.parquet [Content-Type=application/octet-stream]...\n",
      "Copying file://data/pq/green/2021/03/.part-00003-17c6db03-14cb-4ce7-be5e-3b2797e9a8b1-c000.snappy.parquet.crc [Content-Type=application/octet-stream]...\n",
      "Copying file://data/pq/green/2021/03/part-00003-17c6db03-14cb-4ce7-be5e-3b2797e9a8b1-c000.snappy.parquet [Content-Type=application/octet-stream]...\n",
      "Copying file://data/pq/green/2021/03/part-00000-17c6db03-14cb-4ce7-be5e-3b2797e9a8b1-c000.snappy.parquet [Content-Type=application/octet-stream]...\n",
      "Copying file://data/pq/green/2021/03/.part-00002-17c6db03-14cb-4ce7-be5e-3b2797e9a8b1-c000.snappy.parquet.crc [Content-Type=application/octet-stream]...\n",
      "Copying file://data/pq/green/2021/03/.part-00000-17c6db03-14cb-4ce7-be5e-3b2797e9a8b1-c000.snappy.parquet.crc [Content-Type=application/octet-stream]...\n",
      "Copying file://data/pq/green/2021/06/part-00001-8455df08-73b2-4843-8439-c5d945171c26-c000.snappy.parquet [Content-Type=application/octet-stream]...\n",
      "Copying file://data/pq/green/2021/03/_SUCCESS [Content-Type=application/octet-stream]...\n",
      "Copying file://data/pq/green/2021/06/.part-00002-8455df08-73b2-4843-8439-c5d945171c26-c000.snappy.parquet.crc [Content-Type=application/octet-stream]...\n",
      "Copying file://data/pq/green/2021/06/.part-00000-8455df08-73b2-4843-8439-c5d945171c26-c000.snappy.parquet.crc [Content-Type=application/octet-stream]...\n",
      "Copying file://data/pq/green/2021/06/part-00003-8455df08-73b2-4843-8439-c5d945171c26-c000.snappy.parquet [Content-Type=application/octet-stream]...\n",
      "Copying file://data/pq/green/2021/06/part-00000-8455df08-73b2-4843-8439-c5d945171c26-c000.snappy.parquet [Content-Type=application/octet-stream]...\n",
      "Copying file://data/pq/green/2021/06/._SUCCESS.crc [Content-Type=application/octet-stream]...\n",
      "Copying file://data/pq/green/2021/06/.part-00003-8455df08-73b2-4843-8439-c5d945171c26-c000.snappy.parquet.crc [Content-Type=application/octet-stream]...\n",
      "Copying file://data/pq/green/2021/06/part-00002-8455df08-73b2-4843-8439-c5d945171c26-c000.snappy.parquet [Content-Type=application/octet-stream]...\n",
      "Copying file://data/pq/green/2021/06/_SUCCESS [Content-Type=application/octet-stream]...\n",
      "Copying file://data/pq/green/2021/06/.part-00001-8455df08-73b2-4843-8439-c5d945171c26-c000.snappy.parquet.crc [Content-Type=application/octet-stream]...\n",
      "Copying file://data/pq/green/2021/01/part-00001-9d4f8567-44e6-4b0c-81bc-c361985e4260-c000.snappy.parquet [Content-Type=application/octet-stream]...\n",
      "Copying file://data/pq/green/2021/01/.part-00002-9d4f8567-44e6-4b0c-81bc-c361985e4260-c000.snappy.parquet.crc [Content-Type=application/octet-stream]...\n",
      "Copying file://data/pq/green/2021/01/.part-00000-9d4f8567-44e6-4b0c-81bc-c361985e4260-c000.snappy.parquet.crc [Content-Type=application/octet-stream]...\n",
      "Copying file://data/pq/green/2021/01/.part-00003-9d4f8567-44e6-4b0c-81bc-c361985e4260-c000.snappy.parquet.crc [Content-Type=application/octet-stream]...\n",
      "Copying file://data/pq/green/2021/01/._SUCCESS.crc [Content-Type=application/octet-stream]...\n",
      "Copying file://data/pq/green/2021/01/part-00000-9d4f8567-44e6-4b0c-81bc-c361985e4260-c000.snappy.parquet [Content-Type=application/octet-stream]...\n",
      "Copying file://data/pq/green/2021/01/.part-00001-9d4f8567-44e6-4b0c-81bc-c361985e4260-c000.snappy.parquet.crc [Content-Type=application/octet-stream]...\n",
      "Copying file://data/pq/green/2021/01/part-00002-9d4f8567-44e6-4b0c-81bc-c361985e4260-c000.snappy.parquet [Content-Type=application/octet-stream]...\n",
      "Copying file://data/pq/green/2021/01/part-00003-9d4f8567-44e6-4b0c-81bc-c361985e4260-c000.snappy.parquet [Content-Type=application/octet-stream]...\n",
      "Copying file://data/pq/green/2021/01/_SUCCESS [Content-Type=application/octet-stream]...\n",
      "Copying file://data/pq/yellow/2021/08/.part-00000-c1ed88b9-9d36-4da2-9a41-a8e279f8ee32-c000.snappy.parquet.crc [Content-Type=application/octet-stream]...\n",
      "Copying file://data/pq/yellow/2021/08/part-00000-c1ed88b9-9d36-4da2-9a41-a8e279f8ee32-c000.snappy.parquet [Content-Type=application/octet-stream]...\n",
      "Copying file://data/pq/yellow/2021/08/._SUCCESS.crc [Content-Type=application/octet-stream]...\n",
      "Copying file://data/pq/yellow/2021/08/_SUCCESS [Content-Type=application/octet-stream]...\n",
      "Copying file://data/pq/yellow/2021/02/part-00000-b5fc66b6-fc73-4bc3-bd97-1526aff36bfd-c000.snappy.parquet [Content-Type=application/octet-stream]...\n",
      "Copying file://data/pq/yellow/2021/02/.part-00001-b5fc66b6-fc73-4bc3-bd97-1526aff36bfd-c000.snappy.parquet.crc [Content-Type=application/octet-stream]...\n",
      "Copying file://data/pq/yellow/2021/02/._SUCCESS.crc [Content-Type=application/octet-stream]...\n",
      "Copying file://data/pq/yellow/2021/02/.part-00000-b5fc66b6-fc73-4bc3-bd97-1526aff36bfd-c000.snappy.parquet.crc [Content-Type=application/octet-stream]...\n",
      "Copying file://data/pq/yellow/2021/02/part-00003-b5fc66b6-fc73-4bc3-bd97-1526aff36bfd-c000.snappy.parquet [Content-Type=application/octet-stream]...\n",
      "Copying file://data/pq/yellow/2021/02/part-00001-b5fc66b6-fc73-4bc3-bd97-1526aff36bfd-c000.snappy.parquet [Content-Type=application/octet-stream]...\n",
      "Copying file://data/pq/yellow/2021/02/.part-00003-b5fc66b6-fc73-4bc3-bd97-1526aff36bfd-c000.snappy.parquet.crc [Content-Type=application/octet-stream]...\n",
      "Copying file://data/pq/yellow/2021/02/part-00002-b5fc66b6-fc73-4bc3-bd97-1526aff36bfd-c000.snappy.parquet [Content-Type=application/octet-stream]...\n",
      "Copying file://data/pq/yellow/2021/02/_SUCCESS [Content-Type=application/octet-stream]...\n",
      "Copying file://data/pq/yellow/2021/02/.part-00002-b5fc66b6-fc73-4bc3-bd97-1526aff36bfd-c000.snappy.parquet.crc [Content-Type=application/octet-stream]...\n",
      "Copying file://data/pq/yellow/2021/05/part-00001-becf9f73-4b79-4d7f-a44c-4500b3f59d7e-c000.snappy.parquet [Content-Type=application/octet-stream]...\n",
      "Copying file://data/pq/yellow/2021/05/part-00000-becf9f73-4b79-4d7f-a44c-4500b3f59d7e-c000.snappy.parquet [Content-Type=application/octet-stream]...\n",
      "Copying file://data/pq/yellow/2021/05/._SUCCESS.crc [Content-Type=application/octet-stream]...\n",
      "Copying file://data/pq/yellow/2021/05/.part-00003-becf9f73-4b79-4d7f-a44c-4500b3f59d7e-c000.snappy.parquet.crc [Content-Type=application/octet-stream]...\n",
      "Copying file://data/pq/yellow/2021/05/.part-00002-becf9f73-4b79-4d7f-a44c-4500b3f59d7e-c000.snappy.parquet.crc [Content-Type=application/octet-stream]...\n",
      "Copying file://data/pq/yellow/2021/05/part-00003-becf9f73-4b79-4d7f-a44c-4500b3f59d7e-c000.snappy.parquet [Content-Type=application/octet-stream]...\n",
      "Copying file://data/pq/yellow/2021/05/.part-00000-becf9f73-4b79-4d7f-a44c-4500b3f59d7e-c000.snappy.parquet.crc [Content-Type=application/octet-stream]...\n",
      "Copying file://data/pq/yellow/2021/05/.part-00001-becf9f73-4b79-4d7f-a44c-4500b3f59d7e-c000.snappy.parquet.crc [Content-Type=application/octet-stream]...\n",
      "Copying file://data/pq/yellow/2021/05/part-00002-becf9f73-4b79-4d7f-a44c-4500b3f59d7e-c000.snappy.parquet [Content-Type=application/octet-stream]...\n",
      "Copying file://data/pq/yellow/2021/05/_SUCCESS [Content-Type=application/octet-stream]...\n",
      "Copying file://data/pq/yellow/2021/04/part-00002-ab76d548-6470-4279-8006-976519d97452-c000.snappy.parquet [Content-Type=application/octet-stream]...\n",
      "Copying file://data/pq/yellow/2021/04/.part-00001-ab76d548-6470-4279-8006-976519d97452-c000.snappy.parquet.crc [Content-Type=application/octet-stream]...\n",
      "Copying file://data/pq/yellow/2021/04/.part-00002-ab76d548-6470-4279-8006-976519d97452-c000.snappy.parquet.crc [Content-Type=application/octet-stream]...\n",
      "Copying file://data/pq/yellow/2021/04/._SUCCESS.crc [Content-Type=application/octet-stream]...\n",
      "Copying file://data/pq/yellow/2021/04/part-00000-ab76d548-6470-4279-8006-976519d97452-c000.snappy.parquet [Content-Type=application/octet-stream]...\n",
      "Copying file://data/pq/yellow/2021/04/.part-00000-ab76d548-6470-4279-8006-976519d97452-c000.snappy.parquet.crc [Content-Type=application/octet-stream]...\n",
      "Copying file://data/pq/yellow/2021/04/part-00003-ab76d548-6470-4279-8006-976519d97452-c000.snappy.parquet [Content-Type=application/octet-stream]...\n",
      "Copying file://data/pq/yellow/2021/04/part-00001-ab76d548-6470-4279-8006-976519d97452-c000.snappy.parquet [Content-Type=application/octet-stream]...\n",
      "Copying file://data/pq/yellow/2021/04/_SUCCESS [Content-Type=application/octet-stream]...\n",
      "Copying file://data/pq/yellow/2021/04/.part-00003-ab76d548-6470-4279-8006-976519d97452-c000.snappy.parquet.crc [Content-Type=application/octet-stream]...\n",
      "Copying file://data/pq/yellow/2021/07/.part-00000-61a8eca4-a7c1-49ee-aa01-f82b1b898f2c-c000.snappy.parquet.crc [Content-Type=application/octet-stream]...\n",
      "Copying file://data/pq/yellow/2021/07/part-00000-61a8eca4-a7c1-49ee-aa01-f82b1b898f2c-c000.snappy.parquet [Content-Type=application/octet-stream]...\n",
      "Copying file://data/pq/yellow/2021/07/.part-00001-61a8eca4-a7c1-49ee-aa01-f82b1b898f2c-c000.snappy.parquet.crc [Content-Type=application/octet-stream]...\n",
      "Copying file://data/pq/yellow/2021/07/part-00001-61a8eca4-a7c1-49ee-aa01-f82b1b898f2c-c000.snappy.parquet [Content-Type=application/octet-stream]...\n",
      "Copying file://data/pq/yellow/2021/07/._SUCCESS.crc [Content-Type=application/octet-stream]...\n",
      "Copying file://data/pq/yellow/2021/07/.part-00003-61a8eca4-a7c1-49ee-aa01-f82b1b898f2c-c000.snappy.parquet.crc [Content-Type=application/octet-stream]...\n",
      "Copying file://data/pq/yellow/2021/07/part-00003-61a8eca4-a7c1-49ee-aa01-f82b1b898f2c-c000.snappy.parquet [Content-Type=application/octet-stream]...\n",
      "Copying file://data/pq/yellow/2021/07/.part-00002-61a8eca4-a7c1-49ee-aa01-f82b1b898f2c-c000.snappy.parquet.crc [Content-Type=application/octet-stream]...\n",
      "Copying file://data/pq/yellow/2021/07/part-00002-61a8eca4-a7c1-49ee-aa01-f82b1b898f2c-c000.snappy.parquet [Content-Type=application/octet-stream]...\n",
      "Copying file://data/pq/yellow/2021/07/_SUCCESS [Content-Type=application/octet-stream]...\n",
      "Copying file://data/pq/yellow/2021/03/.part-00003-e0ffec7d-7e99-4734-99a8-dc15f29b67ef-c000.snappy.parquet.crc [Content-Type=application/octet-stream]...\n",
      "Copying file://data/pq/yellow/2021/03/part-00003-e0ffec7d-7e99-4734-99a8-dc15f29b67ef-c000.snappy.parquet [Content-Type=application/octet-stream]...\n",
      "Copying file://data/pq/yellow/2021/03/.part-00000-e0ffec7d-7e99-4734-99a8-dc15f29b67ef-c000.snappy.parquet.crc [Content-Type=application/octet-stream]...\n",
      "Copying file://data/pq/yellow/2021/03/._SUCCESS.crc [Content-Type=application/octet-stream]...\n",
      "Copying file://data/pq/yellow/2021/03/part-00002-e0ffec7d-7e99-4734-99a8-dc15f29b67ef-c000.snappy.parquet [Content-Type=application/octet-stream]...\n",
      "Copying file://data/pq/yellow/2021/03/.part-00001-e0ffec7d-7e99-4734-99a8-dc15f29b67ef-c000.snappy.parquet.crc [Content-Type=application/octet-stream]...\n",
      "Copying file://data/pq/yellow/2021/03/part-00000-e0ffec7d-7e99-4734-99a8-dc15f29b67ef-c000.snappy.parquet [Content-Type=application/octet-stream]...\n",
      "Copying file://data/pq/yellow/2021/03/part-00001-e0ffec7d-7e99-4734-99a8-dc15f29b67ef-c000.snappy.parquet [Content-Type=application/octet-stream]...\n",
      "Copying file://data/pq/yellow/2021/03/.part-00002-e0ffec7d-7e99-4734-99a8-dc15f29b67ef-c000.snappy.parquet.crc [Content-Type=application/octet-stream]...\n",
      "Copying file://data/pq/yellow/2021/03/_SUCCESS [Content-Type=application/octet-stream]...\n",
      "Copying file://data/pq/yellow/2021/06/.part-00000-5fe3cd00-be33-40f0-a40a-9f2405edd39a-c000.snappy.parquet.crc [Content-Type=application/octet-stream]...\n",
      "Copying file://data/pq/yellow/2021/06/part-00003-5fe3cd00-be33-40f0-a40a-9f2405edd39a-c000.snappy.parquet [Content-Type=application/octet-stream]...\n",
      "Copying file://data/pq/yellow/2021/06/part-00001-5fe3cd00-be33-40f0-a40a-9f2405edd39a-c000.snappy.parquet [Content-Type=application/octet-stream]...\n",
      "Copying file://data/pq/yellow/2021/06/.part-00002-5fe3cd00-be33-40f0-a40a-9f2405edd39a-c000.snappy.parquet.crc [Content-Type=application/octet-stream]...\n",
      "Copying file://data/pq/yellow/2021/06/._SUCCESS.crc [Content-Type=application/octet-stream]...\n",
      "Copying file://data/pq/yellow/2021/06/.part-00001-5fe3cd00-be33-40f0-a40a-9f2405edd39a-c000.snappy.parquet.crc [Content-Type=application/octet-stream]...\n",
      "Copying file://data/pq/yellow/2021/06/.part-00003-5fe3cd00-be33-40f0-a40a-9f2405edd39a-c000.snappy.parquet.crc [Content-Type=application/octet-stream]...\n",
      "Copying file://data/pq/yellow/2021/06/part-00002-5fe3cd00-be33-40f0-a40a-9f2405edd39a-c000.snappy.parquet [Content-Type=application/octet-stream]...\n",
      "Copying file://data/pq/yellow/2021/06/part-00000-5fe3cd00-be33-40f0-a40a-9f2405edd39a-c000.snappy.parquet [Content-Type=application/octet-stream]...\n",
      "Copying file://data/pq/yellow/2021/06/_SUCCESS [Content-Type=application/octet-stream]...\n",
      "Copying file://data/pq/yellow/2021/01/._SUCCESS.crc [Content-Type=application/octet-stream]...\n",
      "Copying file://data/pq/yellow/2021/01/.part-00000-ab11260f-f2c1-4f6c-a62c-5298c54b6b6a-c000.snappy.parquet.crc [Content-Type=application/octet-stream]...\n",
      "Copying file://data/pq/yellow/2021/01/.part-00002-ab11260f-f2c1-4f6c-a62c-5298c54b6b6a-c000.snappy.parquet.crc [Content-Type=application/octet-stream]...\n",
      "Copying file://data/pq/yellow/2021/01/part-00003-ab11260f-f2c1-4f6c-a62c-5298c54b6b6a-c000.snappy.parquet [Content-Type=application/octet-stream]...\n",
      "Copying file://data/pq/yellow/2021/01/part-00002-ab11260f-f2c1-4f6c-a62c-5298c54b6b6a-c000.snappy.parquet [Content-Type=application/octet-stream]...\n",
      "Copying file://data/pq/yellow/2021/01/.part-00001-ab11260f-f2c1-4f6c-a62c-5298c54b6b6a-c000.snappy.parquet.crc [Content-Type=application/octet-stream]...\n",
      "Copying file://data/pq/yellow/2021/01/part-00000-ab11260f-f2c1-4f6c-a62c-5298c54b6b6a-c000.snappy.parquet [Content-Type=application/octet-stream]...\n",
      "Copying file://data/pq/yellow/2021/01/.part-00003-ab11260f-f2c1-4f6c-a62c-5298c54b6b6a-c000.snappy.parquet.crc [Content-Type=application/octet-stream]...\n",
      "Copying file://data/pq/yellow/2021/01/part-00001-ab11260f-f2c1-4f6c-a62c-5298c54b6b6a-c000.snappy.parquet [Content-Type=application/octet-stream]...\n",
      "Copying file://data/pq/yellow/2021/01/_SUCCESS [Content-Type=application/octet-stream]...\n",
      "/ [148/148 files][408.0 MiB/408.0 MiB] 100% Done  55.0 MiB/s ETA 00:00:00       \n",
      "Operation completed over 148 objects/408.0 MiB.                                  \n"
     ]
    }
   ],
   "source": [
    "!gsutil -m cp -r data/pq/ gs://airbnb-468005-bucket/spark_practice/data/pq"
   ]
  },
  {
   "cell_type": "code",
   "execution_count": 9,
   "id": "46a9b73a-e454-41b6-ae59-a699035336dd",
   "metadata": {},
   "outputs": [
    {
     "name": "stdout",
     "output_type": "stream",
     "text": [
      "--2025-08-15 08:36:14--  https://storage.googleapis.com/hadoop-lib/gcs/gcs-connector-hadoop3-latest.jar\n",
      "Resolving storage.googleapis.com (storage.googleapis.com)... 173.194.193.207, 173.194.194.207, 173.194.195.207, ...\n",
      "Connecting to storage.googleapis.com (storage.googleapis.com)|173.194.193.207|:443... connected.\n",
      "HTTP request sent, awaiting response... 200 OK\n",
      "Length: 40713341 (39M) [application/java-archive]\n",
      "Saving to: ‘gcs-connector-hadoop3-latest.jar’\n",
      "\n",
      "gcs-connector-hadoo 100%[===================>]  38.83M   133MB/s    in 0.3s    \n",
      "\n",
      "2025-08-15 08:36:15 (133 MB/s) - ‘gcs-connector-hadoop3-latest.jar’ saved [40713341/40713341]\n",
      "\n"
     ]
    }
   ],
   "source": [
    "!wget https://storage.googleapis.com/hadoop-lib/gcs/gcs-connector-hadoop3-latest.jar"
   ]
  },
  {
   "cell_type": "code",
   "execution_count": 10,
   "id": "e2ca2a4c-e3d2-498f-91f4-0e1e197e3624",
   "metadata": {},
   "outputs": [],
   "source": [
    "import pyspark\n",
    "from pyspark.sql import SparkSession\n",
    "from pyspark.conf import SparkConf\n",
    "from pyspark.context import SparkContext"
   ]
  },
  {
   "cell_type": "code",
   "execution_count": 11,
   "id": "ef1a3aa1-e0aa-4c0c-aa53-47033b15175e",
   "metadata": {},
   "outputs": [],
   "source": [
    "credentials_location = \"/home/sweantu/.keys/airbnb-468005-b68cd81995fd.json\"\n",
    "\n",
    "conf = SparkConf() \\\n",
    "    .setMaster('local[*]') \\\n",
    "    .setAppName('test') \\\n",
    "    .set(\"spark.jars\", \"gcs-connector-hadoop3-latest.jar\") \\\n",
    "    .set(\"spark.hadoop.google.cloud.auth.service.account.enable\", \"true\") \\\n",
    "    .set(\"spark.hadoop.google.cloud.auth.service.account.json.keyfile\", credentials_location)"
   ]
  },
  {
   "cell_type": "code",
   "execution_count": 12,
   "id": "034111b2-8877-435b-b644-c8a90acbc1df",
   "metadata": {},
   "outputs": [
    {
     "name": "stderr",
     "output_type": "stream",
     "text": [
      "25/08/15 08:37:54 WARN NativeCodeLoader: Unable to load native-hadoop library for your platform... using builtin-java classes where applicable\n",
      "Setting default log level to \"WARN\".\n",
      "To adjust logging level use sc.setLogLevel(newLevel). For SparkR, use setLogLevel(newLevel).\n"
     ]
    }
   ],
   "source": [
    "sc = SparkContext(conf=conf)\n",
    "\n",
    "hadoop_conf = sc._jsc.hadoopConfiguration()\n",
    "\n",
    "hadoop_conf.set(\"fs.AbstractFileSystem.gs.impl\",  \"com.google.cloud.hadoop.fs.gcs.GoogleHadoopFS\")\n",
    "hadoop_conf.set(\"fs.gs.impl\", \"com.google.cloud.hadoop.fs.gcs.GoogleHadoopFileSystem\")\n",
    "hadoop_conf.set(\"fs.gs.auth.service.account.json.keyfile\", credentials_location)\n",
    "hadoop_conf.set(\"fs.gs.auth.service.account.enable\", \"true\")"
   ]
  },
  {
   "cell_type": "code",
   "execution_count": 13,
   "id": "c55a9d40-1518-4b32-ad78-cb816cf8bce4",
   "metadata": {},
   "outputs": [],
   "source": [
    "spark = SparkSession.builder \\\n",
    "    .config(conf=sc.getConf()) \\\n",
    "    .getOrCreate()"
   ]
  },
  {
   "cell_type": "code",
   "execution_count": 14,
   "id": "272e2839-a7b6-4a9a-90af-a5662e16320e",
   "metadata": {},
   "outputs": [
    {
     "name": "stderr",
     "output_type": "stream",
     "text": [
      "                                                                                "
     ]
    }
   ],
   "source": [
    "df_green = spark.read.parquet('gs://airbnb-468005-bucket/spark_practice/data/pq/green/*/*')"
   ]
  },
  {
   "cell_type": "code",
   "execution_count": 15,
   "id": "7e64b0e5-08b1-40f7-a0e6-150e16e090cb",
   "metadata": {
    "scrolled": true
   },
   "outputs": [
    {
     "name": "stderr",
     "output_type": "stream",
     "text": [
      "                                                                                "
     ]
    },
    {
     "name": "stdout",
     "output_type": "stream",
     "text": [
      "+--------+--------------------+---------------------+------------------+----------+------------+------------+---------------+-------------+-----------+-----+-------+----------+------------+---------+---------------------+------------+------------+---------+--------------------+\n",
      "|VendorID|lpep_pickup_datetime|lpep_dropoff_datetime|store_and_fwd_flag|RatecodeID|PULocationID|DOLocationID|passenger_count|trip_distance|fare_amount|extra|mta_tax|tip_amount|tolls_amount|ehail_fee|improvement_surcharge|total_amount|payment_type|trip_type|congestion_surcharge|\n",
      "+--------+--------------------+---------------------+------------------+----------+------------+------------+---------------+-------------+-----------+-----+-------+----------+------------+---------+---------------------+------------+------------+---------+--------------------+\n",
      "|       2| 2021-06-18 13:31:15|  2021-06-18 13:31:24|                 N|         1|           7|           7|              1|          0.0|        2.5|  0.0|    0.5|       0.0|         0.0|     NULL|                  0.3|         3.3|           2|        1|                 0.0|\n",
      "|       2| 2021-06-24 22:19:13|  2021-06-24 22:34:45|                 N|         1|          41|         163|              1|         3.86|       14.5|  0.5|    0.5|       0.0|         0.0|     NULL|                  0.3|       18.55|           1|        1|                2.75|\n",
      "|       2| 2021-06-29 12:20:36|  2021-06-29 12:24:03|                 N|         1|          43|         236|              5|         0.44|        4.0|  0.0|    0.5|       0.0|         0.0|     NULL|                  0.3|        7.55|           2|        1|                2.75|\n",
      "|    NULL| 2021-06-13 11:50:00|  2021-06-13 12:21:00|              NULL|      NULL|         134|          91|           NULL|         9.17|      36.56| 2.75|    0.0|       0.0|         0.0|     NULL|                  0.3|       39.61|        NULL|     NULL|                NULL|\n",
      "|       2| 2021-06-27 20:04:35|  2021-06-27 20:21:18|                 N|         1|          75|         244|              1|         5.53|       18.0|  0.5|    0.5|       0.0|         0.0|     NULL|                  0.3|        19.3|           2|        1|                 0.0|\n",
      "|       2| 2021-06-23 19:56:24|  2021-06-23 20:49:47|                 N|         1|          22|         197|              1|        21.04|       61.5|  1.0|    0.5|       0.0|         0.0|     NULL|                  0.3|        63.3|           1|        1|                 0.0|\n",
      "|       2| 2021-06-12 10:40:05|  2021-06-12 10:49:28|                 N|         1|          41|         236|              1|         2.08|        9.0|  0.0|    0.5|      3.76|         0.0|     NULL|                  0.3|       16.31|           1|        1|                2.75|\n",
      "|       2| 2021-06-19 15:22:05|  2021-06-19 15:34:24|                 N|         1|          41|         151|              1|         1.35|        9.0|  0.0|    0.5|       0.0|         0.0|     NULL|                  0.3|         9.8|           1|        1|                 0.0|\n",
      "|    NULL| 2021-06-12 21:47:00|  2021-06-12 22:10:00|              NULL|      NULL|         189|         148|           NULL|         4.49|      18.77|  0.0|    0.0|      5.01|         0.0|     NULL|                  0.3|       26.83|        NULL|     NULL|                NULL|\n",
      "|       2| 2021-06-18 19:32:40|  2021-06-18 19:57:15|                 N|         1|          41|         179|              1|         4.74|       20.0|  1.0|    0.5|       5.0|        6.55|     NULL|                  0.3|       33.35|           1|        1|                 0.0|\n",
      "|       1| 2021-06-10 15:46:25|  2021-06-10 16:22:08|                 N|         1|          41|         138|              1|          7.6|       27.0|  0.0|    0.5|      6.85|        6.55|     NULL|                  0.3|        41.2|           1|        1|                 0.0|\n",
      "|       2| 2021-06-23 18:07:57|  2021-06-23 18:14:53|                 N|         1|          41|          75|              6|         1.23|        7.0|  1.0|    0.5|       0.0|         0.0|     NULL|                  0.3|         8.8|           2|        1|                 0.0|\n",
      "|    NULL| 2021-06-16 12:28:00|  2021-06-16 13:17:00|              NULL|      NULL|          35|         227|           NULL|         6.49|      25.59| 2.75|    0.0|       0.0|         0.0|     NULL|                  0.3|       28.64|        NULL|     NULL|                NULL|\n",
      "|    NULL| 2021-06-30 15:51:00|  2021-06-30 16:39:00|              NULL|      NULL|          74|         258|           NULL|        15.24|      44.29|  0.0|    0.0|     11.23|        6.55|     NULL|                  0.3|       62.37|        NULL|     NULL|                NULL|\n",
      "|       2| 2021-06-29 12:59:17|  2021-06-29 13:07:01|                 N|         1|          24|          42|              2|         1.21|        7.0|  0.0|    0.5|      1.17|         0.0|     NULL|                  0.3|        8.97|           1|        1|                 0.0|\n",
      "|       2| 2021-06-18 15:50:37|  2021-06-18 16:12:45|                 N|         1|          74|         166|              1|         1.34|       14.0|  0.0|    0.5|       0.0|         0.0|     NULL|                  0.3|        14.8|           2|        1|                 0.0|\n",
      "|    NULL| 2021-06-18 17:53:00|  2021-06-18 19:22:00|              NULL|      NULL|          52|         220|           NULL|        19.31|      65.36|  0.0|    0.0|     22.38|         0.0|     NULL|                  0.3|       90.79|        NULL|     NULL|                NULL|\n",
      "|       1| 2021-06-22 07:10:17|  2021-06-22 07:10:28|                 N|         1|          75|          75|              1|          0.0|        2.5|  0.0|    0.5|       0.0|         0.0|     NULL|                  0.3|         3.3|           2|        1|                 0.0|\n",
      "|       2| 2021-06-10 09:46:36|  2021-06-10 09:58:01|                 N|         1|          74|          75|              1|         1.57|        9.0|  0.0|    0.5|       0.0|         0.0|     NULL|                  0.3|         9.8|           2|        1|                 0.0|\n",
      "|       2| 2021-06-11 14:29:54|  2021-06-11 14:54:57|                 N|         1|         167|          42|              1|          3.1|       17.0|  0.0|    0.5|       0.0|         0.0|     NULL|                  0.3|        17.8|           2|        1|                 0.0|\n",
      "+--------+--------------------+---------------------+------------------+----------+------------+------------+---------------+-------------+-----------+-----+-------+----------+------------+---------+---------------------+------------+------------+---------+--------------------+\n",
      "only showing top 20 rows\n",
      "\n"
     ]
    }
   ],
   "source": [
    "df_green.show()"
   ]
  },
  {
   "cell_type": "code",
   "execution_count": 16,
   "id": "b21bef57-64dd-4622-a3c0-6709d31b54db",
   "metadata": {},
   "outputs": [
    {
     "name": "stderr",
     "output_type": "stream",
     "text": [
      "                                                                                "
     ]
    },
    {
     "data": {
      "text/plain": [
       "570466"
      ]
     },
     "execution_count": 16,
     "metadata": {},
     "output_type": "execute_result"
    }
   ],
   "source": [
    "df_green.count()"
   ]
  },
  {
   "cell_type": "code",
   "execution_count": 17,
   "id": "7871321b-6110-4448-ba05-dc0d3031a95e",
   "metadata": {},
   "outputs": [],
   "source": [
    "df_yellow = spark.read.parquet('gs://airbnb-468005-bucket/spark_practice/data/pq/yellow/*/*')"
   ]
  },
  {
   "cell_type": "code",
   "execution_count": 18,
   "id": "0d460c5b-4504-443f-99be-e3584bbdadaf",
   "metadata": {},
   "outputs": [
    {
     "name": "stderr",
     "output_type": "stream",
     "text": [
      "                                                                                "
     ]
    },
    {
     "data": {
      "text/plain": [
       "15000700"
      ]
     },
     "execution_count": 18,
     "metadata": {},
     "output_type": "execute_result"
    }
   ],
   "source": [
    "df_yellow.count()"
   ]
  },
  {
   "cell_type": "code",
   "execution_count": 19,
   "id": "c7af5213-a830-4dc9-932c-9e3b0c7e13ff",
   "metadata": {},
   "outputs": [],
   "source": [
    "df_green = df_green \\\n",
    "    .withColumnRenamed('lpep_pickup_datetime', 'pickup_datetime') \\\n",
    "    .withColumnRenamed('lpep_dropoff_datetime', 'dropoff_datetime')"
   ]
  },
  {
   "cell_type": "code",
   "execution_count": 20,
   "id": "c0b409b9-f0f7-4637-be54-2e9c53a7fec0",
   "metadata": {},
   "outputs": [],
   "source": [
    "df_yellow = df_yellow \\\n",
    "    .withColumnRenamed('tpep_pickup_datetime', 'pickup_datetime') \\\n",
    "    .withColumnRenamed('tpep_dropoff_datetime', 'dropoff_datetime')"
   ]
  },
  {
   "cell_type": "code",
   "execution_count": 21,
   "id": "37aa3f4b-72f9-4e27-b625-5683436ee0c3",
   "metadata": {},
   "outputs": [],
   "source": [
    "common_columns = []\n",
    "yellow_columns = set(df_yellow.columns)\n",
    "\n",
    "for col in df_green.columns:\n",
    "    if col in yellow_columns:\n",
    "        common_columns.append(col)"
   ]
  },
  {
   "cell_type": "code",
   "execution_count": 22,
   "id": "a3498632-8e99-4e8e-ace0-904f70d6f6a1",
   "metadata": {},
   "outputs": [],
   "source": [
    "from pyspark.sql import functions as F"
   ]
  },
  {
   "cell_type": "code",
   "execution_count": 23,
   "id": "3b3e177e-c9e9-4308-9ed5-cf09f95b2282",
   "metadata": {},
   "outputs": [],
   "source": [
    "df_green_sel = df_green \\\n",
    "    .select(common_columns) \\\n",
    "    .withColumn('service_type', F.lit('green'))"
   ]
  },
  {
   "cell_type": "code",
   "execution_count": 24,
   "id": "355cba74-a559-4aa1-81cd-1f5ba45f0639",
   "metadata": {},
   "outputs": [],
   "source": [
    "df_yellow_sel = df_yellow \\\n",
    "    .select(common_columns) \\\n",
    "    .withColumn('service_type', F.lit('yellow'))"
   ]
  },
  {
   "cell_type": "code",
   "execution_count": 25,
   "id": "9e8b78a5-3bfb-473c-8a4a-5e16a7ecaec6",
   "metadata": {},
   "outputs": [],
   "source": [
    "df_trips_data = df_green_sel.unionAll(df_yellow_sel)"
   ]
  },
  {
   "cell_type": "code",
   "execution_count": 26,
   "id": "9be0996d-0799-4c54-a3f3-0885086124d1",
   "metadata": {},
   "outputs": [
    {
     "name": "stderr",
     "output_type": "stream",
     "text": [
      "[Stage 9:==================================================>        (6 + 1) / 7]"
     ]
    },
    {
     "name": "stdout",
     "output_type": "stream",
     "text": [
      "+------------+--------+\n",
      "|service_type|   count|\n",
      "+------------+--------+\n",
      "|       green|  570466|\n",
      "|      yellow|15000700|\n",
      "+------------+--------+\n",
      "\n"
     ]
    },
    {
     "name": "stderr",
     "output_type": "stream",
     "text": [
      "                                                                                "
     ]
    }
   ],
   "source": [
    "df_trips_data.groupBy('service_type').count().show()"
   ]
  },
  {
   "cell_type": "code",
   "execution_count": 27,
   "id": "86e02dcb-5d88-42e6-858e-f0ab77df40b9",
   "metadata": {},
   "outputs": [],
   "source": [
    "df_trips_data.createOrReplaceTempView('trips_data')"
   ]
  },
  {
   "cell_type": "code",
   "execution_count": 28,
   "id": "2cd3450c-b5d9-4d2f-94ec-bc4aa38fb0c5",
   "metadata": {},
   "outputs": [
    {
     "name": "stdout",
     "output_type": "stream",
     "text": [
      "+--------+-------------------+-------------------+------------------+----------+------------+------------+---------------+-------------+-----------+-----+-------+----------+------------+---------------------+------------+------------+--------------------+------------+\n",
      "|VendorID|    pickup_datetime|   dropoff_datetime|store_and_fwd_flag|RatecodeID|PULocationID|DOLocationID|passenger_count|trip_distance|fare_amount|extra|mta_tax|tip_amount|tolls_amount|improvement_surcharge|total_amount|payment_type|congestion_surcharge|service_type|\n",
      "+--------+-------------------+-------------------+------------------+----------+------------+------------+---------------+-------------+-----------+-----+-------+----------+------------+---------------------+------------+------------+--------------------+------------+\n",
      "|       2|2021-06-18 13:31:15|2021-06-18 13:31:24|                 N|         1|           7|           7|              1|          0.0|        2.5|  0.0|    0.5|       0.0|         0.0|                  0.3|         3.3|           2|                 0.0|       green|\n",
      "|       2|2021-06-24 22:19:13|2021-06-24 22:34:45|                 N|         1|          41|         163|              1|         3.86|       14.5|  0.5|    0.5|       0.0|         0.0|                  0.3|       18.55|           1|                2.75|       green|\n",
      "|       2|2021-06-29 12:20:36|2021-06-29 12:24:03|                 N|         1|          43|         236|              5|         0.44|        4.0|  0.0|    0.5|       0.0|         0.0|                  0.3|        7.55|           2|                2.75|       green|\n",
      "|    NULL|2021-06-13 11:50:00|2021-06-13 12:21:00|              NULL|      NULL|         134|          91|           NULL|         9.17|      36.56| 2.75|    0.0|       0.0|         0.0|                  0.3|       39.61|        NULL|                NULL|       green|\n",
      "|       2|2021-06-27 20:04:35|2021-06-27 20:21:18|                 N|         1|          75|         244|              1|         5.53|       18.0|  0.5|    0.5|       0.0|         0.0|                  0.3|        19.3|           2|                 0.0|       green|\n",
      "|       2|2021-06-23 19:56:24|2021-06-23 20:49:47|                 N|         1|          22|         197|              1|        21.04|       61.5|  1.0|    0.5|       0.0|         0.0|                  0.3|        63.3|           1|                 0.0|       green|\n",
      "|       2|2021-06-12 10:40:05|2021-06-12 10:49:28|                 N|         1|          41|         236|              1|         2.08|        9.0|  0.0|    0.5|      3.76|         0.0|                  0.3|       16.31|           1|                2.75|       green|\n",
      "|       2|2021-06-19 15:22:05|2021-06-19 15:34:24|                 N|         1|          41|         151|              1|         1.35|        9.0|  0.0|    0.5|       0.0|         0.0|                  0.3|         9.8|           1|                 0.0|       green|\n",
      "|    NULL|2021-06-12 21:47:00|2021-06-12 22:10:00|              NULL|      NULL|         189|         148|           NULL|         4.49|      18.77|  0.0|    0.0|      5.01|         0.0|                  0.3|       26.83|        NULL|                NULL|       green|\n",
      "|       2|2021-06-18 19:32:40|2021-06-18 19:57:15|                 N|         1|          41|         179|              1|         4.74|       20.0|  1.0|    0.5|       5.0|        6.55|                  0.3|       33.35|           1|                 0.0|       green|\n",
      "+--------+-------------------+-------------------+------------------+----------+------------+------------+---------------+-------------+-----------+-----+-------+----------+------------+---------------------+------------+------------+--------------------+------------+\n",
      "\n"
     ]
    }
   ],
   "source": [
    "spark.sql(\"\"\"\n",
    "SELECT * FROM trips_data LIMIT 10;\n",
    "\"\"\").show()"
   ]
  },
  {
   "cell_type": "code",
   "execution_count": 29,
   "id": "b2442853-126d-4e76-a8af-7b0d053c7cac",
   "metadata": {},
   "outputs": [
    {
     "name": "stderr",
     "output_type": "stream",
     "text": [
      "[Stage 13:=========================================>                (5 + 2) / 7]"
     ]
    },
    {
     "name": "stdout",
     "output_type": "stream",
     "text": [
      "+------------+--------+\n",
      "|service_type|count(1)|\n",
      "+------------+--------+\n",
      "|       green|  570466|\n",
      "|      yellow|15000700|\n",
      "+------------+--------+\n",
      "\n"
     ]
    },
    {
     "name": "stderr",
     "output_type": "stream",
     "text": [
      "                                                                                "
     ]
    }
   ],
   "source": [
    "spark.sql(\"\"\"\n",
    "SELECT\n",
    "    service_type,\n",
    "    count(1)\n",
    "FROM\n",
    "    trips_data\n",
    "GROUP BY service_type;\n",
    "\"\"\").show()"
   ]
  },
  {
   "cell_type": "code",
   "execution_count": 31,
   "id": "dc38cd18-db91-412a-aa2e-0d13a6422382",
   "metadata": {},
   "outputs": [],
   "source": [
    "df_result = spark.sql(\"\"\"\n",
    "SELECT\n",
    "    -- Revenue grouping \n",
    "    PULocationID AS revenue_zone,\n",
    "    date_trunc('month', pickup_datetime) AS revenue_month,\n",
    "    service_type, \n",
    "\n",
    "    -- Revenue calculation \n",
    "    SUM(fare_amount) AS revenue_monthly_fare,\n",
    "    SUM(extra) AS revenue_monthly_extra,\n",
    "    SUM(mta_tax) AS revenue_monthly_mta_tax,\n",
    "    SUM(tip_amount) AS revenue_monthly_tip_amount,\n",
    "    SUM(tolls_amount) AS revenue_monthly_tolls_amount,\n",
    "    SUM(improvement_surcharge) AS revenue_monthly_improvement_surcharge,\n",
    "    SUM(total_amount) AS revenue_monthly_total_amount,\n",
    "\n",
    "    -- Additional calculations\n",
    "    AVG(passenger_count) AS avg_monthly_passenger_count,\n",
    "    AVG(trip_distance) AS avg_monthly_trip_distance\n",
    "FROM trips_data\n",
    "GROUP BY 1,2,3\n",
    "\"\"\")"
   ]
  },
  {
   "cell_type": "code",
   "execution_count": 32,
   "id": "e5b9461b-a00e-4f0e-8bc1-17f22b2ed072",
   "metadata": {},
   "outputs": [
    {
     "name": "stderr",
     "output_type": "stream",
     "text": [
      "[Stage 16:=================================================>        (6 + 1) / 7]"
     ]
    },
    {
     "name": "stdout",
     "output_type": "stream",
     "text": [
      "+------------+-------------------+------------+--------------------+---------------------+-----------------------+--------------------------+----------------------------+-------------------------------------+----------------------------+---------------------------+-------------------------+\n",
      "|revenue_zone|      revenue_month|service_type|revenue_monthly_fare|revenue_monthly_extra|revenue_monthly_mta_tax|revenue_monthly_tip_amount|revenue_monthly_tolls_amount|revenue_monthly_improvement_surcharge|revenue_monthly_total_amount|avg_monthly_passenger_count|avg_monthly_trip_distance|\n",
      "+------------+-------------------+------------+--------------------+---------------------+-----------------------+--------------------------+----------------------------+-------------------------------------+----------------------------+---------------------------+-------------------------+\n",
      "|         259|2021-04-01 00:00:00|       green|   7895.719999999992|                585.2|                    6.0|        148.82999999999998|          465.24000000000024|                    71.09999999999982|           9177.589999999997|                        1.2|         9.19502092050209|\n",
      "|         161|2021-04-01 00:00:00|       green|             1096.75|                 88.0|                    0.0|                       0.0|           63.22999999999999|                    9.299999999999997|                     1257.28|                       NULL|       10.048709677419355|\n",
      "|         239|2021-06-01 00:00:00|       green|   997.1000000000004|                96.25|                    0.5|                      9.71|                        16.1|                   10.800000000000004|                     1137.71|                       NULL|        6.322222222222224|\n",
      "|          27|2021-06-01 00:00:00|       green|              288.14|                 4.75|                    1.0|        28.619999999999997|                       21.09|                                  1.8|          345.40000000000003|                        1.0|       12.956666666666669|\n",
      "|          40|2021-05-01 00:00:00|       green|  2052.9400000000005|    82.29999999999998|                   30.5|                    243.16|           80.61999999999999|                    34.50000000000003|           2595.519999999999|         1.0476190476190477|        4.144137931034485|\n",
      "|         250|2021-05-01 00:00:00|       green|             5046.26|   470.65000000000003|                   17.0|         55.88000000000001|          220.98000000000013|                   60.299999999999784|           5873.820000000004|          1.393939393939394|       1108.1411330049261|\n",
      "|         168|2021-04-01 00:00:00|       green|  12315.400000000005|    996.0500000000001|                   78.0|        239.53000000000006|           504.5500000000003|                   171.89999999999912|                    14346.68|          1.319047619047619|        4.827266553480474|\n",
      "|          79|2021-04-01 00:00:00|       green|              502.26|                 46.7|                    1.5|                       0.0|                       25.77|                    5.399999999999999|                      581.63|                        1.0|        7.223888888888889|\n",
      "|         207|2021-06-01 00:00:00|       green|   810.8100000000001|                20.25|                   14.0|                       0.0|                        13.1|                   11.700000000000006|           869.8599999999994|         1.5405405405405406|        2.240227272727273|\n",
      "|          36|2021-06-01 00:00:00|       green|   3204.999999999999|               219.75|                    9.0|         67.58000000000001|          128.91999999999996|                    34.50000000000003|                     3681.25|         1.2173913043478262|        6.057999999999999|\n",
      "|          92|2021-05-01 00:00:00|       green|   6651.059999999999|   423.05000000000007|                   53.0|         93.99000000000001|           275.1000000000002|                    78.59999999999961|           7574.800000000013|          0.991304347826087|       313.15286792452815|\n",
      "|         101|2021-05-01 00:00:00|       green|   927.5100000000002|                 60.5|                    1.5|                       0.0|                       25.77|                    7.499999999999997|                     1022.78|                        1.0|        9.271999999999998|\n",
      "|          72|2021-07-01 00:00:00|       green|  11208.870000000004|                898.6|                   28.0|        38.650000000000006|           339.1900000000002|                   116.39999999999925|          12629.710000000001|         1.0333333333333334|       339.82054123711316|\n",
      "|         241|2021-04-01 00:00:00|       green|             6659.92|   466.09999999999997|                   30.5|                    197.88|          257.05000000000007|                    76.79999999999987|           7693.750000000001|         1.0945945945945945|        735.5661153846154|\n",
      "|         184|2021-04-01 00:00:00|       green|  388.79999999999995|                 28.5|                    2.0|                       1.0|                       18.47|                    4.199999999999999|                      442.97|                        1.4|                     8.49|\n",
      "|         194|2021-05-01 00:00:00|       green|               399.5|                  6.0|                    5.0|        41.309999999999995|           52.39999999999999|                    4.199999999999999|                      519.41|         1.3333333333333333|        5.384666666666666|\n",
      "|          27|2021-05-01 00:00:00|       green|               96.75|                  0.0|                    0.5|                      20.0|                        2.45|                                  0.6|                       120.3|                        2.0|                   15.155|\n",
      "|         120|2021-05-01 00:00:00|       green|              337.24|                 11.0|                    4.5|                       0.0|                       19.65|                   3.2999999999999994|          375.69000000000005|         1.6666666666666667|        8.152727272727274|\n",
      "|          78|2021-06-01 00:00:00|       green|             5668.69|                392.0|                   28.0|        110.58000000000001|           308.9500000000002|                     69.2999999999997|           6588.520000000007|         1.0149253731343284|        1430.718540772532|\n",
      "|          33|2021-05-01 00:00:00|       green|  19342.080000000053|               852.75|                  353.5|        1950.8499999999983|                       44.75|                   313.50000000000614|           23432.17999999983|         1.0560224089635855|         35.7043499043977|\n",
      "+------------+-------------------+------------+--------------------+---------------------+-----------------------+--------------------------+----------------------------+-------------------------------------+----------------------------+---------------------------+-------------------------+\n",
      "only showing top 20 rows\n",
      "\n"
     ]
    },
    {
     "name": "stderr",
     "output_type": "stream",
     "text": [
      "                                                                                "
     ]
    }
   ],
   "source": [
    "df_result.show()"
   ]
  },
  {
   "cell_type": "code",
   "execution_count": 34,
   "id": "4dd11f46-a846-451f-9271-9d445bfc9e43",
   "metadata": {},
   "outputs": [
    {
     "name": "stderr",
     "output_type": "stream",
     "text": [
      "                                                                                "
     ]
    }
   ],
   "source": [
    "df_result.coalesce(1).write.parquet('gs://airbnb-468005-bucket/spark_practice/data/report/revenue/', mode='overwrite')"
   ]
  },
  {
   "cell_type": "code",
   "execution_count": 35,
   "id": "7f5a856d-9b80-4352-9125-84e9ec0e9672",
   "metadata": {},
   "outputs": [],
   "source": [
    "df_report = spark.read.parquet('gs://airbnb-468005-bucket/spark_practice/data/report/revenue/')"
   ]
  },
  {
   "cell_type": "code",
   "execution_count": 36,
   "id": "1a5b8916-a615-4883-b11b-d569cf49ab8a",
   "metadata": {},
   "outputs": [
    {
     "data": {
      "text/plain": [
       "DataFrame[revenue_zone: int, revenue_month: timestamp, service_type: string, revenue_monthly_fare: double, revenue_monthly_extra: double, revenue_monthly_mta_tax: double, revenue_monthly_tip_amount: double, revenue_monthly_tolls_amount: double, revenue_monthly_improvement_surcharge: double, revenue_monthly_total_amount: double, avg_monthly_passenger_count: double, avg_monthly_trip_distance: double]"
      ]
     },
     "execution_count": 36,
     "metadata": {},
     "output_type": "execute_result"
    }
   ],
   "source": [
    "df_report"
   ]
  },
  {
   "cell_type": "code",
   "execution_count": 37,
   "id": "af49a7f2-1d60-408f-98e5-072abd02369a",
   "metadata": {},
   "outputs": [
    {
     "data": {
      "text/plain": [
       "3713"
      ]
     },
     "execution_count": 37,
     "metadata": {},
     "output_type": "execute_result"
    }
   ],
   "source": [
    "df_report.count()"
   ]
  },
  {
   "cell_type": "code",
   "execution_count": 38,
   "id": "441b5ca9-ad68-487c-bdcb-e397689c4019",
   "metadata": {},
   "outputs": [
    {
     "name": "stdout",
     "output_type": "stream",
     "text": [
      "+------------+-------------------+------------+--------------------+---------------------+-----------------------+--------------------------+----------------------------+-------------------------------------+----------------------------+---------------------------+-------------------------+\n",
      "|revenue_zone|      revenue_month|service_type|revenue_monthly_fare|revenue_monthly_extra|revenue_monthly_mta_tax|revenue_monthly_tip_amount|revenue_monthly_tolls_amount|revenue_monthly_improvement_surcharge|revenue_monthly_total_amount|avg_monthly_passenger_count|avg_monthly_trip_distance|\n",
      "+------------+-------------------+------------+--------------------+---------------------+-----------------------+--------------------------+----------------------------+-------------------------------------+----------------------------+---------------------------+-------------------------+\n",
      "|         259|2021-04-01 00:00:00|       green|   7895.719999999992|                585.2|                    6.0|        148.82999999999998|          465.24000000000024|                    71.09999999999982|           9177.589999999997|                        1.2|         9.19502092050209|\n",
      "|         161|2021-04-01 00:00:00|       green|             1096.75|                 88.0|                    0.0|                       0.0|           63.22999999999999|                    9.299999999999997|                     1257.28|                       NULL|       10.048709677419355|\n",
      "|         239|2021-06-01 00:00:00|       green|   997.1000000000004|                96.25|                    0.5|                      9.71|                        16.1|                   10.800000000000004|                     1137.71|                       NULL|        6.322222222222224|\n",
      "|          27|2021-06-01 00:00:00|       green|              288.14|                 4.75|                    1.0|        28.619999999999997|                       21.09|                                  1.8|          345.40000000000003|                        1.0|       12.956666666666669|\n",
      "|          40|2021-05-01 00:00:00|       green|  2052.9400000000005|    82.29999999999998|                   30.5|                    243.16|           80.61999999999999|                    34.50000000000003|           2595.519999999999|         1.0476190476190477|        4.144137931034485|\n",
      "|         250|2021-05-01 00:00:00|       green|             5046.26|   470.65000000000003|                   17.0|         55.88000000000001|          220.98000000000013|                   60.299999999999784|           5873.820000000004|          1.393939393939394|       1108.1411330049261|\n",
      "|         168|2021-04-01 00:00:00|       green|  12315.400000000005|    996.0500000000001|                   78.0|        239.53000000000006|           504.5500000000003|                   171.89999999999912|                    14346.68|          1.319047619047619|        4.827266553480474|\n",
      "|          79|2021-04-01 00:00:00|       green|              502.26|                 46.7|                    1.5|                       0.0|                       25.77|                    5.399999999999999|                      581.63|                        1.0|        7.223888888888889|\n",
      "|         207|2021-06-01 00:00:00|       green|   810.8100000000001|                20.25|                   14.0|                       0.0|                        13.1|                   11.700000000000006|           869.8599999999994|         1.5405405405405406|        2.240227272727273|\n",
      "|          36|2021-06-01 00:00:00|       green|   3204.999999999999|               219.75|                    9.0|         67.58000000000001|          128.91999999999996|                    34.50000000000003|                     3681.25|         1.2173913043478262|        6.057999999999999|\n",
      "|          92|2021-05-01 00:00:00|       green|   6651.059999999999|   423.05000000000007|                   53.0|         93.99000000000001|           275.1000000000002|                    78.59999999999961|           7574.800000000013|          0.991304347826087|       313.15286792452815|\n",
      "|         101|2021-05-01 00:00:00|       green|   927.5100000000002|                 60.5|                    1.5|                       0.0|                       25.77|                    7.499999999999997|                     1022.78|                        1.0|        9.271999999999998|\n",
      "|          72|2021-07-01 00:00:00|       green|  11208.870000000004|                898.6|                   28.0|        38.650000000000006|           339.1900000000002|                   116.39999999999925|          12629.710000000001|         1.0333333333333334|       339.82054123711316|\n",
      "|         241|2021-04-01 00:00:00|       green|             6659.92|   466.09999999999997|                   30.5|                    197.88|          257.05000000000007|                    76.79999999999987|           7693.750000000001|         1.0945945945945945|        735.5661153846154|\n",
      "|         184|2021-04-01 00:00:00|       green|  388.79999999999995|                 28.5|                    2.0|                       1.0|                       18.47|                    4.199999999999999|                      442.97|                        1.4|                     8.49|\n",
      "|         194|2021-05-01 00:00:00|       green|               399.5|                  6.0|                    5.0|        41.309999999999995|           52.39999999999999|                    4.199999999999999|                      519.41|         1.3333333333333333|        5.384666666666666|\n",
      "|          27|2021-05-01 00:00:00|       green|               96.75|                  0.0|                    0.5|                      20.0|                        2.45|                                  0.6|                       120.3|                        2.0|                   15.155|\n",
      "|         120|2021-05-01 00:00:00|       green|              337.24|                 11.0|                    4.5|                       0.0|                       19.65|                   3.2999999999999994|          375.69000000000005|         1.6666666666666667|        8.152727272727274|\n",
      "|          78|2021-06-01 00:00:00|       green|             5668.69|                392.0|                   28.0|        110.58000000000001|           308.9500000000002|                     69.2999999999997|           6588.520000000007|         1.0149253731343284|        1430.718540772532|\n",
      "|          33|2021-05-01 00:00:00|       green|  19342.080000000053|               852.75|                  353.5|        1950.8499999999983|                       44.75|                   313.50000000000614|           23432.17999999983|         1.0560224089635855|         35.7043499043977|\n",
      "+------------+-------------------+------------+--------------------+---------------------+-----------------------+--------------------------+----------------------------+-------------------------------------+----------------------------+---------------------------+-------------------------+\n",
      "only showing top 20 rows\n",
      "\n"
     ]
    }
   ],
   "source": [
    "df_report.show()"
   ]
  },
  {
   "cell_type": "code",
   "execution_count": null,
   "id": "df430d9c-c943-4428-b9f7-aba48f1b360e",
   "metadata": {},
   "outputs": [],
   "source": []
  }
 ],
 "metadata": {
  "kernelspec": {
   "display_name": "Python 3 (ipykernel)",
   "language": "python",
   "name": "python3"
  },
  "language_info": {
   "codemirror_mode": {
    "name": "ipython",
    "version": 3
   },
   "file_extension": ".py",
   "mimetype": "text/x-python",
   "name": "python",
   "nbconvert_exporter": "python",
   "pygments_lexer": "ipython3",
   "version": "3.11.13"
  }
 },
 "nbformat": 4,
 "nbformat_minor": 5
}
