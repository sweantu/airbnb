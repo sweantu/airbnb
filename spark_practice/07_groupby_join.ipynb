{
 "cells": [
  {
   "cell_type": "code",
   "execution_count": 1,
   "id": "121a1f8f-ed91-4cc8-9172-7dd008543561",
   "metadata": {},
   "outputs": [
    {
     "name": "stderr",
     "output_type": "stream",
     "text": [
      "Setting default log level to \"WARN\".\n",
      "To adjust logging level use sc.setLogLevel(newLevel). For SparkR, use setLogLevel(newLevel).\n",
      "25/08/15 07:46:58 WARN NativeCodeLoader: Unable to load native-hadoop library for your platform... using builtin-java classes where applicable\n"
     ]
    }
   ],
   "source": [
    "import pyspark\n",
    "from pyspark.sql import SparkSession\n",
    "\n",
    "spark = SparkSession.builder \\\n",
    "    .master(\"local[*]\") \\\n",
    "    .appName('test') \\\n",
    "    .getOrCreate()"
   ]
  },
  {
   "cell_type": "code",
   "execution_count": 2,
   "id": "c190873c-fb7b-4279-9e46-b196c60d71bd",
   "metadata": {},
   "outputs": [
    {
     "name": "stderr",
     "output_type": "stream",
     "text": [
      "                                                                                "
     ]
    }
   ],
   "source": [
    "df_green = spark.read.parquet('data/pq/green/*/*')"
   ]
  },
  {
   "cell_type": "code",
   "execution_count": 3,
   "id": "e9ff1aff-9f8d-40e8-afe5-ef39391467f6",
   "metadata": {},
   "outputs": [
    {
     "name": "stderr",
     "output_type": "stream",
     "text": [
      "                                                                                "
     ]
    },
    {
     "data": {
      "text/plain": [
       "570466"
      ]
     },
     "execution_count": 3,
     "metadata": {},
     "output_type": "execute_result"
    }
   ],
   "source": [
    "df_green.count()"
   ]
  },
  {
   "cell_type": "code",
   "execution_count": 4,
   "id": "ce602e6b-7af9-429e-bddb-282f14bbe30e",
   "metadata": {},
   "outputs": [],
   "source": [
    "df_green.createOrReplaceTempView('green')"
   ]
  },
  {
   "cell_type": "code",
   "execution_count": 5,
   "id": "ae2462b6-f736-489a-b020-9c0a59c4b5ef",
   "metadata": {},
   "outputs": [
    {
     "data": {
      "text/plain": [
       "['VendorID',\n",
       " 'lpep_pickup_datetime',\n",
       " 'lpep_dropoff_datetime',\n",
       " 'store_and_fwd_flag',\n",
       " 'RatecodeID',\n",
       " 'PULocationID',\n",
       " 'DOLocationID',\n",
       " 'passenger_count',\n",
       " 'trip_distance',\n",
       " 'fare_amount',\n",
       " 'extra',\n",
       " 'mta_tax',\n",
       " 'tip_amount',\n",
       " 'tolls_amount',\n",
       " 'ehail_fee',\n",
       " 'improvement_surcharge',\n",
       " 'total_amount',\n",
       " 'payment_type',\n",
       " 'trip_type',\n",
       " 'congestion_surcharge']"
      ]
     },
     "execution_count": 5,
     "metadata": {},
     "output_type": "execute_result"
    }
   ],
   "source": [
    "df_green.columns"
   ]
  },
  {
   "cell_type": "code",
   "execution_count": 6,
   "id": "44f603d8-4237-410b-b2d3-6005402308d7",
   "metadata": {
    "scrolled": true
   },
   "outputs": [],
   "source": [
    "df_green_revenue = spark.sql(\"\"\"\n",
    "SELECT\n",
    "    date_trunc('hour', lpep_pickup_datetime) AS hour,\n",
    "    PULocationID AS zone,\n",
    "    SUM(total_amount) AS amount,\n",
    "    COUNT(1) as number_records\n",
    "FROM green\n",
    "WHERE\n",
    "    lpep_pickup_datetime >= '2020-01-01 00:00:00'\n",
    "GROUP BY 1, 2\n",
    "ORDER BY 1, 2\n",
    "\"\"\")"
   ]
  },
  {
   "cell_type": "code",
   "execution_count": 7,
   "id": "c541fee3-9028-40e4-9b4a-82b6492bce70",
   "metadata": {},
   "outputs": [
    {
     "name": "stderr",
     "output_type": "stream",
     "text": [
      "                                                                                "
     ]
    },
    {
     "name": "stdout",
     "output_type": "stream",
     "text": [
      "+-------------------+----+------------------+--------------+\n",
      "|               hour|zone|            amount|number_records|\n",
      "+-------------------+----+------------------+--------------+\n",
      "|2020-12-31 23:00:00| 168|               9.3|             1|\n",
      "|2021-01-01 00:00:00|   7|             61.47|             2|\n",
      "|2021-01-01 00:00:00|  17|            102.34|             3|\n",
      "|2021-01-01 00:00:00|  35|              50.3|             2|\n",
      "|2021-01-01 00:00:00|  39|              36.0|             1|\n",
      "|2021-01-01 00:00:00|  41|               8.3|             1|\n",
      "|2021-01-01 00:00:00|  42|             28.02|             3|\n",
      "|2021-01-01 00:00:00|  43|               6.8|             1|\n",
      "|2021-01-01 00:00:00|  47|             63.19|             2|\n",
      "|2021-01-01 00:00:00|  55|             57.25|             1|\n",
      "|2021-01-01 00:00:00|  61|43.760000000000005|             2|\n",
      "|2021-01-01 00:00:00|  63|             41.99|             1|\n",
      "|2021-01-01 00:00:00|  74|             86.57|             7|\n",
      "|2021-01-01 00:00:00|  75|             34.36|             3|\n",
      "|2021-01-01 00:00:00|  76|             36.01|             1|\n",
      "|2021-01-01 00:00:00|  82|              11.8|             1|\n",
      "|2021-01-01 00:00:00| 116|             55.59|             4|\n",
      "|2021-01-01 00:00:00| 130|             46.74|             1|\n",
      "|2021-01-01 00:00:00| 152|             84.92|             1|\n",
      "|2021-01-01 00:00:00| 159|              25.5|             1|\n",
      "+-------------------+----+------------------+--------------+\n",
      "only showing top 20 rows\n",
      "\n"
     ]
    }
   ],
   "source": [
    "df_green_revenue.show()"
   ]
  },
  {
   "cell_type": "code",
   "execution_count": 8,
   "id": "b590b004-e04f-41a0-8cab-69742f742245",
   "metadata": {},
   "outputs": [
    {
     "name": "stderr",
     "output_type": "stream",
     "text": [
      "                                                                                "
     ]
    }
   ],
   "source": [
    "df_green_revenue.write.parquet('data/report/revenue/green', mode='overwrite')"
   ]
  },
  {
   "cell_type": "code",
   "execution_count": 10,
   "id": "dd316e58-4fb7-4c07-a889-8ffac23c0bad",
   "metadata": {},
   "outputs": [
    {
     "name": "stderr",
     "output_type": "stream",
     "text": [
      "                                                                                "
     ]
    },
    {
     "data": {
      "text/plain": [
       "251051"
      ]
     },
     "execution_count": 10,
     "metadata": {},
     "output_type": "execute_result"
    }
   ],
   "source": [
    "df_green_revenue.count()"
   ]
  },
  {
   "cell_type": "code",
   "execution_count": 11,
   "id": "32160fdc-20b1-466a-ad35-4875d7b62970",
   "metadata": {},
   "outputs": [
    {
     "name": "stdout",
     "output_type": "stream",
     "text": [
      "data/report/revenue/green:\n",
      "total 1.1M\n",
      "-rw-r--r-- 1 sweantu sweantu    0 Aug 15 07:48 _SUCCESS\n",
      "-rw-r--r-- 1 sweantu sweantu 530K Aug 15 07:48 part-00000-ab47b645-9c13-461d-8daa-bfc38006705e-c000.snappy.parquet\n",
      "-rw-r--r-- 1 sweantu sweantu 543K Aug 15 07:48 part-00001-ab47b645-9c13-461d-8daa-bfc38006705e-c000.snappy.parquet\n"
     ]
    }
   ],
   "source": [
    "!ls -lhR data/report/revenue/green"
   ]
  },
  {
   "cell_type": "code",
   "execution_count": 12,
   "id": "1817d30c-1923-4e57-b179-bd88c6069752",
   "metadata": {},
   "outputs": [
    {
     "name": "stderr",
     "output_type": "stream",
     "text": [
      "[Stage 21:>                                                         (0 + 2) / 2]"
     ]
    },
    {
     "name": "stdout",
     "output_type": "stream",
     "text": [
      "+-------------------+----+------------------+--------------+\n",
      "|               hour|zone|            amount|number_records|\n",
      "+-------------------+----+------------------+--------------+\n",
      "|2021-06-18 20:00:00| 116|22.200000000000003|             2|\n",
      "|2021-06-29 17:00:00| 181|            106.12|             4|\n",
      "|2021-06-22 09:00:00|  95|176.21999999999997|             5|\n",
      "|2021-06-26 17:00:00|   7|            116.63|             8|\n",
      "|2021-06-13 09:00:00|  25|             20.36|             1|\n",
      "|2021-06-08 08:00:00|  86| 94.05000000000001|             2|\n",
      "|2021-06-07 18:00:00|  41|111.88999999999999|             9|\n",
      "|2021-06-27 13:00:00|  74| 356.4200000000001|            25|\n",
      "|2021-06-11 22:00:00| 159|               7.3|             1|\n",
      "|2021-06-25 17:00:00|  65| 97.67999999999999|             4|\n",
      "|2021-06-10 10:00:00|  75|139.86999999999998|            12|\n",
      "|2021-06-16 22:00:00| 242|             22.01|             1|\n",
      "|2021-06-19 21:00:00| 126|              31.3|             1|\n",
      "|2021-06-17 10:00:00| 208|              11.0|             1|\n",
      "|2021-06-14 19:00:00| 244|            290.88|            11|\n",
      "|2021-06-11 10:00:00|  75|343.51000000000005|            23|\n",
      "|2021-06-05 15:00:00| 106|             37.69|             2|\n",
      "|2021-06-19 08:00:00| 134|              22.1|             1|\n",
      "|2021-06-23 09:00:00|  32|             22.01|             1|\n",
      "|2021-06-26 17:00:00| 260| 61.61999999999999|             6|\n",
      "+-------------------+----+------------------+--------------+\n",
      "only showing top 20 rows\n",
      "\n"
     ]
    },
    {
     "name": "stderr",
     "output_type": "stream",
     "text": [
      "                                                                                "
     ]
    }
   ],
   "source": [
    "df_green_revenue.show()"
   ]
  },
  {
   "cell_type": "code",
   "execution_count": 13,
   "id": "0cd69432-e1f4-49e8-8882-9db2904e21dd",
   "metadata": {},
   "outputs": [
    {
     "name": "stderr",
     "output_type": "stream",
     "text": [
      "                                                                                "
     ]
    }
   ],
   "source": [
    "df_green_revenue \\\n",
    "    .repartition(20) \\\n",
    "    .write.parquet('data/report/revenue/green', mode='overwrite')"
   ]
  },
  {
   "cell_type": "code",
   "execution_count": 14,
   "id": "931f3703-82c4-411d-b2c5-c8a3c17d1745",
   "metadata": {},
   "outputs": [
    {
     "name": "stdout",
     "output_type": "stream",
     "text": [
      "data/report/revenue/green:\n",
      "total 2.2M\n",
      "-rw-r--r-- 1 sweantu sweantu    0 Aug 15 07:52 _SUCCESS\n",
      "-rw-r--r-- 1 sweantu sweantu 105K Aug 15 07:52 part-00000-bab9106f-febe-447e-ab5a-02cc23883009-c000.snappy.parquet\n",
      "-rw-r--r-- 1 sweantu sweantu 105K Aug 15 07:52 part-00001-bab9106f-febe-447e-ab5a-02cc23883009-c000.snappy.parquet\n",
      "-rw-r--r-- 1 sweantu sweantu 105K Aug 15 07:52 part-00002-bab9106f-febe-447e-ab5a-02cc23883009-c000.snappy.parquet\n",
      "-rw-r--r-- 1 sweantu sweantu 105K Aug 15 07:52 part-00003-bab9106f-febe-447e-ab5a-02cc23883009-c000.snappy.parquet\n",
      "-rw-r--r-- 1 sweantu sweantu 105K Aug 15 07:52 part-00004-bab9106f-febe-447e-ab5a-02cc23883009-c000.snappy.parquet\n",
      "-rw-r--r-- 1 sweantu sweantu 105K Aug 15 07:52 part-00005-bab9106f-febe-447e-ab5a-02cc23883009-c000.snappy.parquet\n",
      "-rw-r--r-- 1 sweantu sweantu 105K Aug 15 07:52 part-00006-bab9106f-febe-447e-ab5a-02cc23883009-c000.snappy.parquet\n",
      "-rw-r--r-- 1 sweantu sweantu 105K Aug 15 07:52 part-00007-bab9106f-febe-447e-ab5a-02cc23883009-c000.snappy.parquet\n",
      "-rw-r--r-- 1 sweantu sweantu 105K Aug 15 07:52 part-00008-bab9106f-febe-447e-ab5a-02cc23883009-c000.snappy.parquet\n",
      "-rw-r--r-- 1 sweantu sweantu 104K Aug 15 07:52 part-00009-bab9106f-febe-447e-ab5a-02cc23883009-c000.snappy.parquet\n",
      "-rw-r--r-- 1 sweantu sweantu 105K Aug 15 07:52 part-00010-bab9106f-febe-447e-ab5a-02cc23883009-c000.snappy.parquet\n",
      "-rw-r--r-- 1 sweantu sweantu 105K Aug 15 07:52 part-00011-bab9106f-febe-447e-ab5a-02cc23883009-c000.snappy.parquet\n",
      "-rw-r--r-- 1 sweantu sweantu 105K Aug 15 07:52 part-00012-bab9106f-febe-447e-ab5a-02cc23883009-c000.snappy.parquet\n",
      "-rw-r--r-- 1 sweantu sweantu 104K Aug 15 07:52 part-00013-bab9106f-febe-447e-ab5a-02cc23883009-c000.snappy.parquet\n",
      "-rw-r--r-- 1 sweantu sweantu 105K Aug 15 07:52 part-00014-bab9106f-febe-447e-ab5a-02cc23883009-c000.snappy.parquet\n",
      "-rw-r--r-- 1 sweantu sweantu 105K Aug 15 07:52 part-00015-bab9106f-febe-447e-ab5a-02cc23883009-c000.snappy.parquet\n",
      "-rw-r--r-- 1 sweantu sweantu 105K Aug 15 07:52 part-00016-bab9106f-febe-447e-ab5a-02cc23883009-c000.snappy.parquet\n",
      "-rw-r--r-- 1 sweantu sweantu 105K Aug 15 07:52 part-00017-bab9106f-febe-447e-ab5a-02cc23883009-c000.snappy.parquet\n",
      "-rw-r--r-- 1 sweantu sweantu 105K Aug 15 07:52 part-00018-bab9106f-febe-447e-ab5a-02cc23883009-c000.snappy.parquet\n",
      "-rw-r--r-- 1 sweantu sweantu 105K Aug 15 07:52 part-00019-bab9106f-febe-447e-ab5a-02cc23883009-c000.snappy.parquet\n"
     ]
    }
   ],
   "source": [
    "!ls -lhR data/report/revenue/green"
   ]
  },
  {
   "cell_type": "code",
   "execution_count": 15,
   "id": "b2d43c1e-6894-4dc4-adda-d0fc8056d3f3",
   "metadata": {},
   "outputs": [],
   "source": [
    "df_yellow = spark.read.parquet('data/pq/yellow/*/*')"
   ]
  },
  {
   "cell_type": "code",
   "execution_count": 16,
   "id": "1fd33377-ea3a-4054-be2f-702686cf9616",
   "metadata": {},
   "outputs": [],
   "source": [
    "df_yellow.createOrReplaceTempView('yellow')"
   ]
  },
  {
   "cell_type": "code",
   "execution_count": 17,
   "id": "e3ebd294-3015-4a5e-894b-03c30a5138b4",
   "metadata": {},
   "outputs": [
    {
     "data": {
      "text/plain": [
       "['VendorID',\n",
       " 'tpep_pickup_datetime',\n",
       " 'tpep_dropoff_datetime',\n",
       " 'passenger_count',\n",
       " 'trip_distance',\n",
       " 'RatecodeID',\n",
       " 'store_and_fwd_flag',\n",
       " 'PULocationID',\n",
       " 'DOLocationID',\n",
       " 'payment_type',\n",
       " 'fare_amount',\n",
       " 'extra',\n",
       " 'mta_tax',\n",
       " 'tip_amount',\n",
       " 'tolls_amount',\n",
       " 'improvement_surcharge',\n",
       " 'total_amount',\n",
       " 'congestion_surcharge']"
      ]
     },
     "execution_count": 17,
     "metadata": {},
     "output_type": "execute_result"
    }
   ],
   "source": [
    "df_yellow.columns"
   ]
  },
  {
   "cell_type": "code",
   "execution_count": 18,
   "id": "ec6b1997-e780-47ed-9a46-1d3d69b1a19a",
   "metadata": {},
   "outputs": [],
   "source": [
    "df_yellow_revenue = spark.sql(\"\"\"\n",
    "SELECT\n",
    "    date_trunc('hour', tpep_pickup_datetime) AS hour,\n",
    "    PULocationID AS zone,\n",
    "    SUM(total_amount) AS amount,\n",
    "    COUNT(1) as number_records\n",
    "FROM yellow\n",
    "WHERE\n",
    "    tpep_pickup_datetime >= '2020-01-01 00:00:00'\n",
    "GROUP BY 1, 2\n",
    "\"\"\")"
   ]
  },
  {
   "cell_type": "code",
   "execution_count": 19,
   "id": "baf721a4-e48b-4ebb-896c-f9884a13d9c1",
   "metadata": {},
   "outputs": [
    {
     "name": "stderr",
     "output_type": "stream",
     "text": [
      "                                                                                "
     ]
    }
   ],
   "source": [
    "df_yellow_revenue \\\n",
    "    .repartition(20) \\\n",
    "    .write.parquet('data/report/revenue/yellow', mode='overwrite')"
   ]
  },
  {
   "cell_type": "code",
   "execution_count": 20,
   "id": "0fd3de63-72f8-45bc-bfeb-0624d1508aa4",
   "metadata": {},
   "outputs": [
    {
     "name": "stderr",
     "output_type": "stream",
     "text": [
      "                                                                                "
     ]
    },
    {
     "data": {
      "text/plain": [
       "583110"
      ]
     },
     "execution_count": 20,
     "metadata": {},
     "output_type": "execute_result"
    }
   ],
   "source": [
    "df_yellow_revenue.count()"
   ]
  },
  {
   "cell_type": "code",
   "execution_count": 21,
   "id": "d55c58e0-d0f7-4bfb-b42d-01e7040d87e6",
   "metadata": {},
   "outputs": [
    {
     "name": "stdout",
     "output_type": "stream",
     "text": [
      "data/report/:\n",
      "total 4.0K\n",
      "drwxr-xr-x 4 sweantu sweantu 4.0K Aug 15 07:53 revenue\n",
      "\n",
      "data/report/revenue:\n",
      "total 208K\n",
      "-rw-r--r-- 1 sweantu sweantu    0 Aug 15 07:38 _SUCCESS\n",
      "drwxr-xr-x 2 sweantu sweantu 4.0K Aug 15 07:52 green\n",
      "-rw-r--r-- 1 sweantu sweantu 198K Aug 15 07:38 part-00000-bc059580-bfbe-45a4-84d3-413c88984aba-c000.snappy.parquet\n",
      "drwxr-xr-x 2 sweantu sweantu 4.0K Aug 15 07:53 yellow\n",
      "\n",
      "data/report/revenue/green:\n",
      "total 2.2M\n",
      "-rw-r--r-- 1 sweantu sweantu    0 Aug 15 07:52 _SUCCESS\n",
      "-rw-r--r-- 1 sweantu sweantu 105K Aug 15 07:52 part-00000-bab9106f-febe-447e-ab5a-02cc23883009-c000.snappy.parquet\n",
      "-rw-r--r-- 1 sweantu sweantu 105K Aug 15 07:52 part-00001-bab9106f-febe-447e-ab5a-02cc23883009-c000.snappy.parquet\n",
      "-rw-r--r-- 1 sweantu sweantu 105K Aug 15 07:52 part-00002-bab9106f-febe-447e-ab5a-02cc23883009-c000.snappy.parquet\n",
      "-rw-r--r-- 1 sweantu sweantu 105K Aug 15 07:52 part-00003-bab9106f-febe-447e-ab5a-02cc23883009-c000.snappy.parquet\n",
      "-rw-r--r-- 1 sweantu sweantu 105K Aug 15 07:52 part-00004-bab9106f-febe-447e-ab5a-02cc23883009-c000.snappy.parquet\n",
      "-rw-r--r-- 1 sweantu sweantu 105K Aug 15 07:52 part-00005-bab9106f-febe-447e-ab5a-02cc23883009-c000.snappy.parquet\n",
      "-rw-r--r-- 1 sweantu sweantu 105K Aug 15 07:52 part-00006-bab9106f-febe-447e-ab5a-02cc23883009-c000.snappy.parquet\n",
      "-rw-r--r-- 1 sweantu sweantu 105K Aug 15 07:52 part-00007-bab9106f-febe-447e-ab5a-02cc23883009-c000.snappy.parquet\n",
      "-rw-r--r-- 1 sweantu sweantu 105K Aug 15 07:52 part-00008-bab9106f-febe-447e-ab5a-02cc23883009-c000.snappy.parquet\n",
      "-rw-r--r-- 1 sweantu sweantu 104K Aug 15 07:52 part-00009-bab9106f-febe-447e-ab5a-02cc23883009-c000.snappy.parquet\n",
      "-rw-r--r-- 1 sweantu sweantu 105K Aug 15 07:52 part-00010-bab9106f-febe-447e-ab5a-02cc23883009-c000.snappy.parquet\n",
      "-rw-r--r-- 1 sweantu sweantu 105K Aug 15 07:52 part-00011-bab9106f-febe-447e-ab5a-02cc23883009-c000.snappy.parquet\n",
      "-rw-r--r-- 1 sweantu sweantu 105K Aug 15 07:52 part-00012-bab9106f-febe-447e-ab5a-02cc23883009-c000.snappy.parquet\n",
      "-rw-r--r-- 1 sweantu sweantu 104K Aug 15 07:52 part-00013-bab9106f-febe-447e-ab5a-02cc23883009-c000.snappy.parquet\n",
      "-rw-r--r-- 1 sweantu sweantu 105K Aug 15 07:52 part-00014-bab9106f-febe-447e-ab5a-02cc23883009-c000.snappy.parquet\n",
      "-rw-r--r-- 1 sweantu sweantu 105K Aug 15 07:52 part-00015-bab9106f-febe-447e-ab5a-02cc23883009-c000.snappy.parquet\n",
      "-rw-r--r-- 1 sweantu sweantu 105K Aug 15 07:52 part-00016-bab9106f-febe-447e-ab5a-02cc23883009-c000.snappy.parquet\n",
      "-rw-r--r-- 1 sweantu sweantu 105K Aug 15 07:52 part-00017-bab9106f-febe-447e-ab5a-02cc23883009-c000.snappy.parquet\n",
      "-rw-r--r-- 1 sweantu sweantu 105K Aug 15 07:52 part-00018-bab9106f-febe-447e-ab5a-02cc23883009-c000.snappy.parquet\n",
      "-rw-r--r-- 1 sweantu sweantu 105K Aug 15 07:52 part-00019-bab9106f-febe-447e-ab5a-02cc23883009-c000.snappy.parquet\n",
      "\n",
      "data/report/revenue/yellow:\n",
      "total 5.6M\n",
      "-rw-r--r-- 1 sweantu sweantu    0 Aug 15 07:53 _SUCCESS\n",
      "-rw-r--r-- 1 sweantu sweantu 285K Aug 15 07:53 part-00000-ca656c2f-a035-4897-8eca-639aa15a060a-c000.snappy.parquet\n",
      "-rw-r--r-- 1 sweantu sweantu 286K Aug 15 07:53 part-00001-ca656c2f-a035-4897-8eca-639aa15a060a-c000.snappy.parquet\n",
      "-rw-r--r-- 1 sweantu sweantu 288K Aug 15 07:53 part-00002-ca656c2f-a035-4897-8eca-639aa15a060a-c000.snappy.parquet\n",
      "-rw-r--r-- 1 sweantu sweantu 287K Aug 15 07:53 part-00003-ca656c2f-a035-4897-8eca-639aa15a060a-c000.snappy.parquet\n",
      "-rw-r--r-- 1 sweantu sweantu 283K Aug 15 07:53 part-00004-ca656c2f-a035-4897-8eca-639aa15a060a-c000.snappy.parquet\n",
      "-rw-r--r-- 1 sweantu sweantu 286K Aug 15 07:53 part-00005-ca656c2f-a035-4897-8eca-639aa15a060a-c000.snappy.parquet\n",
      "-rw-r--r-- 1 sweantu sweantu 284K Aug 15 07:53 part-00006-ca656c2f-a035-4897-8eca-639aa15a060a-c000.snappy.parquet\n",
      "-rw-r--r-- 1 sweantu sweantu 284K Aug 15 07:53 part-00007-ca656c2f-a035-4897-8eca-639aa15a060a-c000.snappy.parquet\n",
      "-rw-r--r-- 1 sweantu sweantu 285K Aug 15 07:53 part-00008-ca656c2f-a035-4897-8eca-639aa15a060a-c000.snappy.parquet\n",
      "-rw-r--r-- 1 sweantu sweantu 286K Aug 15 07:53 part-00009-ca656c2f-a035-4897-8eca-639aa15a060a-c000.snappy.parquet\n",
      "-rw-r--r-- 1 sweantu sweantu 284K Aug 15 07:53 part-00010-ca656c2f-a035-4897-8eca-639aa15a060a-c000.snappy.parquet\n",
      "-rw-r--r-- 1 sweantu sweantu 284K Aug 15 07:53 part-00011-ca656c2f-a035-4897-8eca-639aa15a060a-c000.snappy.parquet\n",
      "-rw-r--r-- 1 sweantu sweantu 284K Aug 15 07:53 part-00012-ca656c2f-a035-4897-8eca-639aa15a060a-c000.snappy.parquet\n",
      "-rw-r--r-- 1 sweantu sweantu 284K Aug 15 07:53 part-00013-ca656c2f-a035-4897-8eca-639aa15a060a-c000.snappy.parquet\n",
      "-rw-r--r-- 1 sweantu sweantu 284K Aug 15 07:53 part-00014-ca656c2f-a035-4897-8eca-639aa15a060a-c000.snappy.parquet\n",
      "-rw-r--r-- 1 sweantu sweantu 287K Aug 15 07:53 part-00015-ca656c2f-a035-4897-8eca-639aa15a060a-c000.snappy.parquet\n",
      "-rw-r--r-- 1 sweantu sweantu 285K Aug 15 07:53 part-00016-ca656c2f-a035-4897-8eca-639aa15a060a-c000.snappy.parquet\n",
      "-rw-r--r-- 1 sweantu sweantu 285K Aug 15 07:53 part-00017-ca656c2f-a035-4897-8eca-639aa15a060a-c000.snappy.parquet\n",
      "-rw-r--r-- 1 sweantu sweantu 285K Aug 15 07:53 part-00018-ca656c2f-a035-4897-8eca-639aa15a060a-c000.snappy.parquet\n",
      "-rw-r--r-- 1 sweantu sweantu 286K Aug 15 07:53 part-00019-ca656c2f-a035-4897-8eca-639aa15a060a-c000.snappy.parquet\n"
     ]
    }
   ],
   "source": [
    "!ls -lhR data/report/"
   ]
  },
  {
   "cell_type": "code",
   "execution_count": 22,
   "id": "cdbd08e0-37bc-43b5-ab47-cd7bd8e8da03",
   "metadata": {},
   "outputs": [],
   "source": [
    "df_join = df_green_revenue.join(df_yellow_revenue, on=['hour', 'zone'], how='outer')"
   ]
  },
  {
   "cell_type": "code",
   "execution_count": 23,
   "id": "80d3740d-9e82-48dc-82b8-fbb21b16d219",
   "metadata": {},
   "outputs": [
    {
     "name": "stderr",
     "output_type": "stream",
     "text": [
      "[Stage 47:>                                                         (0 + 1) / 1]"
     ]
    },
    {
     "name": "stdout",
     "output_type": "stream",
     "text": [
      "+-------------------+----+------------------+--------------+------------------+--------------+\n",
      "|               hour|zone|            amount|number_records|            amount|number_records|\n",
      "+-------------------+----+------------------+--------------+------------------+--------------+\n",
      "|2020-12-31 18:00:00|  48|              NULL|          NULL|             55.14|             3|\n",
      "|2020-12-31 18:00:00| 142|              NULL|          NULL|             31.46|             2|\n",
      "|2020-12-31 21:00:00|  75|              NULL|          NULL|               5.3|             1|\n",
      "|2020-12-31 21:00:00| 263|              NULL|          NULL|              12.8|             1|\n",
      "|2020-12-31 23:00:00|  42|              NULL|          NULL|              24.8|             1|\n",
      "|2020-12-31 23:00:00|  43|              NULL|          NULL|              43.1|             1|\n",
      "|2020-12-31 23:00:00| 231|              NULL|          NULL|              28.3|             1|\n",
      "|2021-01-01 00:00:00|   4|              NULL|          NULL|              64.4|             3|\n",
      "|2021-01-01 00:00:00|   7|             61.47|             2|              71.3|             2|\n",
      "|2021-01-01 00:00:00|  10|              NULL|          NULL|              52.4|             1|\n",
      "|2021-01-01 00:00:00|  24|              NULL|          NULL|            120.54|             7|\n",
      "|2021-01-01 00:00:00|  32|              NULL|          NULL|             30.32|             1|\n",
      "|2021-01-01 00:00:00|  41|               8.3|             1| 94.78999999999999|             5|\n",
      "|2021-01-01 00:00:00|  43|               6.8|             1| 352.2300000000001|            22|\n",
      "|2021-01-01 00:00:00|  45|              NULL|          NULL|             93.78|             4|\n",
      "|2021-01-01 00:00:00|  47|             63.19|             2|122.72999999999999|             2|\n",
      "|2021-01-01 00:00:00|  50|              NULL|          NULL|            117.45|             7|\n",
      "|2021-01-01 00:00:00|  51|              NULL|          NULL|             17.18|             1|\n",
      "|2021-01-01 00:00:00|  61|43.760000000000005|             2|            106.06|             4|\n",
      "|2021-01-01 00:00:00|  63|             41.99|             1|              NULL|          NULL|\n",
      "+-------------------+----+------------------+--------------+------------------+--------------+\n",
      "only showing top 20 rows\n",
      "\n"
     ]
    },
    {
     "name": "stderr",
     "output_type": "stream",
     "text": [
      "                                                                                "
     ]
    }
   ],
   "source": [
    "df_join.show()"
   ]
  },
  {
   "cell_type": "code",
   "execution_count": 24,
   "id": "25423f27-72af-4136-a884-8f5f416cae5e",
   "metadata": {},
   "outputs": [],
   "source": [
    "df_green_revenue_tmp = df_green_revenue \\\n",
    "    .withColumnRenamed('amount', 'green_amount') \\\n",
    "    .withColumnRenamed('number_records', 'green_number_records')\n",
    "\n",
    "df_yellow_revenue_tmp = df_yellow_revenue \\\n",
    "    .withColumnRenamed('amount', 'yellow_amount') \\\n",
    "    .withColumnRenamed('number_records', 'yellow_number_records')\n"
   ]
  },
  {
   "cell_type": "code",
   "execution_count": 25,
   "id": "a4e20eb0-8b5f-471d-afd6-a5c3012167ec",
   "metadata": {},
   "outputs": [],
   "source": [
    "df_join = df_green_revenue_tmp.join(df_yellow_revenue_tmp, on=['hour', 'zone'], how='outer')"
   ]
  },
  {
   "cell_type": "code",
   "execution_count": 26,
   "id": "1171e601-a636-4623-8054-8e7c1b4ee8ae",
   "metadata": {},
   "outputs": [
    {
     "data": {
      "text/plain": [
       "DataFrame[hour: timestamp, zone: int, green_amount: double, green_number_records: bigint, yellow_amount: double, yellow_number_records: bigint]"
      ]
     },
     "execution_count": 26,
     "metadata": {},
     "output_type": "execute_result"
    }
   ],
   "source": [
    "df_join"
   ]
  },
  {
   "cell_type": "code",
   "execution_count": 27,
   "id": "a0d64023-dffe-4ff1-a77c-8cb799957bc5",
   "metadata": {},
   "outputs": [
    {
     "name": "stderr",
     "output_type": "stream",
     "text": [
      "[Stage 52:>                                                         (0 + 1) / 1]"
     ]
    },
    {
     "name": "stdout",
     "output_type": "stream",
     "text": [
      "+-------------------+----+------------------+--------------------+------------------+---------------------+\n",
      "|               hour|zone|      green_amount|green_number_records|     yellow_amount|yellow_number_records|\n",
      "+-------------------+----+------------------+--------------------+------------------+---------------------+\n",
      "|2020-12-31 18:00:00|  48|              NULL|                NULL|             55.14|                    3|\n",
      "|2020-12-31 18:00:00| 142|              NULL|                NULL|             31.46|                    2|\n",
      "|2020-12-31 21:00:00|  75|              NULL|                NULL|               5.3|                    1|\n",
      "|2020-12-31 21:00:00| 263|              NULL|                NULL|              12.8|                    1|\n",
      "|2020-12-31 23:00:00|  42|              NULL|                NULL|              24.8|                    1|\n",
      "|2020-12-31 23:00:00|  43|              NULL|                NULL|              43.1|                    1|\n",
      "|2020-12-31 23:00:00| 231|              NULL|                NULL|              28.3|                    1|\n",
      "|2021-01-01 00:00:00|   4|              NULL|                NULL|              64.4|                    3|\n",
      "|2021-01-01 00:00:00|   7|             61.47|                   2|              71.3|                    2|\n",
      "|2021-01-01 00:00:00|  10|              NULL|                NULL|              52.4|                    1|\n",
      "|2021-01-01 00:00:00|  24|              NULL|                NULL|            120.54|                    7|\n",
      "|2021-01-01 00:00:00|  32|              NULL|                NULL|             30.32|                    1|\n",
      "|2021-01-01 00:00:00|  41|               8.3|                   1| 94.78999999999999|                    5|\n",
      "|2021-01-01 00:00:00|  43|               6.8|                   1| 352.2300000000001|                   22|\n",
      "|2021-01-01 00:00:00|  45|              NULL|                NULL|             93.78|                    4|\n",
      "|2021-01-01 00:00:00|  47|             63.19|                   2|122.72999999999999|                    2|\n",
      "|2021-01-01 00:00:00|  50|              NULL|                NULL|            117.45|                    7|\n",
      "|2021-01-01 00:00:00|  51|              NULL|                NULL|             17.18|                    1|\n",
      "|2021-01-01 00:00:00|  61|43.760000000000005|                   2|            106.06|                    4|\n",
      "|2021-01-01 00:00:00|  63|             41.99|                   1|              NULL|                 NULL|\n",
      "+-------------------+----+------------------+--------------------+------------------+---------------------+\n",
      "only showing top 20 rows\n",
      "\n"
     ]
    },
    {
     "name": "stderr",
     "output_type": "stream",
     "text": [
      "                                                                                "
     ]
    }
   ],
   "source": [
    "df_join.show()"
   ]
  },
  {
   "cell_type": "code",
   "execution_count": 28,
   "id": "b93a2ee8-a982-4d9f-89c0-cc1b49850dba",
   "metadata": {},
   "outputs": [
    {
     "name": "stderr",
     "output_type": "stream",
     "text": [
      "                                                                                "
     ]
    }
   ],
   "source": [
    "df_join.repartition(200).write.parquet('data/report/revenue/total', mode='overwrite')"
   ]
  },
  {
   "cell_type": "code",
   "execution_count": 29,
   "id": "a459a70e-f2da-4c99-baf3-8ab8a9b3268a",
   "metadata": {},
   "outputs": [
    {
     "name": "stderr",
     "output_type": "stream",
     "text": [
      "                                                                                "
     ]
    },
    {
     "data": {
      "text/plain": [
       "669604"
      ]
     },
     "execution_count": 29,
     "metadata": {},
     "output_type": "execute_result"
    }
   ],
   "source": [
    "df_join.count()"
   ]
  },
  {
   "cell_type": "code",
   "execution_count": 30,
   "id": "6aa60fb6-06d1-433c-bb5c-5f4cb144bc8c",
   "metadata": {},
   "outputs": [
    {
     "name": "stdout",
     "output_type": "stream",
     "text": [
      "data/report/revenue/total:\n",
      "total 11M\n",
      "-rw-r--r-- 1 sweantu sweantu   0 Aug 15 08:03 _SUCCESS\n",
      "-rw-r--r-- 1 sweantu sweantu 50K Aug 15 08:03 part-00000-efc8c6a0-5286-4696-afb5-c3e4acdfb968-c000.snappy.parquet\n",
      "-rw-r--r-- 1 sweantu sweantu 50K Aug 15 08:03 part-00001-efc8c6a0-5286-4696-afb5-c3e4acdfb968-c000.snappy.parquet\n",
      "-rw-r--r-- 1 sweantu sweantu 49K Aug 15 08:03 part-00002-efc8c6a0-5286-4696-afb5-c3e4acdfb968-c000.snappy.parquet\n",
      "-rw-r--r-- 1 sweantu sweantu 50K Aug 15 08:03 part-00003-efc8c6a0-5286-4696-afb5-c3e4acdfb968-c000.snappy.parquet\n",
      "-rw-r--r-- 1 sweantu sweantu 50K Aug 15 08:03 part-00004-efc8c6a0-5286-4696-afb5-c3e4acdfb968-c000.snappy.parquet\n",
      "-rw-r--r-- 1 sweantu sweantu 50K Aug 15 08:03 part-00005-efc8c6a0-5286-4696-afb5-c3e4acdfb968-c000.snappy.parquet\n",
      "-rw-r--r-- 1 sweantu sweantu 50K Aug 15 08:03 part-00006-efc8c6a0-5286-4696-afb5-c3e4acdfb968-c000.snappy.parquet\n",
      "-rw-r--r-- 1 sweantu sweantu 50K Aug 15 08:03 part-00007-efc8c6a0-5286-4696-afb5-c3e4acdfb968-c000.snappy.parquet\n",
      "-rw-r--r-- 1 sweantu sweantu 50K Aug 15 08:03 part-00008-efc8c6a0-5286-4696-afb5-c3e4acdfb968-c000.snappy.parquet\n",
      "-rw-r--r-- 1 sweantu sweantu 49K Aug 15 08:03 part-00009-efc8c6a0-5286-4696-afb5-c3e4acdfb968-c000.snappy.parquet\n",
      "-rw-r--r-- 1 sweantu sweantu 50K Aug 15 08:03 part-00010-efc8c6a0-5286-4696-afb5-c3e4acdfb968-c000.snappy.parquet\n",
      "-rw-r--r-- 1 sweantu sweantu 50K Aug 15 08:03 part-00011-efc8c6a0-5286-4696-afb5-c3e4acdfb968-c000.snappy.parquet\n",
      "-rw-r--r-- 1 sweantu sweantu 50K Aug 15 08:03 part-00012-efc8c6a0-5286-4696-afb5-c3e4acdfb968-c000.snappy.parquet\n",
      "-rw-r--r-- 1 sweantu sweantu 50K Aug 15 08:03 part-00013-efc8c6a0-5286-4696-afb5-c3e4acdfb968-c000.snappy.parquet\n",
      "-rw-r--r-- 1 sweantu sweantu 50K Aug 15 08:03 part-00014-efc8c6a0-5286-4696-afb5-c3e4acdfb968-c000.snappy.parquet\n",
      "-rw-r--r-- 1 sweantu sweantu 50K Aug 15 08:03 part-00015-efc8c6a0-5286-4696-afb5-c3e4acdfb968-c000.snappy.parquet\n",
      "-rw-r--r-- 1 sweantu sweantu 50K Aug 15 08:03 part-00016-efc8c6a0-5286-4696-afb5-c3e4acdfb968-c000.snappy.parquet\n",
      "-rw-r--r-- 1 sweantu sweantu 51K Aug 15 08:03 part-00017-efc8c6a0-5286-4696-afb5-c3e4acdfb968-c000.snappy.parquet\n",
      "-rw-r--r-- 1 sweantu sweantu 50K Aug 15 08:03 part-00018-efc8c6a0-5286-4696-afb5-c3e4acdfb968-c000.snappy.parquet\n",
      "-rw-r--r-- 1 sweantu sweantu 50K Aug 15 08:03 part-00019-efc8c6a0-5286-4696-afb5-c3e4acdfb968-c000.snappy.parquet\n",
      "-rw-r--r-- 1 sweantu sweantu 50K Aug 15 08:03 part-00020-efc8c6a0-5286-4696-afb5-c3e4acdfb968-c000.snappy.parquet\n",
      "-rw-r--r-- 1 sweantu sweantu 50K Aug 15 08:03 part-00021-efc8c6a0-5286-4696-afb5-c3e4acdfb968-c000.snappy.parquet\n",
      "-rw-r--r-- 1 sweantu sweantu 50K Aug 15 08:03 part-00022-efc8c6a0-5286-4696-afb5-c3e4acdfb968-c000.snappy.parquet\n",
      "-rw-r--r-- 1 sweantu sweantu 50K Aug 15 08:03 part-00023-efc8c6a0-5286-4696-afb5-c3e4acdfb968-c000.snappy.parquet\n",
      "-rw-r--r-- 1 sweantu sweantu 50K Aug 15 08:03 part-00024-efc8c6a0-5286-4696-afb5-c3e4acdfb968-c000.snappy.parquet\n",
      "-rw-r--r-- 1 sweantu sweantu 50K Aug 15 08:03 part-00025-efc8c6a0-5286-4696-afb5-c3e4acdfb968-c000.snappy.parquet\n",
      "-rw-r--r-- 1 sweantu sweantu 50K Aug 15 08:03 part-00026-efc8c6a0-5286-4696-afb5-c3e4acdfb968-c000.snappy.parquet\n",
      "-rw-r--r-- 1 sweantu sweantu 50K Aug 15 08:03 part-00027-efc8c6a0-5286-4696-afb5-c3e4acdfb968-c000.snappy.parquet\n",
      "-rw-r--r-- 1 sweantu sweantu 50K Aug 15 08:03 part-00028-efc8c6a0-5286-4696-afb5-c3e4acdfb968-c000.snappy.parquet\n",
      "-rw-r--r-- 1 sweantu sweantu 50K Aug 15 08:03 part-00029-efc8c6a0-5286-4696-afb5-c3e4acdfb968-c000.snappy.parquet\n",
      "-rw-r--r-- 1 sweantu sweantu 50K Aug 15 08:03 part-00030-efc8c6a0-5286-4696-afb5-c3e4acdfb968-c000.snappy.parquet\n",
      "-rw-r--r-- 1 sweantu sweantu 50K Aug 15 08:03 part-00031-efc8c6a0-5286-4696-afb5-c3e4acdfb968-c000.snappy.parquet\n",
      "-rw-r--r-- 1 sweantu sweantu 50K Aug 15 08:03 part-00032-efc8c6a0-5286-4696-afb5-c3e4acdfb968-c000.snappy.parquet\n",
      "-rw-r--r-- 1 sweantu sweantu 50K Aug 15 08:03 part-00033-efc8c6a0-5286-4696-afb5-c3e4acdfb968-c000.snappy.parquet\n",
      "-rw-r--r-- 1 sweantu sweantu 50K Aug 15 08:03 part-00034-efc8c6a0-5286-4696-afb5-c3e4acdfb968-c000.snappy.parquet\n",
      "-rw-r--r-- 1 sweantu sweantu 50K Aug 15 08:03 part-00035-efc8c6a0-5286-4696-afb5-c3e4acdfb968-c000.snappy.parquet\n",
      "-rw-r--r-- 1 sweantu sweantu 50K Aug 15 08:03 part-00036-efc8c6a0-5286-4696-afb5-c3e4acdfb968-c000.snappy.parquet\n",
      "-rw-r--r-- 1 sweantu sweantu 50K Aug 15 08:03 part-00037-efc8c6a0-5286-4696-afb5-c3e4acdfb968-c000.snappy.parquet\n",
      "-rw-r--r-- 1 sweantu sweantu 50K Aug 15 08:03 part-00038-efc8c6a0-5286-4696-afb5-c3e4acdfb968-c000.snappy.parquet\n",
      "-rw-r--r-- 1 sweantu sweantu 50K Aug 15 08:03 part-00039-efc8c6a0-5286-4696-afb5-c3e4acdfb968-c000.snappy.parquet\n",
      "-rw-r--r-- 1 sweantu sweantu 50K Aug 15 08:03 part-00040-efc8c6a0-5286-4696-afb5-c3e4acdfb968-c000.snappy.parquet\n",
      "-rw-r--r-- 1 sweantu sweantu 50K Aug 15 08:03 part-00041-efc8c6a0-5286-4696-afb5-c3e4acdfb968-c000.snappy.parquet\n",
      "-rw-r--r-- 1 sweantu sweantu 49K Aug 15 08:03 part-00042-efc8c6a0-5286-4696-afb5-c3e4acdfb968-c000.snappy.parquet\n",
      "-rw-r--r-- 1 sweantu sweantu 50K Aug 15 08:03 part-00043-efc8c6a0-5286-4696-afb5-c3e4acdfb968-c000.snappy.parquet\n",
      "-rw-r--r-- 1 sweantu sweantu 50K Aug 15 08:03 part-00044-efc8c6a0-5286-4696-afb5-c3e4acdfb968-c000.snappy.parquet\n",
      "-rw-r--r-- 1 sweantu sweantu 50K Aug 15 08:03 part-00045-efc8c6a0-5286-4696-afb5-c3e4acdfb968-c000.snappy.parquet\n",
      "-rw-r--r-- 1 sweantu sweantu 50K Aug 15 08:03 part-00046-efc8c6a0-5286-4696-afb5-c3e4acdfb968-c000.snappy.parquet\n",
      "-rw-r--r-- 1 sweantu sweantu 50K Aug 15 08:03 part-00047-efc8c6a0-5286-4696-afb5-c3e4acdfb968-c000.snappy.parquet\n",
      "-rw-r--r-- 1 sweantu sweantu 51K Aug 15 08:03 part-00048-efc8c6a0-5286-4696-afb5-c3e4acdfb968-c000.snappy.parquet\n",
      "-rw-r--r-- 1 sweantu sweantu 50K Aug 15 08:03 part-00049-efc8c6a0-5286-4696-afb5-c3e4acdfb968-c000.snappy.parquet\n",
      "-rw-r--r-- 1 sweantu sweantu 50K Aug 15 08:03 part-00050-efc8c6a0-5286-4696-afb5-c3e4acdfb968-c000.snappy.parquet\n",
      "-rw-r--r-- 1 sweantu sweantu 50K Aug 15 08:03 part-00051-efc8c6a0-5286-4696-afb5-c3e4acdfb968-c000.snappy.parquet\n",
      "-rw-r--r-- 1 sweantu sweantu 50K Aug 15 08:03 part-00052-efc8c6a0-5286-4696-afb5-c3e4acdfb968-c000.snappy.parquet\n",
      "-rw-r--r-- 1 sweantu sweantu 50K Aug 15 08:03 part-00053-efc8c6a0-5286-4696-afb5-c3e4acdfb968-c000.snappy.parquet\n",
      "-rw-r--r-- 1 sweantu sweantu 50K Aug 15 08:03 part-00054-efc8c6a0-5286-4696-afb5-c3e4acdfb968-c000.snappy.parquet\n",
      "-rw-r--r-- 1 sweantu sweantu 49K Aug 15 08:03 part-00055-efc8c6a0-5286-4696-afb5-c3e4acdfb968-c000.snappy.parquet\n",
      "-rw-r--r-- 1 sweantu sweantu 50K Aug 15 08:03 part-00056-efc8c6a0-5286-4696-afb5-c3e4acdfb968-c000.snappy.parquet\n",
      "-rw-r--r-- 1 sweantu sweantu 50K Aug 15 08:03 part-00057-efc8c6a0-5286-4696-afb5-c3e4acdfb968-c000.snappy.parquet\n",
      "-rw-r--r-- 1 sweantu sweantu 50K Aug 15 08:03 part-00058-efc8c6a0-5286-4696-afb5-c3e4acdfb968-c000.snappy.parquet\n",
      "-rw-r--r-- 1 sweantu sweantu 50K Aug 15 08:03 part-00059-efc8c6a0-5286-4696-afb5-c3e4acdfb968-c000.snappy.parquet\n",
      "-rw-r--r-- 1 sweantu sweantu 50K Aug 15 08:03 part-00060-efc8c6a0-5286-4696-afb5-c3e4acdfb968-c000.snappy.parquet\n",
      "-rw-r--r-- 1 sweantu sweantu 50K Aug 15 08:03 part-00061-efc8c6a0-5286-4696-afb5-c3e4acdfb968-c000.snappy.parquet\n",
      "-rw-r--r-- 1 sweantu sweantu 49K Aug 15 08:03 part-00062-efc8c6a0-5286-4696-afb5-c3e4acdfb968-c000.snappy.parquet\n",
      "-rw-r--r-- 1 sweantu sweantu 50K Aug 15 08:03 part-00063-efc8c6a0-5286-4696-afb5-c3e4acdfb968-c000.snappy.parquet\n",
      "-rw-r--r-- 1 sweantu sweantu 50K Aug 15 08:03 part-00064-efc8c6a0-5286-4696-afb5-c3e4acdfb968-c000.snappy.parquet\n",
      "-rw-r--r-- 1 sweantu sweantu 50K Aug 15 08:03 part-00065-efc8c6a0-5286-4696-afb5-c3e4acdfb968-c000.snappy.parquet\n",
      "-rw-r--r-- 1 sweantu sweantu 50K Aug 15 08:03 part-00066-efc8c6a0-5286-4696-afb5-c3e4acdfb968-c000.snappy.parquet\n",
      "-rw-r--r-- 1 sweantu sweantu 50K Aug 15 08:03 part-00067-efc8c6a0-5286-4696-afb5-c3e4acdfb968-c000.snappy.parquet\n",
      "-rw-r--r-- 1 sweantu sweantu 50K Aug 15 08:03 part-00068-efc8c6a0-5286-4696-afb5-c3e4acdfb968-c000.snappy.parquet\n",
      "-rw-r--r-- 1 sweantu sweantu 50K Aug 15 08:03 part-00069-efc8c6a0-5286-4696-afb5-c3e4acdfb968-c000.snappy.parquet\n",
      "-rw-r--r-- 1 sweantu sweantu 50K Aug 15 08:03 part-00070-efc8c6a0-5286-4696-afb5-c3e4acdfb968-c000.snappy.parquet\n",
      "-rw-r--r-- 1 sweantu sweantu 50K Aug 15 08:03 part-00071-efc8c6a0-5286-4696-afb5-c3e4acdfb968-c000.snappy.parquet\n",
      "-rw-r--r-- 1 sweantu sweantu 50K Aug 15 08:03 part-00072-efc8c6a0-5286-4696-afb5-c3e4acdfb968-c000.snappy.parquet\n",
      "-rw-r--r-- 1 sweantu sweantu 50K Aug 15 08:03 part-00073-efc8c6a0-5286-4696-afb5-c3e4acdfb968-c000.snappy.parquet\n",
      "-rw-r--r-- 1 sweantu sweantu 50K Aug 15 08:03 part-00074-efc8c6a0-5286-4696-afb5-c3e4acdfb968-c000.snappy.parquet\n",
      "-rw-r--r-- 1 sweantu sweantu 50K Aug 15 08:03 part-00075-efc8c6a0-5286-4696-afb5-c3e4acdfb968-c000.snappy.parquet\n",
      "-rw-r--r-- 1 sweantu sweantu 50K Aug 15 08:03 part-00076-efc8c6a0-5286-4696-afb5-c3e4acdfb968-c000.snappy.parquet\n",
      "-rw-r--r-- 1 sweantu sweantu 50K Aug 15 08:03 part-00077-efc8c6a0-5286-4696-afb5-c3e4acdfb968-c000.snappy.parquet\n",
      "-rw-r--r-- 1 sweantu sweantu 50K Aug 15 08:03 part-00078-efc8c6a0-5286-4696-afb5-c3e4acdfb968-c000.snappy.parquet\n",
      "-rw-r--r-- 1 sweantu sweantu 50K Aug 15 08:03 part-00079-efc8c6a0-5286-4696-afb5-c3e4acdfb968-c000.snappy.parquet\n",
      "-rw-r--r-- 1 sweantu sweantu 50K Aug 15 08:03 part-00080-efc8c6a0-5286-4696-afb5-c3e4acdfb968-c000.snappy.parquet\n",
      "-rw-r--r-- 1 sweantu sweantu 50K Aug 15 08:03 part-00081-efc8c6a0-5286-4696-afb5-c3e4acdfb968-c000.snappy.parquet\n",
      "-rw-r--r-- 1 sweantu sweantu 50K Aug 15 08:03 part-00082-efc8c6a0-5286-4696-afb5-c3e4acdfb968-c000.snappy.parquet\n",
      "-rw-r--r-- 1 sweantu sweantu 50K Aug 15 08:03 part-00083-efc8c6a0-5286-4696-afb5-c3e4acdfb968-c000.snappy.parquet\n",
      "-rw-r--r-- 1 sweantu sweantu 50K Aug 15 08:03 part-00084-efc8c6a0-5286-4696-afb5-c3e4acdfb968-c000.snappy.parquet\n",
      "-rw-r--r-- 1 sweantu sweantu 50K Aug 15 08:03 part-00085-efc8c6a0-5286-4696-afb5-c3e4acdfb968-c000.snappy.parquet\n",
      "-rw-r--r-- 1 sweantu sweantu 50K Aug 15 08:03 part-00086-efc8c6a0-5286-4696-afb5-c3e4acdfb968-c000.snappy.parquet\n",
      "-rw-r--r-- 1 sweantu sweantu 50K Aug 15 08:03 part-00087-efc8c6a0-5286-4696-afb5-c3e4acdfb968-c000.snappy.parquet\n",
      "-rw-r--r-- 1 sweantu sweantu 50K Aug 15 08:03 part-00088-efc8c6a0-5286-4696-afb5-c3e4acdfb968-c000.snappy.parquet\n",
      "-rw-r--r-- 1 sweantu sweantu 50K Aug 15 08:03 part-00089-efc8c6a0-5286-4696-afb5-c3e4acdfb968-c000.snappy.parquet\n",
      "-rw-r--r-- 1 sweantu sweantu 50K Aug 15 08:03 part-00090-efc8c6a0-5286-4696-afb5-c3e4acdfb968-c000.snappy.parquet\n",
      "-rw-r--r-- 1 sweantu sweantu 50K Aug 15 08:03 part-00091-efc8c6a0-5286-4696-afb5-c3e4acdfb968-c000.snappy.parquet\n",
      "-rw-r--r-- 1 sweantu sweantu 50K Aug 15 08:03 part-00092-efc8c6a0-5286-4696-afb5-c3e4acdfb968-c000.snappy.parquet\n",
      "-rw-r--r-- 1 sweantu sweantu 50K Aug 15 08:03 part-00093-efc8c6a0-5286-4696-afb5-c3e4acdfb968-c000.snappy.parquet\n",
      "-rw-r--r-- 1 sweantu sweantu 50K Aug 15 08:03 part-00094-efc8c6a0-5286-4696-afb5-c3e4acdfb968-c000.snappy.parquet\n",
      "-rw-r--r-- 1 sweantu sweantu 50K Aug 15 08:03 part-00095-efc8c6a0-5286-4696-afb5-c3e4acdfb968-c000.snappy.parquet\n",
      "-rw-r--r-- 1 sweantu sweantu 50K Aug 15 08:03 part-00096-efc8c6a0-5286-4696-afb5-c3e4acdfb968-c000.snappy.parquet\n",
      "-rw-r--r-- 1 sweantu sweantu 50K Aug 15 08:03 part-00097-efc8c6a0-5286-4696-afb5-c3e4acdfb968-c000.snappy.parquet\n",
      "-rw-r--r-- 1 sweantu sweantu 50K Aug 15 08:03 part-00098-efc8c6a0-5286-4696-afb5-c3e4acdfb968-c000.snappy.parquet\n",
      "-rw-r--r-- 1 sweantu sweantu 50K Aug 15 08:03 part-00099-efc8c6a0-5286-4696-afb5-c3e4acdfb968-c000.snappy.parquet\n",
      "-rw-r--r-- 1 sweantu sweantu 50K Aug 15 08:03 part-00100-efc8c6a0-5286-4696-afb5-c3e4acdfb968-c000.snappy.parquet\n",
      "-rw-r--r-- 1 sweantu sweantu 50K Aug 15 08:03 part-00101-efc8c6a0-5286-4696-afb5-c3e4acdfb968-c000.snappy.parquet\n",
      "-rw-r--r-- 1 sweantu sweantu 50K Aug 15 08:03 part-00102-efc8c6a0-5286-4696-afb5-c3e4acdfb968-c000.snappy.parquet\n",
      "-rw-r--r-- 1 sweantu sweantu 50K Aug 15 08:03 part-00103-efc8c6a0-5286-4696-afb5-c3e4acdfb968-c000.snappy.parquet\n",
      "-rw-r--r-- 1 sweantu sweantu 50K Aug 15 08:03 part-00104-efc8c6a0-5286-4696-afb5-c3e4acdfb968-c000.snappy.parquet\n",
      "-rw-r--r-- 1 sweantu sweantu 50K Aug 15 08:03 part-00105-efc8c6a0-5286-4696-afb5-c3e4acdfb968-c000.snappy.parquet\n",
      "-rw-r--r-- 1 sweantu sweantu 50K Aug 15 08:03 part-00106-efc8c6a0-5286-4696-afb5-c3e4acdfb968-c000.snappy.parquet\n",
      "-rw-r--r-- 1 sweantu sweantu 50K Aug 15 08:03 part-00107-efc8c6a0-5286-4696-afb5-c3e4acdfb968-c000.snappy.parquet\n",
      "-rw-r--r-- 1 sweantu sweantu 50K Aug 15 08:03 part-00108-efc8c6a0-5286-4696-afb5-c3e4acdfb968-c000.snappy.parquet\n",
      "-rw-r--r-- 1 sweantu sweantu 50K Aug 15 08:03 part-00109-efc8c6a0-5286-4696-afb5-c3e4acdfb968-c000.snappy.parquet\n",
      "-rw-r--r-- 1 sweantu sweantu 50K Aug 15 08:03 part-00110-efc8c6a0-5286-4696-afb5-c3e4acdfb968-c000.snappy.parquet\n",
      "-rw-r--r-- 1 sweantu sweantu 50K Aug 15 08:03 part-00111-efc8c6a0-5286-4696-afb5-c3e4acdfb968-c000.snappy.parquet\n",
      "-rw-r--r-- 1 sweantu sweantu 50K Aug 15 08:03 part-00112-efc8c6a0-5286-4696-afb5-c3e4acdfb968-c000.snappy.parquet\n",
      "-rw-r--r-- 1 sweantu sweantu 50K Aug 15 08:03 part-00113-efc8c6a0-5286-4696-afb5-c3e4acdfb968-c000.snappy.parquet\n",
      "-rw-r--r-- 1 sweantu sweantu 50K Aug 15 08:03 part-00114-efc8c6a0-5286-4696-afb5-c3e4acdfb968-c000.snappy.parquet\n",
      "-rw-r--r-- 1 sweantu sweantu 50K Aug 15 08:03 part-00115-efc8c6a0-5286-4696-afb5-c3e4acdfb968-c000.snappy.parquet\n",
      "-rw-r--r-- 1 sweantu sweantu 50K Aug 15 08:03 part-00116-efc8c6a0-5286-4696-afb5-c3e4acdfb968-c000.snappy.parquet\n",
      "-rw-r--r-- 1 sweantu sweantu 50K Aug 15 08:03 part-00117-efc8c6a0-5286-4696-afb5-c3e4acdfb968-c000.snappy.parquet\n",
      "-rw-r--r-- 1 sweantu sweantu 50K Aug 15 08:03 part-00118-efc8c6a0-5286-4696-afb5-c3e4acdfb968-c000.snappy.parquet\n",
      "-rw-r--r-- 1 sweantu sweantu 50K Aug 15 08:03 part-00119-efc8c6a0-5286-4696-afb5-c3e4acdfb968-c000.snappy.parquet\n",
      "-rw-r--r-- 1 sweantu sweantu 51K Aug 15 08:03 part-00120-efc8c6a0-5286-4696-afb5-c3e4acdfb968-c000.snappy.parquet\n",
      "-rw-r--r-- 1 sweantu sweantu 50K Aug 15 08:03 part-00121-efc8c6a0-5286-4696-afb5-c3e4acdfb968-c000.snappy.parquet\n",
      "-rw-r--r-- 1 sweantu sweantu 50K Aug 15 08:03 part-00122-efc8c6a0-5286-4696-afb5-c3e4acdfb968-c000.snappy.parquet\n",
      "-rw-r--r-- 1 sweantu sweantu 50K Aug 15 08:03 part-00123-efc8c6a0-5286-4696-afb5-c3e4acdfb968-c000.snappy.parquet\n",
      "-rw-r--r-- 1 sweantu sweantu 50K Aug 15 08:03 part-00124-efc8c6a0-5286-4696-afb5-c3e4acdfb968-c000.snappy.parquet\n",
      "-rw-r--r-- 1 sweantu sweantu 50K Aug 15 08:03 part-00125-efc8c6a0-5286-4696-afb5-c3e4acdfb968-c000.snappy.parquet\n",
      "-rw-r--r-- 1 sweantu sweantu 50K Aug 15 08:03 part-00126-efc8c6a0-5286-4696-afb5-c3e4acdfb968-c000.snappy.parquet\n",
      "-rw-r--r-- 1 sweantu sweantu 50K Aug 15 08:03 part-00127-efc8c6a0-5286-4696-afb5-c3e4acdfb968-c000.snappy.parquet\n",
      "-rw-r--r-- 1 sweantu sweantu 50K Aug 15 08:03 part-00128-efc8c6a0-5286-4696-afb5-c3e4acdfb968-c000.snappy.parquet\n",
      "-rw-r--r-- 1 sweantu sweantu 50K Aug 15 08:03 part-00129-efc8c6a0-5286-4696-afb5-c3e4acdfb968-c000.snappy.parquet\n",
      "-rw-r--r-- 1 sweantu sweantu 50K Aug 15 08:03 part-00130-efc8c6a0-5286-4696-afb5-c3e4acdfb968-c000.snappy.parquet\n",
      "-rw-r--r-- 1 sweantu sweantu 49K Aug 15 08:03 part-00131-efc8c6a0-5286-4696-afb5-c3e4acdfb968-c000.snappy.parquet\n",
      "-rw-r--r-- 1 sweantu sweantu 50K Aug 15 08:03 part-00132-efc8c6a0-5286-4696-afb5-c3e4acdfb968-c000.snappy.parquet\n",
      "-rw-r--r-- 1 sweantu sweantu 50K Aug 15 08:03 part-00133-efc8c6a0-5286-4696-afb5-c3e4acdfb968-c000.snappy.parquet\n",
      "-rw-r--r-- 1 sweantu sweantu 49K Aug 15 08:03 part-00134-efc8c6a0-5286-4696-afb5-c3e4acdfb968-c000.snappy.parquet\n",
      "-rw-r--r-- 1 sweantu sweantu 50K Aug 15 08:03 part-00135-efc8c6a0-5286-4696-afb5-c3e4acdfb968-c000.snappy.parquet\n",
      "-rw-r--r-- 1 sweantu sweantu 50K Aug 15 08:03 part-00136-efc8c6a0-5286-4696-afb5-c3e4acdfb968-c000.snappy.parquet\n",
      "-rw-r--r-- 1 sweantu sweantu 50K Aug 15 08:03 part-00137-efc8c6a0-5286-4696-afb5-c3e4acdfb968-c000.snappy.parquet\n",
      "-rw-r--r-- 1 sweantu sweantu 50K Aug 15 08:03 part-00138-efc8c6a0-5286-4696-afb5-c3e4acdfb968-c000.snappy.parquet\n",
      "-rw-r--r-- 1 sweantu sweantu 50K Aug 15 08:03 part-00139-efc8c6a0-5286-4696-afb5-c3e4acdfb968-c000.snappy.parquet\n",
      "-rw-r--r-- 1 sweantu sweantu 50K Aug 15 08:03 part-00140-efc8c6a0-5286-4696-afb5-c3e4acdfb968-c000.snappy.parquet\n",
      "-rw-r--r-- 1 sweantu sweantu 50K Aug 15 08:03 part-00141-efc8c6a0-5286-4696-afb5-c3e4acdfb968-c000.snappy.parquet\n",
      "-rw-r--r-- 1 sweantu sweantu 50K Aug 15 08:03 part-00142-efc8c6a0-5286-4696-afb5-c3e4acdfb968-c000.snappy.parquet\n",
      "-rw-r--r-- 1 sweantu sweantu 49K Aug 15 08:03 part-00143-efc8c6a0-5286-4696-afb5-c3e4acdfb968-c000.snappy.parquet\n",
      "-rw-r--r-- 1 sweantu sweantu 50K Aug 15 08:03 part-00144-efc8c6a0-5286-4696-afb5-c3e4acdfb968-c000.snappy.parquet\n",
      "-rw-r--r-- 1 sweantu sweantu 50K Aug 15 08:03 part-00145-efc8c6a0-5286-4696-afb5-c3e4acdfb968-c000.snappy.parquet\n",
      "-rw-r--r-- 1 sweantu sweantu 50K Aug 15 08:03 part-00146-efc8c6a0-5286-4696-afb5-c3e4acdfb968-c000.snappy.parquet\n",
      "-rw-r--r-- 1 sweantu sweantu 50K Aug 15 08:03 part-00147-efc8c6a0-5286-4696-afb5-c3e4acdfb968-c000.snappy.parquet\n",
      "-rw-r--r-- 1 sweantu sweantu 50K Aug 15 08:03 part-00148-efc8c6a0-5286-4696-afb5-c3e4acdfb968-c000.snappy.parquet\n",
      "-rw-r--r-- 1 sweantu sweantu 50K Aug 15 08:03 part-00149-efc8c6a0-5286-4696-afb5-c3e4acdfb968-c000.snappy.parquet\n",
      "-rw-r--r-- 1 sweantu sweantu 50K Aug 15 08:03 part-00150-efc8c6a0-5286-4696-afb5-c3e4acdfb968-c000.snappy.parquet\n",
      "-rw-r--r-- 1 sweantu sweantu 50K Aug 15 08:03 part-00151-efc8c6a0-5286-4696-afb5-c3e4acdfb968-c000.snappy.parquet\n",
      "-rw-r--r-- 1 sweantu sweantu 50K Aug 15 08:03 part-00152-efc8c6a0-5286-4696-afb5-c3e4acdfb968-c000.snappy.parquet\n",
      "-rw-r--r-- 1 sweantu sweantu 50K Aug 15 08:03 part-00153-efc8c6a0-5286-4696-afb5-c3e4acdfb968-c000.snappy.parquet\n",
      "-rw-r--r-- 1 sweantu sweantu 50K Aug 15 08:03 part-00154-efc8c6a0-5286-4696-afb5-c3e4acdfb968-c000.snappy.parquet\n",
      "-rw-r--r-- 1 sweantu sweantu 50K Aug 15 08:03 part-00155-efc8c6a0-5286-4696-afb5-c3e4acdfb968-c000.snappy.parquet\n",
      "-rw-r--r-- 1 sweantu sweantu 50K Aug 15 08:03 part-00156-efc8c6a0-5286-4696-afb5-c3e4acdfb968-c000.snappy.parquet\n",
      "-rw-r--r-- 1 sweantu sweantu 50K Aug 15 08:03 part-00157-efc8c6a0-5286-4696-afb5-c3e4acdfb968-c000.snappy.parquet\n",
      "-rw-r--r-- 1 sweantu sweantu 50K Aug 15 08:03 part-00158-efc8c6a0-5286-4696-afb5-c3e4acdfb968-c000.snappy.parquet\n",
      "-rw-r--r-- 1 sweantu sweantu 50K Aug 15 08:03 part-00159-efc8c6a0-5286-4696-afb5-c3e4acdfb968-c000.snappy.parquet\n",
      "-rw-r--r-- 1 sweantu sweantu 50K Aug 15 08:03 part-00160-efc8c6a0-5286-4696-afb5-c3e4acdfb968-c000.snappy.parquet\n",
      "-rw-r--r-- 1 sweantu sweantu 50K Aug 15 08:03 part-00161-efc8c6a0-5286-4696-afb5-c3e4acdfb968-c000.snappy.parquet\n",
      "-rw-r--r-- 1 sweantu sweantu 50K Aug 15 08:03 part-00162-efc8c6a0-5286-4696-afb5-c3e4acdfb968-c000.snappy.parquet\n",
      "-rw-r--r-- 1 sweantu sweantu 50K Aug 15 08:03 part-00163-efc8c6a0-5286-4696-afb5-c3e4acdfb968-c000.snappy.parquet\n",
      "-rw-r--r-- 1 sweantu sweantu 50K Aug 15 08:03 part-00164-efc8c6a0-5286-4696-afb5-c3e4acdfb968-c000.snappy.parquet\n",
      "-rw-r--r-- 1 sweantu sweantu 50K Aug 15 08:03 part-00165-efc8c6a0-5286-4696-afb5-c3e4acdfb968-c000.snappy.parquet\n",
      "-rw-r--r-- 1 sweantu sweantu 49K Aug 15 08:03 part-00166-efc8c6a0-5286-4696-afb5-c3e4acdfb968-c000.snappy.parquet\n",
      "-rw-r--r-- 1 sweantu sweantu 50K Aug 15 08:03 part-00167-efc8c6a0-5286-4696-afb5-c3e4acdfb968-c000.snappy.parquet\n",
      "-rw-r--r-- 1 sweantu sweantu 50K Aug 15 08:03 part-00168-efc8c6a0-5286-4696-afb5-c3e4acdfb968-c000.snappy.parquet\n",
      "-rw-r--r-- 1 sweantu sweantu 50K Aug 15 08:03 part-00169-efc8c6a0-5286-4696-afb5-c3e4acdfb968-c000.snappy.parquet\n",
      "-rw-r--r-- 1 sweantu sweantu 50K Aug 15 08:03 part-00170-efc8c6a0-5286-4696-afb5-c3e4acdfb968-c000.snappy.parquet\n",
      "-rw-r--r-- 1 sweantu sweantu 50K Aug 15 08:03 part-00171-efc8c6a0-5286-4696-afb5-c3e4acdfb968-c000.snappy.parquet\n",
      "-rw-r--r-- 1 sweantu sweantu 50K Aug 15 08:03 part-00172-efc8c6a0-5286-4696-afb5-c3e4acdfb968-c000.snappy.parquet\n",
      "-rw-r--r-- 1 sweantu sweantu 50K Aug 15 08:03 part-00173-efc8c6a0-5286-4696-afb5-c3e4acdfb968-c000.snappy.parquet\n",
      "-rw-r--r-- 1 sweantu sweantu 50K Aug 15 08:03 part-00174-efc8c6a0-5286-4696-afb5-c3e4acdfb968-c000.snappy.parquet\n",
      "-rw-r--r-- 1 sweantu sweantu 50K Aug 15 08:03 part-00175-efc8c6a0-5286-4696-afb5-c3e4acdfb968-c000.snappy.parquet\n",
      "-rw-r--r-- 1 sweantu sweantu 50K Aug 15 08:03 part-00176-efc8c6a0-5286-4696-afb5-c3e4acdfb968-c000.snappy.parquet\n",
      "-rw-r--r-- 1 sweantu sweantu 50K Aug 15 08:03 part-00177-efc8c6a0-5286-4696-afb5-c3e4acdfb968-c000.snappy.parquet\n",
      "-rw-r--r-- 1 sweantu sweantu 50K Aug 15 08:03 part-00178-efc8c6a0-5286-4696-afb5-c3e4acdfb968-c000.snappy.parquet\n",
      "-rw-r--r-- 1 sweantu sweantu 50K Aug 15 08:03 part-00179-efc8c6a0-5286-4696-afb5-c3e4acdfb968-c000.snappy.parquet\n",
      "-rw-r--r-- 1 sweantu sweantu 50K Aug 15 08:03 part-00180-efc8c6a0-5286-4696-afb5-c3e4acdfb968-c000.snappy.parquet\n",
      "-rw-r--r-- 1 sweantu sweantu 50K Aug 15 08:03 part-00181-efc8c6a0-5286-4696-afb5-c3e4acdfb968-c000.snappy.parquet\n",
      "-rw-r--r-- 1 sweantu sweantu 50K Aug 15 08:03 part-00182-efc8c6a0-5286-4696-afb5-c3e4acdfb968-c000.snappy.parquet\n",
      "-rw-r--r-- 1 sweantu sweantu 50K Aug 15 08:03 part-00183-efc8c6a0-5286-4696-afb5-c3e4acdfb968-c000.snappy.parquet\n",
      "-rw-r--r-- 1 sweantu sweantu 50K Aug 15 08:03 part-00184-efc8c6a0-5286-4696-afb5-c3e4acdfb968-c000.snappy.parquet\n",
      "-rw-r--r-- 1 sweantu sweantu 50K Aug 15 08:03 part-00185-efc8c6a0-5286-4696-afb5-c3e4acdfb968-c000.snappy.parquet\n",
      "-rw-r--r-- 1 sweantu sweantu 50K Aug 15 08:03 part-00186-efc8c6a0-5286-4696-afb5-c3e4acdfb968-c000.snappy.parquet\n",
      "-rw-r--r-- 1 sweantu sweantu 50K Aug 15 08:03 part-00187-efc8c6a0-5286-4696-afb5-c3e4acdfb968-c000.snappy.parquet\n",
      "-rw-r--r-- 1 sweantu sweantu 50K Aug 15 08:03 part-00188-efc8c6a0-5286-4696-afb5-c3e4acdfb968-c000.snappy.parquet\n",
      "-rw-r--r-- 1 sweantu sweantu 50K Aug 15 08:03 part-00189-efc8c6a0-5286-4696-afb5-c3e4acdfb968-c000.snappy.parquet\n",
      "-rw-r--r-- 1 sweantu sweantu 50K Aug 15 08:03 part-00190-efc8c6a0-5286-4696-afb5-c3e4acdfb968-c000.snappy.parquet\n",
      "-rw-r--r-- 1 sweantu sweantu 49K Aug 15 08:03 part-00191-efc8c6a0-5286-4696-afb5-c3e4acdfb968-c000.snappy.parquet\n",
      "-rw-r--r-- 1 sweantu sweantu 50K Aug 15 08:03 part-00192-efc8c6a0-5286-4696-afb5-c3e4acdfb968-c000.snappy.parquet\n",
      "-rw-r--r-- 1 sweantu sweantu 50K Aug 15 08:03 part-00193-efc8c6a0-5286-4696-afb5-c3e4acdfb968-c000.snappy.parquet\n",
      "-rw-r--r-- 1 sweantu sweantu 50K Aug 15 08:03 part-00194-efc8c6a0-5286-4696-afb5-c3e4acdfb968-c000.snappy.parquet\n",
      "-rw-r--r-- 1 sweantu sweantu 49K Aug 15 08:03 part-00195-efc8c6a0-5286-4696-afb5-c3e4acdfb968-c000.snappy.parquet\n",
      "-rw-r--r-- 1 sweantu sweantu 50K Aug 15 08:03 part-00196-efc8c6a0-5286-4696-afb5-c3e4acdfb968-c000.snappy.parquet\n",
      "-rw-r--r-- 1 sweantu sweantu 50K Aug 15 08:03 part-00197-efc8c6a0-5286-4696-afb5-c3e4acdfb968-c000.snappy.parquet\n",
      "-rw-r--r-- 1 sweantu sweantu 50K Aug 15 08:03 part-00198-efc8c6a0-5286-4696-afb5-c3e4acdfb968-c000.snappy.parquet\n",
      "-rw-r--r-- 1 sweantu sweantu 50K Aug 15 08:03 part-00199-efc8c6a0-5286-4696-afb5-c3e4acdfb968-c000.snappy.parquet\n"
     ]
    }
   ],
   "source": [
    "!ls -lhR 'data/report/revenue/total'"
   ]
  },
  {
   "cell_type": "code",
   "execution_count": 31,
   "id": "97d6a57b-22b4-48fb-80a2-c62b86298aa9",
   "metadata": {},
   "outputs": [],
   "source": [
    "df_green_revenue = spark.read.parquet('data/report/revenue/green')\n",
    "df_yellow_revenue = spark.read.parquet('data/report/revenue/yellow')"
   ]
  },
  {
   "cell_type": "code",
   "execution_count": 32,
   "id": "04fe2f91-71c0-4060-8a67-58de581aa27d",
   "metadata": {},
   "outputs": [],
   "source": [
    "df_green_revenue_tmp = df_green_revenue \\\n",
    "    .withColumnRenamed('amount', 'green_amount') \\\n",
    "    .withColumnRenamed('number_records', 'green_number_records')\n",
    "\n",
    "df_yellow_revenue_tmp = df_yellow_revenue \\\n",
    "    .withColumnRenamed('amount', 'yellow_amount') \\\n",
    "    .withColumnRenamed('number_records', 'yellow_number_records')"
   ]
  },
  {
   "cell_type": "code",
   "execution_count": 33,
   "id": "7b638c79-4160-44cc-899b-a1af1f66e843",
   "metadata": {},
   "outputs": [],
   "source": [
    "df_join = df_green_revenue_tmp.join(df_yellow_revenue_tmp, on=['hour', 'zone'], how='outer')"
   ]
  },
  {
   "cell_type": "code",
   "execution_count": 34,
   "id": "e977e6c1-2954-4050-b2b8-7b0031a94da2",
   "metadata": {},
   "outputs": [
    {
     "name": "stderr",
     "output_type": "stream",
     "text": [
      "                                                                                "
     ]
    },
    {
     "data": {
      "text/plain": [
       "669604"
      ]
     },
     "execution_count": 34,
     "metadata": {},
     "output_type": "execute_result"
    }
   ],
   "source": [
    "df_join.count()"
   ]
  },
  {
   "cell_type": "code",
   "execution_count": 35,
   "id": "e1043456-49eb-4399-8db3-9e6f19458b70",
   "metadata": {},
   "outputs": [
    {
     "name": "stderr",
     "output_type": "stream",
     "text": [
      "                                                                                "
     ]
    }
   ],
   "source": [
    "df_join.repartition(200).write.parquet('data/report/revenue/total', mode='overwrite')"
   ]
  },
  {
   "cell_type": "code",
   "execution_count": 36,
   "id": "41ad6b3c-427e-4607-9b3f-22e8c4084a0f",
   "metadata": {},
   "outputs": [
    {
     "name": "stdout",
     "output_type": "stream",
     "text": [
      "data/report/revenue/total:\n",
      "total 11M\n",
      "-rw-r--r-- 1 sweantu sweantu   0 Aug 15 08:05 _SUCCESS\n",
      "-rw-r--r-- 1 sweantu sweantu 50K Aug 15 08:05 part-00000-1095f2b8-5a76-4c3b-b7bc-cf2c3110affb-c000.snappy.parquet\n",
      "-rw-r--r-- 1 sweantu sweantu 50K Aug 15 08:05 part-00001-1095f2b8-5a76-4c3b-b7bc-cf2c3110affb-c000.snappy.parquet\n",
      "-rw-r--r-- 1 sweantu sweantu 49K Aug 15 08:05 part-00002-1095f2b8-5a76-4c3b-b7bc-cf2c3110affb-c000.snappy.parquet\n",
      "-rw-r--r-- 1 sweantu sweantu 50K Aug 15 08:05 part-00003-1095f2b8-5a76-4c3b-b7bc-cf2c3110affb-c000.snappy.parquet\n",
      "-rw-r--r-- 1 sweantu sweantu 50K Aug 15 08:05 part-00004-1095f2b8-5a76-4c3b-b7bc-cf2c3110affb-c000.snappy.parquet\n",
      "-rw-r--r-- 1 sweantu sweantu 50K Aug 15 08:05 part-00005-1095f2b8-5a76-4c3b-b7bc-cf2c3110affb-c000.snappy.parquet\n",
      "-rw-r--r-- 1 sweantu sweantu 50K Aug 15 08:05 part-00006-1095f2b8-5a76-4c3b-b7bc-cf2c3110affb-c000.snappy.parquet\n",
      "-rw-r--r-- 1 sweantu sweantu 50K Aug 15 08:05 part-00007-1095f2b8-5a76-4c3b-b7bc-cf2c3110affb-c000.snappy.parquet\n",
      "-rw-r--r-- 1 sweantu sweantu 50K Aug 15 08:05 part-00008-1095f2b8-5a76-4c3b-b7bc-cf2c3110affb-c000.snappy.parquet\n",
      "-rw-r--r-- 1 sweantu sweantu 49K Aug 15 08:05 part-00009-1095f2b8-5a76-4c3b-b7bc-cf2c3110affb-c000.snappy.parquet\n",
      "-rw-r--r-- 1 sweantu sweantu 50K Aug 15 08:05 part-00010-1095f2b8-5a76-4c3b-b7bc-cf2c3110affb-c000.snappy.parquet\n",
      "-rw-r--r-- 1 sweantu sweantu 50K Aug 15 08:05 part-00011-1095f2b8-5a76-4c3b-b7bc-cf2c3110affb-c000.snappy.parquet\n",
      "-rw-r--r-- 1 sweantu sweantu 50K Aug 15 08:05 part-00012-1095f2b8-5a76-4c3b-b7bc-cf2c3110affb-c000.snappy.parquet\n",
      "-rw-r--r-- 1 sweantu sweantu 50K Aug 15 08:05 part-00013-1095f2b8-5a76-4c3b-b7bc-cf2c3110affb-c000.snappy.parquet\n",
      "-rw-r--r-- 1 sweantu sweantu 50K Aug 15 08:05 part-00014-1095f2b8-5a76-4c3b-b7bc-cf2c3110affb-c000.snappy.parquet\n",
      "-rw-r--r-- 1 sweantu sweantu 50K Aug 15 08:05 part-00015-1095f2b8-5a76-4c3b-b7bc-cf2c3110affb-c000.snappy.parquet\n",
      "-rw-r--r-- 1 sweantu sweantu 50K Aug 15 08:05 part-00016-1095f2b8-5a76-4c3b-b7bc-cf2c3110affb-c000.snappy.parquet\n",
      "-rw-r--r-- 1 sweantu sweantu 51K Aug 15 08:05 part-00017-1095f2b8-5a76-4c3b-b7bc-cf2c3110affb-c000.snappy.parquet\n",
      "-rw-r--r-- 1 sweantu sweantu 50K Aug 15 08:05 part-00018-1095f2b8-5a76-4c3b-b7bc-cf2c3110affb-c000.snappy.parquet\n",
      "-rw-r--r-- 1 sweantu sweantu 50K Aug 15 08:05 part-00019-1095f2b8-5a76-4c3b-b7bc-cf2c3110affb-c000.snappy.parquet\n",
      "-rw-r--r-- 1 sweantu sweantu 50K Aug 15 08:05 part-00020-1095f2b8-5a76-4c3b-b7bc-cf2c3110affb-c000.snappy.parquet\n",
      "-rw-r--r-- 1 sweantu sweantu 50K Aug 15 08:05 part-00021-1095f2b8-5a76-4c3b-b7bc-cf2c3110affb-c000.snappy.parquet\n",
      "-rw-r--r-- 1 sweantu sweantu 50K Aug 15 08:05 part-00022-1095f2b8-5a76-4c3b-b7bc-cf2c3110affb-c000.snappy.parquet\n",
      "-rw-r--r-- 1 sweantu sweantu 50K Aug 15 08:05 part-00023-1095f2b8-5a76-4c3b-b7bc-cf2c3110affb-c000.snappy.parquet\n",
      "-rw-r--r-- 1 sweantu sweantu 50K Aug 15 08:05 part-00024-1095f2b8-5a76-4c3b-b7bc-cf2c3110affb-c000.snappy.parquet\n",
      "-rw-r--r-- 1 sweantu sweantu 50K Aug 15 08:05 part-00025-1095f2b8-5a76-4c3b-b7bc-cf2c3110affb-c000.snappy.parquet\n",
      "-rw-r--r-- 1 sweantu sweantu 50K Aug 15 08:05 part-00026-1095f2b8-5a76-4c3b-b7bc-cf2c3110affb-c000.snappy.parquet\n",
      "-rw-r--r-- 1 sweantu sweantu 50K Aug 15 08:05 part-00027-1095f2b8-5a76-4c3b-b7bc-cf2c3110affb-c000.snappy.parquet\n",
      "-rw-r--r-- 1 sweantu sweantu 50K Aug 15 08:05 part-00028-1095f2b8-5a76-4c3b-b7bc-cf2c3110affb-c000.snappy.parquet\n",
      "-rw-r--r-- 1 sweantu sweantu 50K Aug 15 08:05 part-00029-1095f2b8-5a76-4c3b-b7bc-cf2c3110affb-c000.snappy.parquet\n",
      "-rw-r--r-- 1 sweantu sweantu 50K Aug 15 08:05 part-00030-1095f2b8-5a76-4c3b-b7bc-cf2c3110affb-c000.snappy.parquet\n",
      "-rw-r--r-- 1 sweantu sweantu 50K Aug 15 08:05 part-00031-1095f2b8-5a76-4c3b-b7bc-cf2c3110affb-c000.snappy.parquet\n",
      "-rw-r--r-- 1 sweantu sweantu 50K Aug 15 08:05 part-00032-1095f2b8-5a76-4c3b-b7bc-cf2c3110affb-c000.snappy.parquet\n",
      "-rw-r--r-- 1 sweantu sweantu 50K Aug 15 08:05 part-00033-1095f2b8-5a76-4c3b-b7bc-cf2c3110affb-c000.snappy.parquet\n",
      "-rw-r--r-- 1 sweantu sweantu 50K Aug 15 08:05 part-00034-1095f2b8-5a76-4c3b-b7bc-cf2c3110affb-c000.snappy.parquet\n",
      "-rw-r--r-- 1 sweantu sweantu 50K Aug 15 08:05 part-00035-1095f2b8-5a76-4c3b-b7bc-cf2c3110affb-c000.snappy.parquet\n",
      "-rw-r--r-- 1 sweantu sweantu 50K Aug 15 08:05 part-00036-1095f2b8-5a76-4c3b-b7bc-cf2c3110affb-c000.snappy.parquet\n",
      "-rw-r--r-- 1 sweantu sweantu 50K Aug 15 08:05 part-00037-1095f2b8-5a76-4c3b-b7bc-cf2c3110affb-c000.snappy.parquet\n",
      "-rw-r--r-- 1 sweantu sweantu 50K Aug 15 08:05 part-00038-1095f2b8-5a76-4c3b-b7bc-cf2c3110affb-c000.snappy.parquet\n",
      "-rw-r--r-- 1 sweantu sweantu 50K Aug 15 08:05 part-00039-1095f2b8-5a76-4c3b-b7bc-cf2c3110affb-c000.snappy.parquet\n",
      "-rw-r--r-- 1 sweantu sweantu 50K Aug 15 08:05 part-00040-1095f2b8-5a76-4c3b-b7bc-cf2c3110affb-c000.snappy.parquet\n",
      "-rw-r--r-- 1 sweantu sweantu 50K Aug 15 08:05 part-00041-1095f2b8-5a76-4c3b-b7bc-cf2c3110affb-c000.snappy.parquet\n",
      "-rw-r--r-- 1 sweantu sweantu 49K Aug 15 08:05 part-00042-1095f2b8-5a76-4c3b-b7bc-cf2c3110affb-c000.snappy.parquet\n",
      "-rw-r--r-- 1 sweantu sweantu 50K Aug 15 08:05 part-00043-1095f2b8-5a76-4c3b-b7bc-cf2c3110affb-c000.snappy.parquet\n",
      "-rw-r--r-- 1 sweantu sweantu 50K Aug 15 08:05 part-00044-1095f2b8-5a76-4c3b-b7bc-cf2c3110affb-c000.snappy.parquet\n",
      "-rw-r--r-- 1 sweantu sweantu 50K Aug 15 08:05 part-00045-1095f2b8-5a76-4c3b-b7bc-cf2c3110affb-c000.snappy.parquet\n",
      "-rw-r--r-- 1 sweantu sweantu 50K Aug 15 08:05 part-00046-1095f2b8-5a76-4c3b-b7bc-cf2c3110affb-c000.snappy.parquet\n",
      "-rw-r--r-- 1 sweantu sweantu 50K Aug 15 08:05 part-00047-1095f2b8-5a76-4c3b-b7bc-cf2c3110affb-c000.snappy.parquet\n",
      "-rw-r--r-- 1 sweantu sweantu 51K Aug 15 08:05 part-00048-1095f2b8-5a76-4c3b-b7bc-cf2c3110affb-c000.snappy.parquet\n",
      "-rw-r--r-- 1 sweantu sweantu 50K Aug 15 08:05 part-00049-1095f2b8-5a76-4c3b-b7bc-cf2c3110affb-c000.snappy.parquet\n",
      "-rw-r--r-- 1 sweantu sweantu 50K Aug 15 08:05 part-00050-1095f2b8-5a76-4c3b-b7bc-cf2c3110affb-c000.snappy.parquet\n",
      "-rw-r--r-- 1 sweantu sweantu 50K Aug 15 08:05 part-00051-1095f2b8-5a76-4c3b-b7bc-cf2c3110affb-c000.snappy.parquet\n",
      "-rw-r--r-- 1 sweantu sweantu 50K Aug 15 08:05 part-00052-1095f2b8-5a76-4c3b-b7bc-cf2c3110affb-c000.snappy.parquet\n",
      "-rw-r--r-- 1 sweantu sweantu 50K Aug 15 08:05 part-00053-1095f2b8-5a76-4c3b-b7bc-cf2c3110affb-c000.snappy.parquet\n",
      "-rw-r--r-- 1 sweantu sweantu 50K Aug 15 08:05 part-00054-1095f2b8-5a76-4c3b-b7bc-cf2c3110affb-c000.snappy.parquet\n",
      "-rw-r--r-- 1 sweantu sweantu 49K Aug 15 08:05 part-00055-1095f2b8-5a76-4c3b-b7bc-cf2c3110affb-c000.snappy.parquet\n",
      "-rw-r--r-- 1 sweantu sweantu 50K Aug 15 08:05 part-00056-1095f2b8-5a76-4c3b-b7bc-cf2c3110affb-c000.snappy.parquet\n",
      "-rw-r--r-- 1 sweantu sweantu 50K Aug 15 08:05 part-00057-1095f2b8-5a76-4c3b-b7bc-cf2c3110affb-c000.snappy.parquet\n",
      "-rw-r--r-- 1 sweantu sweantu 50K Aug 15 08:05 part-00058-1095f2b8-5a76-4c3b-b7bc-cf2c3110affb-c000.snappy.parquet\n",
      "-rw-r--r-- 1 sweantu sweantu 50K Aug 15 08:05 part-00059-1095f2b8-5a76-4c3b-b7bc-cf2c3110affb-c000.snappy.parquet\n",
      "-rw-r--r-- 1 sweantu sweantu 50K Aug 15 08:05 part-00060-1095f2b8-5a76-4c3b-b7bc-cf2c3110affb-c000.snappy.parquet\n",
      "-rw-r--r-- 1 sweantu sweantu 50K Aug 15 08:05 part-00061-1095f2b8-5a76-4c3b-b7bc-cf2c3110affb-c000.snappy.parquet\n",
      "-rw-r--r-- 1 sweantu sweantu 49K Aug 15 08:05 part-00062-1095f2b8-5a76-4c3b-b7bc-cf2c3110affb-c000.snappy.parquet\n",
      "-rw-r--r-- 1 sweantu sweantu 50K Aug 15 08:05 part-00063-1095f2b8-5a76-4c3b-b7bc-cf2c3110affb-c000.snappy.parquet\n",
      "-rw-r--r-- 1 sweantu sweantu 50K Aug 15 08:05 part-00064-1095f2b8-5a76-4c3b-b7bc-cf2c3110affb-c000.snappy.parquet\n",
      "-rw-r--r-- 1 sweantu sweantu 50K Aug 15 08:05 part-00065-1095f2b8-5a76-4c3b-b7bc-cf2c3110affb-c000.snappy.parquet\n",
      "-rw-r--r-- 1 sweantu sweantu 50K Aug 15 08:05 part-00066-1095f2b8-5a76-4c3b-b7bc-cf2c3110affb-c000.snappy.parquet\n",
      "-rw-r--r-- 1 sweantu sweantu 50K Aug 15 08:05 part-00067-1095f2b8-5a76-4c3b-b7bc-cf2c3110affb-c000.snappy.parquet\n",
      "-rw-r--r-- 1 sweantu sweantu 50K Aug 15 08:05 part-00068-1095f2b8-5a76-4c3b-b7bc-cf2c3110affb-c000.snappy.parquet\n",
      "-rw-r--r-- 1 sweantu sweantu 50K Aug 15 08:05 part-00069-1095f2b8-5a76-4c3b-b7bc-cf2c3110affb-c000.snappy.parquet\n",
      "-rw-r--r-- 1 sweantu sweantu 50K Aug 15 08:05 part-00070-1095f2b8-5a76-4c3b-b7bc-cf2c3110affb-c000.snappy.parquet\n",
      "-rw-r--r-- 1 sweantu sweantu 50K Aug 15 08:05 part-00071-1095f2b8-5a76-4c3b-b7bc-cf2c3110affb-c000.snappy.parquet\n",
      "-rw-r--r-- 1 sweantu sweantu 50K Aug 15 08:05 part-00072-1095f2b8-5a76-4c3b-b7bc-cf2c3110affb-c000.snappy.parquet\n",
      "-rw-r--r-- 1 sweantu sweantu 50K Aug 15 08:05 part-00073-1095f2b8-5a76-4c3b-b7bc-cf2c3110affb-c000.snappy.parquet\n",
      "-rw-r--r-- 1 sweantu sweantu 50K Aug 15 08:05 part-00074-1095f2b8-5a76-4c3b-b7bc-cf2c3110affb-c000.snappy.parquet\n",
      "-rw-r--r-- 1 sweantu sweantu 50K Aug 15 08:05 part-00075-1095f2b8-5a76-4c3b-b7bc-cf2c3110affb-c000.snappy.parquet\n",
      "-rw-r--r-- 1 sweantu sweantu 50K Aug 15 08:05 part-00076-1095f2b8-5a76-4c3b-b7bc-cf2c3110affb-c000.snappy.parquet\n",
      "-rw-r--r-- 1 sweantu sweantu 50K Aug 15 08:05 part-00077-1095f2b8-5a76-4c3b-b7bc-cf2c3110affb-c000.snappy.parquet\n",
      "-rw-r--r-- 1 sweantu sweantu 50K Aug 15 08:05 part-00078-1095f2b8-5a76-4c3b-b7bc-cf2c3110affb-c000.snappy.parquet\n",
      "-rw-r--r-- 1 sweantu sweantu 50K Aug 15 08:05 part-00079-1095f2b8-5a76-4c3b-b7bc-cf2c3110affb-c000.snappy.parquet\n",
      "-rw-r--r-- 1 sweantu sweantu 50K Aug 15 08:05 part-00080-1095f2b8-5a76-4c3b-b7bc-cf2c3110affb-c000.snappy.parquet\n",
      "-rw-r--r-- 1 sweantu sweantu 50K Aug 15 08:05 part-00081-1095f2b8-5a76-4c3b-b7bc-cf2c3110affb-c000.snappy.parquet\n",
      "-rw-r--r-- 1 sweantu sweantu 50K Aug 15 08:05 part-00082-1095f2b8-5a76-4c3b-b7bc-cf2c3110affb-c000.snappy.parquet\n",
      "-rw-r--r-- 1 sweantu sweantu 50K Aug 15 08:05 part-00083-1095f2b8-5a76-4c3b-b7bc-cf2c3110affb-c000.snappy.parquet\n",
      "-rw-r--r-- 1 sweantu sweantu 50K Aug 15 08:05 part-00084-1095f2b8-5a76-4c3b-b7bc-cf2c3110affb-c000.snappy.parquet\n",
      "-rw-r--r-- 1 sweantu sweantu 50K Aug 15 08:05 part-00085-1095f2b8-5a76-4c3b-b7bc-cf2c3110affb-c000.snappy.parquet\n",
      "-rw-r--r-- 1 sweantu sweantu 50K Aug 15 08:05 part-00086-1095f2b8-5a76-4c3b-b7bc-cf2c3110affb-c000.snappy.parquet\n",
      "-rw-r--r-- 1 sweantu sweantu 50K Aug 15 08:05 part-00087-1095f2b8-5a76-4c3b-b7bc-cf2c3110affb-c000.snappy.parquet\n",
      "-rw-r--r-- 1 sweantu sweantu 50K Aug 15 08:05 part-00088-1095f2b8-5a76-4c3b-b7bc-cf2c3110affb-c000.snappy.parquet\n",
      "-rw-r--r-- 1 sweantu sweantu 50K Aug 15 08:05 part-00089-1095f2b8-5a76-4c3b-b7bc-cf2c3110affb-c000.snappy.parquet\n",
      "-rw-r--r-- 1 sweantu sweantu 50K Aug 15 08:05 part-00090-1095f2b8-5a76-4c3b-b7bc-cf2c3110affb-c000.snappy.parquet\n",
      "-rw-r--r-- 1 sweantu sweantu 50K Aug 15 08:05 part-00091-1095f2b8-5a76-4c3b-b7bc-cf2c3110affb-c000.snappy.parquet\n",
      "-rw-r--r-- 1 sweantu sweantu 50K Aug 15 08:05 part-00092-1095f2b8-5a76-4c3b-b7bc-cf2c3110affb-c000.snappy.parquet\n",
      "-rw-r--r-- 1 sweantu sweantu 50K Aug 15 08:05 part-00093-1095f2b8-5a76-4c3b-b7bc-cf2c3110affb-c000.snappy.parquet\n",
      "-rw-r--r-- 1 sweantu sweantu 50K Aug 15 08:05 part-00094-1095f2b8-5a76-4c3b-b7bc-cf2c3110affb-c000.snappy.parquet\n",
      "-rw-r--r-- 1 sweantu sweantu 50K Aug 15 08:05 part-00095-1095f2b8-5a76-4c3b-b7bc-cf2c3110affb-c000.snappy.parquet\n",
      "-rw-r--r-- 1 sweantu sweantu 50K Aug 15 08:05 part-00096-1095f2b8-5a76-4c3b-b7bc-cf2c3110affb-c000.snappy.parquet\n",
      "-rw-r--r-- 1 sweantu sweantu 50K Aug 15 08:05 part-00097-1095f2b8-5a76-4c3b-b7bc-cf2c3110affb-c000.snappy.parquet\n",
      "-rw-r--r-- 1 sweantu sweantu 50K Aug 15 08:05 part-00098-1095f2b8-5a76-4c3b-b7bc-cf2c3110affb-c000.snappy.parquet\n",
      "-rw-r--r-- 1 sweantu sweantu 50K Aug 15 08:05 part-00099-1095f2b8-5a76-4c3b-b7bc-cf2c3110affb-c000.snappy.parquet\n",
      "-rw-r--r-- 1 sweantu sweantu 50K Aug 15 08:05 part-00100-1095f2b8-5a76-4c3b-b7bc-cf2c3110affb-c000.snappy.parquet\n",
      "-rw-r--r-- 1 sweantu sweantu 50K Aug 15 08:05 part-00101-1095f2b8-5a76-4c3b-b7bc-cf2c3110affb-c000.snappy.parquet\n",
      "-rw-r--r-- 1 sweantu sweantu 50K Aug 15 08:05 part-00102-1095f2b8-5a76-4c3b-b7bc-cf2c3110affb-c000.snappy.parquet\n",
      "-rw-r--r-- 1 sweantu sweantu 50K Aug 15 08:05 part-00103-1095f2b8-5a76-4c3b-b7bc-cf2c3110affb-c000.snappy.parquet\n",
      "-rw-r--r-- 1 sweantu sweantu 50K Aug 15 08:05 part-00104-1095f2b8-5a76-4c3b-b7bc-cf2c3110affb-c000.snappy.parquet\n",
      "-rw-r--r-- 1 sweantu sweantu 50K Aug 15 08:05 part-00105-1095f2b8-5a76-4c3b-b7bc-cf2c3110affb-c000.snappy.parquet\n",
      "-rw-r--r-- 1 sweantu sweantu 50K Aug 15 08:05 part-00106-1095f2b8-5a76-4c3b-b7bc-cf2c3110affb-c000.snappy.parquet\n",
      "-rw-r--r-- 1 sweantu sweantu 50K Aug 15 08:05 part-00107-1095f2b8-5a76-4c3b-b7bc-cf2c3110affb-c000.snappy.parquet\n",
      "-rw-r--r-- 1 sweantu sweantu 50K Aug 15 08:05 part-00108-1095f2b8-5a76-4c3b-b7bc-cf2c3110affb-c000.snappy.parquet\n",
      "-rw-r--r-- 1 sweantu sweantu 50K Aug 15 08:05 part-00109-1095f2b8-5a76-4c3b-b7bc-cf2c3110affb-c000.snappy.parquet\n",
      "-rw-r--r-- 1 sweantu sweantu 50K Aug 15 08:05 part-00110-1095f2b8-5a76-4c3b-b7bc-cf2c3110affb-c000.snappy.parquet\n",
      "-rw-r--r-- 1 sweantu sweantu 50K Aug 15 08:05 part-00111-1095f2b8-5a76-4c3b-b7bc-cf2c3110affb-c000.snappy.parquet\n",
      "-rw-r--r-- 1 sweantu sweantu 50K Aug 15 08:05 part-00112-1095f2b8-5a76-4c3b-b7bc-cf2c3110affb-c000.snappy.parquet\n",
      "-rw-r--r-- 1 sweantu sweantu 50K Aug 15 08:05 part-00113-1095f2b8-5a76-4c3b-b7bc-cf2c3110affb-c000.snappy.parquet\n",
      "-rw-r--r-- 1 sweantu sweantu 50K Aug 15 08:05 part-00114-1095f2b8-5a76-4c3b-b7bc-cf2c3110affb-c000.snappy.parquet\n",
      "-rw-r--r-- 1 sweantu sweantu 50K Aug 15 08:05 part-00115-1095f2b8-5a76-4c3b-b7bc-cf2c3110affb-c000.snappy.parquet\n",
      "-rw-r--r-- 1 sweantu sweantu 50K Aug 15 08:05 part-00116-1095f2b8-5a76-4c3b-b7bc-cf2c3110affb-c000.snappy.parquet\n",
      "-rw-r--r-- 1 sweantu sweantu 50K Aug 15 08:05 part-00117-1095f2b8-5a76-4c3b-b7bc-cf2c3110affb-c000.snappy.parquet\n",
      "-rw-r--r-- 1 sweantu sweantu 50K Aug 15 08:05 part-00118-1095f2b8-5a76-4c3b-b7bc-cf2c3110affb-c000.snappy.parquet\n",
      "-rw-r--r-- 1 sweantu sweantu 50K Aug 15 08:05 part-00119-1095f2b8-5a76-4c3b-b7bc-cf2c3110affb-c000.snappy.parquet\n",
      "-rw-r--r-- 1 sweantu sweantu 51K Aug 15 08:05 part-00120-1095f2b8-5a76-4c3b-b7bc-cf2c3110affb-c000.snappy.parquet\n",
      "-rw-r--r-- 1 sweantu sweantu 50K Aug 15 08:05 part-00121-1095f2b8-5a76-4c3b-b7bc-cf2c3110affb-c000.snappy.parquet\n",
      "-rw-r--r-- 1 sweantu sweantu 50K Aug 15 08:05 part-00122-1095f2b8-5a76-4c3b-b7bc-cf2c3110affb-c000.snappy.parquet\n",
      "-rw-r--r-- 1 sweantu sweantu 50K Aug 15 08:05 part-00123-1095f2b8-5a76-4c3b-b7bc-cf2c3110affb-c000.snappy.parquet\n",
      "-rw-r--r-- 1 sweantu sweantu 50K Aug 15 08:05 part-00124-1095f2b8-5a76-4c3b-b7bc-cf2c3110affb-c000.snappy.parquet\n",
      "-rw-r--r-- 1 sweantu sweantu 50K Aug 15 08:05 part-00125-1095f2b8-5a76-4c3b-b7bc-cf2c3110affb-c000.snappy.parquet\n",
      "-rw-r--r-- 1 sweantu sweantu 50K Aug 15 08:05 part-00126-1095f2b8-5a76-4c3b-b7bc-cf2c3110affb-c000.snappy.parquet\n",
      "-rw-r--r-- 1 sweantu sweantu 50K Aug 15 08:05 part-00127-1095f2b8-5a76-4c3b-b7bc-cf2c3110affb-c000.snappy.parquet\n",
      "-rw-r--r-- 1 sweantu sweantu 50K Aug 15 08:05 part-00128-1095f2b8-5a76-4c3b-b7bc-cf2c3110affb-c000.snappy.parquet\n",
      "-rw-r--r-- 1 sweantu sweantu 50K Aug 15 08:05 part-00129-1095f2b8-5a76-4c3b-b7bc-cf2c3110affb-c000.snappy.parquet\n",
      "-rw-r--r-- 1 sweantu sweantu 50K Aug 15 08:05 part-00130-1095f2b8-5a76-4c3b-b7bc-cf2c3110affb-c000.snappy.parquet\n",
      "-rw-r--r-- 1 sweantu sweantu 49K Aug 15 08:05 part-00131-1095f2b8-5a76-4c3b-b7bc-cf2c3110affb-c000.snappy.parquet\n",
      "-rw-r--r-- 1 sweantu sweantu 50K Aug 15 08:05 part-00132-1095f2b8-5a76-4c3b-b7bc-cf2c3110affb-c000.snappy.parquet\n",
      "-rw-r--r-- 1 sweantu sweantu 50K Aug 15 08:05 part-00133-1095f2b8-5a76-4c3b-b7bc-cf2c3110affb-c000.snappy.parquet\n",
      "-rw-r--r-- 1 sweantu sweantu 49K Aug 15 08:05 part-00134-1095f2b8-5a76-4c3b-b7bc-cf2c3110affb-c000.snappy.parquet\n",
      "-rw-r--r-- 1 sweantu sweantu 50K Aug 15 08:05 part-00135-1095f2b8-5a76-4c3b-b7bc-cf2c3110affb-c000.snappy.parquet\n",
      "-rw-r--r-- 1 sweantu sweantu 50K Aug 15 08:05 part-00136-1095f2b8-5a76-4c3b-b7bc-cf2c3110affb-c000.snappy.parquet\n",
      "-rw-r--r-- 1 sweantu sweantu 50K Aug 15 08:05 part-00137-1095f2b8-5a76-4c3b-b7bc-cf2c3110affb-c000.snappy.parquet\n",
      "-rw-r--r-- 1 sweantu sweantu 50K Aug 15 08:05 part-00138-1095f2b8-5a76-4c3b-b7bc-cf2c3110affb-c000.snappy.parquet\n",
      "-rw-r--r-- 1 sweantu sweantu 50K Aug 15 08:05 part-00139-1095f2b8-5a76-4c3b-b7bc-cf2c3110affb-c000.snappy.parquet\n",
      "-rw-r--r-- 1 sweantu sweantu 50K Aug 15 08:05 part-00140-1095f2b8-5a76-4c3b-b7bc-cf2c3110affb-c000.snappy.parquet\n",
      "-rw-r--r-- 1 sweantu sweantu 50K Aug 15 08:05 part-00141-1095f2b8-5a76-4c3b-b7bc-cf2c3110affb-c000.snappy.parquet\n",
      "-rw-r--r-- 1 sweantu sweantu 50K Aug 15 08:05 part-00142-1095f2b8-5a76-4c3b-b7bc-cf2c3110affb-c000.snappy.parquet\n",
      "-rw-r--r-- 1 sweantu sweantu 49K Aug 15 08:05 part-00143-1095f2b8-5a76-4c3b-b7bc-cf2c3110affb-c000.snappy.parquet\n",
      "-rw-r--r-- 1 sweantu sweantu 50K Aug 15 08:05 part-00144-1095f2b8-5a76-4c3b-b7bc-cf2c3110affb-c000.snappy.parquet\n",
      "-rw-r--r-- 1 sweantu sweantu 50K Aug 15 08:05 part-00145-1095f2b8-5a76-4c3b-b7bc-cf2c3110affb-c000.snappy.parquet\n",
      "-rw-r--r-- 1 sweantu sweantu 50K Aug 15 08:05 part-00146-1095f2b8-5a76-4c3b-b7bc-cf2c3110affb-c000.snappy.parquet\n",
      "-rw-r--r-- 1 sweantu sweantu 50K Aug 15 08:05 part-00147-1095f2b8-5a76-4c3b-b7bc-cf2c3110affb-c000.snappy.parquet\n",
      "-rw-r--r-- 1 sweantu sweantu 50K Aug 15 08:05 part-00148-1095f2b8-5a76-4c3b-b7bc-cf2c3110affb-c000.snappy.parquet\n",
      "-rw-r--r-- 1 sweantu sweantu 50K Aug 15 08:05 part-00149-1095f2b8-5a76-4c3b-b7bc-cf2c3110affb-c000.snappy.parquet\n",
      "-rw-r--r-- 1 sweantu sweantu 50K Aug 15 08:05 part-00150-1095f2b8-5a76-4c3b-b7bc-cf2c3110affb-c000.snappy.parquet\n",
      "-rw-r--r-- 1 sweantu sweantu 50K Aug 15 08:05 part-00151-1095f2b8-5a76-4c3b-b7bc-cf2c3110affb-c000.snappy.parquet\n",
      "-rw-r--r-- 1 sweantu sweantu 50K Aug 15 08:05 part-00152-1095f2b8-5a76-4c3b-b7bc-cf2c3110affb-c000.snappy.parquet\n",
      "-rw-r--r-- 1 sweantu sweantu 50K Aug 15 08:05 part-00153-1095f2b8-5a76-4c3b-b7bc-cf2c3110affb-c000.snappy.parquet\n",
      "-rw-r--r-- 1 sweantu sweantu 50K Aug 15 08:05 part-00154-1095f2b8-5a76-4c3b-b7bc-cf2c3110affb-c000.snappy.parquet\n",
      "-rw-r--r-- 1 sweantu sweantu 50K Aug 15 08:05 part-00155-1095f2b8-5a76-4c3b-b7bc-cf2c3110affb-c000.snappy.parquet\n",
      "-rw-r--r-- 1 sweantu sweantu 50K Aug 15 08:05 part-00156-1095f2b8-5a76-4c3b-b7bc-cf2c3110affb-c000.snappy.parquet\n",
      "-rw-r--r-- 1 sweantu sweantu 50K Aug 15 08:05 part-00157-1095f2b8-5a76-4c3b-b7bc-cf2c3110affb-c000.snappy.parquet\n",
      "-rw-r--r-- 1 sweantu sweantu 50K Aug 15 08:05 part-00158-1095f2b8-5a76-4c3b-b7bc-cf2c3110affb-c000.snappy.parquet\n",
      "-rw-r--r-- 1 sweantu sweantu 50K Aug 15 08:05 part-00159-1095f2b8-5a76-4c3b-b7bc-cf2c3110affb-c000.snappy.parquet\n",
      "-rw-r--r-- 1 sweantu sweantu 50K Aug 15 08:05 part-00160-1095f2b8-5a76-4c3b-b7bc-cf2c3110affb-c000.snappy.parquet\n",
      "-rw-r--r-- 1 sweantu sweantu 50K Aug 15 08:05 part-00161-1095f2b8-5a76-4c3b-b7bc-cf2c3110affb-c000.snappy.parquet\n",
      "-rw-r--r-- 1 sweantu sweantu 50K Aug 15 08:05 part-00162-1095f2b8-5a76-4c3b-b7bc-cf2c3110affb-c000.snappy.parquet\n",
      "-rw-r--r-- 1 sweantu sweantu 50K Aug 15 08:05 part-00163-1095f2b8-5a76-4c3b-b7bc-cf2c3110affb-c000.snappy.parquet\n",
      "-rw-r--r-- 1 sweantu sweantu 50K Aug 15 08:05 part-00164-1095f2b8-5a76-4c3b-b7bc-cf2c3110affb-c000.snappy.parquet\n",
      "-rw-r--r-- 1 sweantu sweantu 50K Aug 15 08:05 part-00165-1095f2b8-5a76-4c3b-b7bc-cf2c3110affb-c000.snappy.parquet\n",
      "-rw-r--r-- 1 sweantu sweantu 49K Aug 15 08:05 part-00166-1095f2b8-5a76-4c3b-b7bc-cf2c3110affb-c000.snappy.parquet\n",
      "-rw-r--r-- 1 sweantu sweantu 50K Aug 15 08:05 part-00167-1095f2b8-5a76-4c3b-b7bc-cf2c3110affb-c000.snappy.parquet\n",
      "-rw-r--r-- 1 sweantu sweantu 50K Aug 15 08:05 part-00168-1095f2b8-5a76-4c3b-b7bc-cf2c3110affb-c000.snappy.parquet\n",
      "-rw-r--r-- 1 sweantu sweantu 50K Aug 15 08:05 part-00169-1095f2b8-5a76-4c3b-b7bc-cf2c3110affb-c000.snappy.parquet\n",
      "-rw-r--r-- 1 sweantu sweantu 50K Aug 15 08:05 part-00170-1095f2b8-5a76-4c3b-b7bc-cf2c3110affb-c000.snappy.parquet\n",
      "-rw-r--r-- 1 sweantu sweantu 50K Aug 15 08:05 part-00171-1095f2b8-5a76-4c3b-b7bc-cf2c3110affb-c000.snappy.parquet\n",
      "-rw-r--r-- 1 sweantu sweantu 50K Aug 15 08:05 part-00172-1095f2b8-5a76-4c3b-b7bc-cf2c3110affb-c000.snappy.parquet\n",
      "-rw-r--r-- 1 sweantu sweantu 50K Aug 15 08:05 part-00173-1095f2b8-5a76-4c3b-b7bc-cf2c3110affb-c000.snappy.parquet\n",
      "-rw-r--r-- 1 sweantu sweantu 50K Aug 15 08:05 part-00174-1095f2b8-5a76-4c3b-b7bc-cf2c3110affb-c000.snappy.parquet\n",
      "-rw-r--r-- 1 sweantu sweantu 50K Aug 15 08:05 part-00175-1095f2b8-5a76-4c3b-b7bc-cf2c3110affb-c000.snappy.parquet\n",
      "-rw-r--r-- 1 sweantu sweantu 50K Aug 15 08:05 part-00176-1095f2b8-5a76-4c3b-b7bc-cf2c3110affb-c000.snappy.parquet\n",
      "-rw-r--r-- 1 sweantu sweantu 50K Aug 15 08:05 part-00177-1095f2b8-5a76-4c3b-b7bc-cf2c3110affb-c000.snappy.parquet\n",
      "-rw-r--r-- 1 sweantu sweantu 50K Aug 15 08:05 part-00178-1095f2b8-5a76-4c3b-b7bc-cf2c3110affb-c000.snappy.parquet\n",
      "-rw-r--r-- 1 sweantu sweantu 50K Aug 15 08:05 part-00179-1095f2b8-5a76-4c3b-b7bc-cf2c3110affb-c000.snappy.parquet\n",
      "-rw-r--r-- 1 sweantu sweantu 50K Aug 15 08:05 part-00180-1095f2b8-5a76-4c3b-b7bc-cf2c3110affb-c000.snappy.parquet\n",
      "-rw-r--r-- 1 sweantu sweantu 50K Aug 15 08:05 part-00181-1095f2b8-5a76-4c3b-b7bc-cf2c3110affb-c000.snappy.parquet\n",
      "-rw-r--r-- 1 sweantu sweantu 50K Aug 15 08:05 part-00182-1095f2b8-5a76-4c3b-b7bc-cf2c3110affb-c000.snappy.parquet\n",
      "-rw-r--r-- 1 sweantu sweantu 50K Aug 15 08:05 part-00183-1095f2b8-5a76-4c3b-b7bc-cf2c3110affb-c000.snappy.parquet\n",
      "-rw-r--r-- 1 sweantu sweantu 50K Aug 15 08:05 part-00184-1095f2b8-5a76-4c3b-b7bc-cf2c3110affb-c000.snappy.parquet\n",
      "-rw-r--r-- 1 sweantu sweantu 50K Aug 15 08:05 part-00185-1095f2b8-5a76-4c3b-b7bc-cf2c3110affb-c000.snappy.parquet\n",
      "-rw-r--r-- 1 sweantu sweantu 50K Aug 15 08:05 part-00186-1095f2b8-5a76-4c3b-b7bc-cf2c3110affb-c000.snappy.parquet\n",
      "-rw-r--r-- 1 sweantu sweantu 50K Aug 15 08:05 part-00187-1095f2b8-5a76-4c3b-b7bc-cf2c3110affb-c000.snappy.parquet\n",
      "-rw-r--r-- 1 sweantu sweantu 50K Aug 15 08:05 part-00188-1095f2b8-5a76-4c3b-b7bc-cf2c3110affb-c000.snappy.parquet\n",
      "-rw-r--r-- 1 sweantu sweantu 50K Aug 15 08:05 part-00189-1095f2b8-5a76-4c3b-b7bc-cf2c3110affb-c000.snappy.parquet\n",
      "-rw-r--r-- 1 sweantu sweantu 50K Aug 15 08:05 part-00190-1095f2b8-5a76-4c3b-b7bc-cf2c3110affb-c000.snappy.parquet\n",
      "-rw-r--r-- 1 sweantu sweantu 49K Aug 15 08:05 part-00191-1095f2b8-5a76-4c3b-b7bc-cf2c3110affb-c000.snappy.parquet\n",
      "-rw-r--r-- 1 sweantu sweantu 50K Aug 15 08:05 part-00192-1095f2b8-5a76-4c3b-b7bc-cf2c3110affb-c000.snappy.parquet\n",
      "-rw-r--r-- 1 sweantu sweantu 50K Aug 15 08:05 part-00193-1095f2b8-5a76-4c3b-b7bc-cf2c3110affb-c000.snappy.parquet\n",
      "-rw-r--r-- 1 sweantu sweantu 50K Aug 15 08:05 part-00194-1095f2b8-5a76-4c3b-b7bc-cf2c3110affb-c000.snappy.parquet\n",
      "-rw-r--r-- 1 sweantu sweantu 49K Aug 15 08:05 part-00195-1095f2b8-5a76-4c3b-b7bc-cf2c3110affb-c000.snappy.parquet\n",
      "-rw-r--r-- 1 sweantu sweantu 50K Aug 15 08:05 part-00196-1095f2b8-5a76-4c3b-b7bc-cf2c3110affb-c000.snappy.parquet\n",
      "-rw-r--r-- 1 sweantu sweantu 50K Aug 15 08:05 part-00197-1095f2b8-5a76-4c3b-b7bc-cf2c3110affb-c000.snappy.parquet\n",
      "-rw-r--r-- 1 sweantu sweantu 50K Aug 15 08:05 part-00198-1095f2b8-5a76-4c3b-b7bc-cf2c3110affb-c000.snappy.parquet\n",
      "-rw-r--r-- 1 sweantu sweantu 50K Aug 15 08:05 part-00199-1095f2b8-5a76-4c3b-b7bc-cf2c3110affb-c000.snappy.parquet\n"
     ]
    }
   ],
   "source": [
    "!ls -lhR 'data/report/revenue/total'"
   ]
  },
  {
   "cell_type": "code",
   "execution_count": 37,
   "id": "9dd2711c-c58e-43f6-8017-3990ba27d62f",
   "metadata": {},
   "outputs": [],
   "source": [
    "df_join = spark.read.parquet('data/report/revenue/total')"
   ]
  },
  {
   "cell_type": "code",
   "execution_count": 38,
   "id": "3f4b0de9-e6f9-4f27-9f59-aa0139bcceb5",
   "metadata": {},
   "outputs": [
    {
     "data": {
      "text/plain": [
       "DataFrame[hour: timestamp, zone: int, green_amount: double, green_number_records: bigint, yellow_amount: double, yellow_number_records: bigint]"
      ]
     },
     "execution_count": 38,
     "metadata": {},
     "output_type": "execute_result"
    }
   ],
   "source": [
    "df_join"
   ]
  },
  {
   "cell_type": "code",
   "execution_count": 39,
   "id": "703c1aa7-a39d-46fc-88ba-6cf2b8898e2a",
   "metadata": {},
   "outputs": [
    {
     "name": "stdout",
     "output_type": "stream",
     "text": [
      "--2025-08-15 08:07:36--  https://d37ci6vzurychx.cloudfront.net/misc/taxi_zone_lookup.csv\n",
      "Resolving d37ci6vzurychx.cloudfront.net (d37ci6vzurychx.cloudfront.net)... 18.160.201.50, 18.160.201.126, 18.160.201.131, ...\n",
      "Connecting to d37ci6vzurychx.cloudfront.net (d37ci6vzurychx.cloudfront.net)|18.160.201.50|:443... connected.\n",
      "HTTP request sent, awaiting response... 200 OK\n",
      "Length: 12331 (12K) [text/csv]\n",
      "Saving to: ‘taxi_zone_lookup.csv’\n",
      "\n",
      "taxi_zone_lookup.cs 100%[===================>]  12.04K  --.-KB/s    in 0s      \n",
      "\n",
      "2025-08-15 08:07:36 (119 MB/s) - ‘taxi_zone_lookup.csv’ saved [12331/12331]\n",
      "\n"
     ]
    }
   ],
   "source": [
    "!wget https://d37ci6vzurychx.cloudfront.net/misc/taxi_zone_lookup.csv"
   ]
  },
  {
   "cell_type": "code",
   "execution_count": 40,
   "id": "c85b240f-a1b3-4592-8a6f-9317cbf0d80d",
   "metadata": {},
   "outputs": [],
   "source": [
    "df = spark.read \\\n",
    "    .option(\"header\", \"true\") \\\n",
    "    .csv('taxi_zone_lookup.csv')"
   ]
  },
  {
   "cell_type": "code",
   "execution_count": 41,
   "id": "b3d22203-1030-4656-ade3-3c422b13ad34",
   "metadata": {},
   "outputs": [
    {
     "name": "stdout",
     "output_type": "stream",
     "text": [
      "+----------+-------------+--------------------+------------+\n",
      "|LocationID|      Borough|                Zone|service_zone|\n",
      "+----------+-------------+--------------------+------------+\n",
      "|         1|          EWR|      Newark Airport|         EWR|\n",
      "|         2|       Queens|         Jamaica Bay|   Boro Zone|\n",
      "|         3|        Bronx|Allerton/Pelham G...|   Boro Zone|\n",
      "|         4|    Manhattan|       Alphabet City| Yellow Zone|\n",
      "|         5|Staten Island|       Arden Heights|   Boro Zone|\n",
      "|         6|Staten Island|Arrochar/Fort Wad...|   Boro Zone|\n",
      "|         7|       Queens|             Astoria|   Boro Zone|\n",
      "|         8|       Queens|        Astoria Park|   Boro Zone|\n",
      "|         9|       Queens|          Auburndale|   Boro Zone|\n",
      "|        10|       Queens|        Baisley Park|   Boro Zone|\n",
      "|        11|     Brooklyn|          Bath Beach|   Boro Zone|\n",
      "|        12|    Manhattan|        Battery Park| Yellow Zone|\n",
      "|        13|    Manhattan|   Battery Park City| Yellow Zone|\n",
      "|        14|     Brooklyn|           Bay Ridge|   Boro Zone|\n",
      "|        15|       Queens|Bay Terrace/Fort ...|   Boro Zone|\n",
      "|        16|       Queens|             Bayside|   Boro Zone|\n",
      "|        17|     Brooklyn|             Bedford|   Boro Zone|\n",
      "|        18|        Bronx|        Bedford Park|   Boro Zone|\n",
      "|        19|       Queens|           Bellerose|   Boro Zone|\n",
      "|        20|        Bronx|             Belmont|   Boro Zone|\n",
      "+----------+-------------+--------------------+------------+\n",
      "only showing top 20 rows\n",
      "\n"
     ]
    }
   ],
   "source": [
    "df.show()"
   ]
  },
  {
   "cell_type": "code",
   "execution_count": 42,
   "id": "3926a44c-db13-41c8-86fe-b45430af9e1f",
   "metadata": {},
   "outputs": [],
   "source": [
    "df.write.parquet('zones')"
   ]
  },
  {
   "cell_type": "code",
   "execution_count": 43,
   "id": "977b0ff9-554c-417f-870d-f460a21fbb5d",
   "metadata": {},
   "outputs": [],
   "source": [
    "df_zones = spark.read.parquet('zones')"
   ]
  },
  {
   "cell_type": "code",
   "execution_count": 44,
   "id": "818f674e-eb76-47b0-8c5b-da7fd4ef3d40",
   "metadata": {},
   "outputs": [
    {
     "data": {
      "text/plain": [
       "DataFrame[LocationID: string, Borough: string, Zone: string, service_zone: string]"
      ]
     },
     "execution_count": 44,
     "metadata": {},
     "output_type": "execute_result"
    }
   ],
   "source": [
    "df_zones"
   ]
  },
  {
   "cell_type": "code",
   "execution_count": 45,
   "id": "765d1411-24e6-4712-863d-78e070bf3211",
   "metadata": {},
   "outputs": [],
   "source": [
    "df_result = df_join.join(df_zones, df_join.zone == df_zones.LocationID)"
   ]
  },
  {
   "cell_type": "code",
   "execution_count": 46,
   "id": "2f3f4a88-af55-45ce-96b8-2bcc58194007",
   "metadata": {},
   "outputs": [
    {
     "name": "stderr",
     "output_type": "stream",
     "text": [
      "                                                                                "
     ]
    }
   ],
   "source": [
    "df_result.drop('zone', 'LocationID').write.parquet('tmp/revenue-zones', mode='overwrite')"
   ]
  },
  {
   "cell_type": "code",
   "execution_count": 47,
   "id": "c9c041c1-08d5-4b13-b265-f9b5cc7c82e4",
   "metadata": {},
   "outputs": [
    {
     "name": "stdout",
     "output_type": "stream",
     "text": [
      "total 6.4M\n",
      "-rw-r--r-- 1 sweantu sweantu     0 Aug 15 08:15 _SUCCESS\n",
      "-rw-r--r-- 1 sweantu sweantu  1.1M Aug 15 08:15 part-00000-47228c72-8e7a-467f-8eba-6bdd9f0b5024-c000.snappy.parquet\n",
      "-rw-r--r-- 1 sweantu sweantu  1.1M Aug 15 08:15 part-00001-47228c72-8e7a-467f-8eba-6bdd9f0b5024-c000.snappy.parquet\n",
      "-rw-r--r-- 1 sweantu sweantu  1.1M Aug 15 08:15 part-00002-47228c72-8e7a-467f-8eba-6bdd9f0b5024-c000.snappy.parquet\n",
      "-rw-r--r-- 1 sweantu sweantu  1.1M Aug 15 08:15 part-00003-47228c72-8e7a-467f-8eba-6bdd9f0b5024-c000.snappy.parquet\n",
      "-rw-r--r-- 1 sweantu sweantu 1022K Aug 15 08:15 part-00004-47228c72-8e7a-467f-8eba-6bdd9f0b5024-c000.snappy.parquet\n",
      "-rw-r--r-- 1 sweantu sweantu 1021K Aug 15 08:15 part-00005-47228c72-8e7a-467f-8eba-6bdd9f0b5024-c000.snappy.parquet\n",
      "-rw-r--r-- 1 sweantu sweantu  293K Aug 15 08:15 part-00006-47228c72-8e7a-467f-8eba-6bdd9f0b5024-c000.snappy.parquet\n"
     ]
    }
   ],
   "source": [
    "!ls -lh tmp/revenue-zones/"
   ]
  },
  {
   "cell_type": "code",
   "execution_count": 48,
   "id": "9b4f6b51-83d4-4c99-8230-66999bd4dd58",
   "metadata": {},
   "outputs": [
    {
     "name": "stdout",
     "output_type": "stream",
     "text": [
      "+-------------------+----+------------------+--------------------+------------------+---------------------+----------+---------+--------------------+------------+\n",
      "|               hour|zone|      green_amount|green_number_records|     yellow_amount|yellow_number_records|LocationID|  Borough|                Zone|service_zone|\n",
      "+-------------------+----+------------------+--------------------+------------------+---------------------+----------+---------+--------------------+------------+\n",
      "|2021-06-21 17:00:00| 222|             18.48|                   1|              NULL|                 NULL|       222| Brooklyn|       Starrett City|   Boro Zone|\n",
      "|2021-06-13 18:00:00| 208|              NULL|                NULL|             22.37|                    1|       208|    Bronx|Schuylerville/Edg...|   Boro Zone|\n",
      "|2021-04-30 17:00:00| 179|             41.04|                   2|            136.23|                    7|       179|   Queens|         Old Astoria|   Boro Zone|\n",
      "|2021-05-13 23:00:00| 243|              NULL|                NULL|             66.15|                    3|       243|Manhattan|Washington Height...|   Boro Zone|\n",
      "|2021-07-10 18:00:00| 143|              NULL|                NULL|1584.6099999999994|                   97|       143|Manhattan| Lincoln Square West| Yellow Zone|\n",
      "|2021-01-13 07:00:00| 242|              NULL|                NULL|             25.84|                    3|       242|    Bronx|Van Nest/Morris Park|   Boro Zone|\n",
      "|2021-04-08 11:00:00|  42|136.32999999999998|                   8| 288.1900000000001|                   21|        42|Manhattan|Central Harlem North|   Boro Zone|\n",
      "|2021-01-23 15:00:00| 136|             16.93|                   1|              NULL|                 NULL|       136|    Bronx| Kingsbridge Heights|   Boro Zone|\n",
      "|2021-07-21 10:00:00| 135|              NULL|                NULL|             21.74|                    1|       135|   Queens|   Kew Gardens Hills|   Boro Zone|\n",
      "|2021-01-07 18:00:00| 113|             31.31|                   1| 652.8800000000001|                   42|       113|Manhattan|Greenwich Village...| Yellow Zone|\n",
      "|2021-05-24 18:00:00| 143|              NULL|                NULL|1227.3399999999997|                   80|       143|Manhattan| Lincoln Square West| Yellow Zone|\n",
      "|2021-06-25 02:00:00|  56|              NULL|                NULL|              63.3|                    1|        56|   Queens|              Corona|   Boro Zone|\n",
      "|2021-04-15 12:00:00| 227|              NULL|                NULL|             28.64|                    1|       227| Brooklyn|    Sunset Park East|   Boro Zone|\n",
      "|2021-05-08 16:00:00| 182|              NULL|                NULL|              54.6|                    1|       182|    Bronx|         Parkchester|   Boro Zone|\n",
      "|2021-04-03 12:00:00| 233|              NULL|                NULL| 936.2899999999993|                   61|       233|Manhattan| UN/Turtle Bay South| Yellow Zone|\n",
      "|2021-03-09 08:00:00| 248|              NULL|                NULL|             39.95|                    2|       248|    Bronx|West Farms/Bronx ...|   Boro Zone|\n",
      "|2021-03-31 08:00:00| 246|              NULL|                NULL|           1058.15|                   58|       246|Manhattan|West Chelsea/Huds...| Yellow Zone|\n",
      "|2021-01-12 18:00:00|  91|              NULL|                NULL|             29.32|                    1|        91| Brooklyn|           Flatlands|   Boro Zone|\n",
      "|2021-04-10 12:00:00| 132|              NULL|                NULL|2386.5200000000004|                   47|       132|   Queens|         JFK Airport|    Airports|\n",
      "|2021-06-23 16:00:00|  71|              NULL|                NULL|             51.16|                    1|        71| Brooklyn|East Flatbush/Far...|   Boro Zone|\n",
      "+-------------------+----+------------------+--------------------+------------------+---------------------+----------+---------+--------------------+------------+\n",
      "only showing top 20 rows\n",
      "\n"
     ]
    }
   ],
   "source": [
    "df_result.show()"
   ]
  },
  {
   "cell_type": "code",
   "execution_count": 49,
   "id": "a8579426-0d59-432c-884e-c565fa66b839",
   "metadata": {},
   "outputs": [
    {
     "name": "stdout",
     "output_type": "stream",
     "text": [
      "+-------------------+------------+--------------------+------------------+---------------------+---------+------------+\n",
      "|               hour|green_amount|green_number_records|     yellow_amount|yellow_number_records|  Borough|service_zone|\n",
      "+-------------------+------------+--------------------+------------------+---------------------+---------+------------+\n",
      "|2021-06-21 17:00:00|       18.48|                   1|              NULL|                 NULL| Brooklyn|   Boro Zone|\n",
      "|2021-06-13 18:00:00|        NULL|                NULL|             22.37|                    1|    Bronx|   Boro Zone|\n",
      "|2021-04-30 17:00:00|       41.04|                   2|            136.23|                    7|   Queens|   Boro Zone|\n",
      "|2021-05-13 23:00:00|        NULL|                NULL|             66.15|                    3|Manhattan|   Boro Zone|\n",
      "|2021-07-10 18:00:00|        NULL|                NULL|1584.6099999999994|                   97|Manhattan| Yellow Zone|\n",
      "+-------------------+------------+--------------------+------------------+---------------------+---------+------------+\n",
      "\n"
     ]
    }
   ],
   "source": [
    "df_result.drop('zone', 'LocationID').limit(5).show()"
   ]
  },
  {
   "cell_type": "code",
   "execution_count": null,
   "id": "d78e16a4-e25b-4ef9-8ef1-009f422bda1c",
   "metadata": {},
   "outputs": [],
   "source": []
  }
 ],
 "metadata": {
  "kernelspec": {
   "display_name": "Python 3 (ipykernel)",
   "language": "python",
   "name": "python3"
  },
  "language_info": {
   "codemirror_mode": {
    "name": "ipython",
    "version": 3
   },
   "file_extension": ".py",
   "mimetype": "text/x-python",
   "name": "python",
   "nbconvert_exporter": "python",
   "pygments_lexer": "ipython3",
   "version": "3.11.13"
  }
 },
 "nbformat": 4,
 "nbformat_minor": 5
}
